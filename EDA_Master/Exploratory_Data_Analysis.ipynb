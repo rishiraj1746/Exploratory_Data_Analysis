{
 "cells": [
  {
   "cell_type": "code",
   "execution_count": 1,
   "metadata": {},
   "outputs": [],
   "source": [
    "import warnings\n",
    "warnings.filterwarnings(\"ignore\")"
   ]
  },
  {
   "cell_type": "markdown",
   "metadata": {},
   "source": [
    "## Import basic required packages"
   ]
  },
  {
   "cell_type": "code",
   "execution_count": 2,
   "metadata": {},
   "outputs": [],
   "source": [
    "import numpy as np\n",
    "import pandas as pd\n",
    "import matplotlib.pyplot as plt\n",
    "import seaborn as sns"
   ]
  },
  {
   "cell_type": "markdown",
   "metadata": {},
   "source": [
    "## Import data\n",
    "## Structured Data"
   ]
  },
  {
   "cell_type": "code",
   "execution_count": 3,
   "metadata": {},
   "outputs": [
    {
     "data": {
      "text/html": [
       "<div>\n",
       "<style scoped>\n",
       "    .dataframe tbody tr th:only-of-type {\n",
       "        vertical-align: middle;\n",
       "    }\n",
       "\n",
       "    .dataframe tbody tr th {\n",
       "        vertical-align: top;\n",
       "    }\n",
       "\n",
       "    .dataframe thead th {\n",
       "        text-align: right;\n",
       "    }\n",
       "</style>\n",
       "<table border=\"1\" class=\"dataframe\">\n",
       "  <thead>\n",
       "    <tr style=\"text-align: right;\">\n",
       "      <th></th>\n",
       "      <th>userID</th>\n",
       "      <th>placeID</th>\n",
       "      <th>food_rating</th>\n",
       "      <th>service_rating</th>\n",
       "    </tr>\n",
       "  </thead>\n",
       "  <tbody>\n",
       "    <tr>\n",
       "      <th>0</th>\n",
       "      <td>U1077</td>\n",
       "      <td>135085</td>\n",
       "      <td>2</td>\n",
       "      <td>2</td>\n",
       "    </tr>\n",
       "    <tr>\n",
       "      <th>1</th>\n",
       "      <td>U1077</td>\n",
       "      <td>135038</td>\n",
       "      <td>2</td>\n",
       "      <td>1</td>\n",
       "    </tr>\n",
       "    <tr>\n",
       "      <th>2</th>\n",
       "      <td>U1077</td>\n",
       "      <td>132825</td>\n",
       "      <td>2</td>\n",
       "      <td>2</td>\n",
       "    </tr>\n",
       "    <tr>\n",
       "      <th>3</th>\n",
       "      <td>U1077</td>\n",
       "      <td>135060</td>\n",
       "      <td>2</td>\n",
       "      <td>2</td>\n",
       "    </tr>\n",
       "    <tr>\n",
       "      <th>4</th>\n",
       "      <td>U1068</td>\n",
       "      <td>135104</td>\n",
       "      <td>1</td>\n",
       "      <td>2</td>\n",
       "    </tr>\n",
       "  </tbody>\n",
       "</table>\n",
       "</div>"
      ],
      "text/plain": [
       "  userID  placeID  food_rating  service_rating\n",
       "0  U1077   135085            2               2\n",
       "1  U1077   135038            2               1\n",
       "2  U1077   132825            2               2\n",
       "3  U1077   135060            2               2\n",
       "4  U1068   135104            1               2"
      ]
     },
     "execution_count": 3,
     "metadata": {},
     "output_type": "execute_result"
    }
   ],
   "source": [
    "#Importing Data from .CSV Files - user_rating\n",
    "user_rating = pd.read_csv(\"Data/user_rating.csv\")\n",
    "user_rating.head()"
   ]
  },
  {
   "cell_type": "code",
   "execution_count": 4,
   "metadata": {},
   "outputs": [
    {
     "data": {
      "text/html": [
       "<div>\n",
       "<style scoped>\n",
       "    .dataframe tbody tr th:only-of-type {\n",
       "        vertical-align: middle;\n",
       "    }\n",
       "\n",
       "    .dataframe tbody tr th {\n",
       "        vertical-align: top;\n",
       "    }\n",
       "\n",
       "    .dataframe thead th {\n",
       "        text-align: right;\n",
       "    }\n",
       "</style>\n",
       "<table border=\"1\" class=\"dataframe\">\n",
       "  <thead>\n",
       "    <tr style=\"text-align: right;\">\n",
       "      <th></th>\n",
       "      <th>gender</th>\n",
       "      <th>smoker</th>\n",
       "      <th>drink_level</th>\n",
       "      <th>dress_preference</th>\n",
       "      <th>ambience</th>\n",
       "      <th>transport</th>\n",
       "      <th>marital_status</th>\n",
       "      <th>interest</th>\n",
       "      <th>personality</th>\n",
       "      <th>religion</th>\n",
       "      <th>activity</th>\n",
       "      <th>income</th>\n",
       "      <th>FRVPM</th>\n",
       "      <th>AERPM</th>\n",
       "    </tr>\n",
       "  </thead>\n",
       "  <tbody>\n",
       "    <tr>\n",
       "      <th>0</th>\n",
       "      <td>male</td>\n",
       "      <td>False</td>\n",
       "      <td>abstemious</td>\n",
       "      <td>informal</td>\n",
       "      <td>family</td>\n",
       "      <td>on foot</td>\n",
       "      <td>single</td>\n",
       "      <td>variety</td>\n",
       "      <td>thrifty-protector</td>\n",
       "      <td>none</td>\n",
       "      <td>student</td>\n",
       "      <td>medium</td>\n",
       "      <td>12</td>\n",
       "      <td>2976</td>\n",
       "    </tr>\n",
       "    <tr>\n",
       "      <th>1</th>\n",
       "      <td>female</td>\n",
       "      <td>False</td>\n",
       "      <td>abstemious</td>\n",
       "      <td>informal</td>\n",
       "      <td>family</td>\n",
       "      <td>public</td>\n",
       "      <td>single</td>\n",
       "      <td>technology</td>\n",
       "      <td>hunter-ostentatious</td>\n",
       "      <td>Catholic</td>\n",
       "      <td>student</td>\n",
       "      <td>low</td>\n",
       "      <td>12</td>\n",
       "      <td>3648</td>\n",
       "    </tr>\n",
       "    <tr>\n",
       "      <th>2</th>\n",
       "      <td>female</td>\n",
       "      <td>False</td>\n",
       "      <td>social drinker</td>\n",
       "      <td>formal</td>\n",
       "      <td>family</td>\n",
       "      <td>public</td>\n",
       "      <td>single</td>\n",
       "      <td>none</td>\n",
       "      <td>hard-worker</td>\n",
       "      <td>Catholic</td>\n",
       "      <td>student</td>\n",
       "      <td>low</td>\n",
       "      <td>3</td>\n",
       "      <td>1461</td>\n",
       "    </tr>\n",
       "    <tr>\n",
       "      <th>3</th>\n",
       "      <td>male</td>\n",
       "      <td>False</td>\n",
       "      <td>abstemious</td>\n",
       "      <td>informal</td>\n",
       "      <td>family</td>\n",
       "      <td>public</td>\n",
       "      <td>single</td>\n",
       "      <td>variety</td>\n",
       "      <td>hard-worker</td>\n",
       "      <td>none</td>\n",
       "      <td>professional</td>\n",
       "      <td>medium</td>\n",
       "      <td>18</td>\n",
       "      <td>4014</td>\n",
       "    </tr>\n",
       "    <tr>\n",
       "      <th>4</th>\n",
       "      <td>female</td>\n",
       "      <td>False</td>\n",
       "      <td>abstemious</td>\n",
       "      <td>no preference</td>\n",
       "      <td>family</td>\n",
       "      <td>public</td>\n",
       "      <td>single</td>\n",
       "      <td>none</td>\n",
       "      <td>thrifty-protector</td>\n",
       "      <td>Catholic</td>\n",
       "      <td>student</td>\n",
       "      <td>medium</td>\n",
       "      <td>15</td>\n",
       "      <td>3045</td>\n",
       "    </tr>\n",
       "  </tbody>\n",
       "</table>\n",
       "</div>"
      ],
      "text/plain": [
       "   gender smoker     drink_level dress_preference ambience transport  \\\n",
       "0    male  False      abstemious         informal   family   on foot   \n",
       "1  female  False      abstemious         informal   family    public   \n",
       "2  female  False  social drinker           formal   family    public   \n",
       "3    male  False      abstemious         informal   family    public   \n",
       "4  female  False      abstemious    no preference   family    public   \n",
       "\n",
       "  marital_status    interest          personality  religion      activity  \\\n",
       "0         single     variety    thrifty-protector      none       student   \n",
       "1         single  technology  hunter-ostentatious  Catholic       student   \n",
       "2         single        none          hard-worker  Catholic       student   \n",
       "3         single     variety          hard-worker      none  professional   \n",
       "4         single        none    thrifty-protector  Catholic       student   \n",
       "\n",
       "   income  FRVPM  AERPM  \n",
       "0  medium     12   2976  \n",
       "1     low     12   3648  \n",
       "2     low      3   1461  \n",
       "3  medium     18   4014  \n",
       "4  medium     15   3045  "
      ]
     },
     "execution_count": 4,
     "metadata": {},
     "output_type": "execute_result"
    }
   ],
   "source": [
    "#Importing Data from Spread Sheets - consumer_survey\n",
    "consumer_survey = pd.read_excel(\"Data/consumer_survey.xlsx\")\n",
    "consumer_survey.head()"
   ]
  },
  {
   "cell_type": "code",
   "execution_count": 5,
   "metadata": {},
   "outputs": [
    {
     "data": {
      "text/html": [
       "<div>\n",
       "<style scoped>\n",
       "    .dataframe tbody tr th:only-of-type {\n",
       "        vertical-align: middle;\n",
       "    }\n",
       "\n",
       "    .dataframe tbody tr th {\n",
       "        vertical-align: top;\n",
       "    }\n",
       "\n",
       "    .dataframe thead th {\n",
       "        text-align: right;\n",
       "    }\n",
       "</style>\n",
       "<table border=\"1\" class=\"dataframe\">\n",
       "  <thead>\n",
       "    <tr style=\"text-align: right;\">\n",
       "      <th></th>\n",
       "      <th>placeID</th>\n",
       "      <th>parking_lot</th>\n",
       "    </tr>\n",
       "  </thead>\n",
       "  <tbody>\n",
       "    <tr>\n",
       "      <th>0</th>\n",
       "      <td>135111</td>\n",
       "      <td>public</td>\n",
       "    </tr>\n",
       "    <tr>\n",
       "      <th>1</th>\n",
       "      <td>135110</td>\n",
       "      <td>none</td>\n",
       "    </tr>\n",
       "    <tr>\n",
       "      <th>2</th>\n",
       "      <td>135109</td>\n",
       "      <td>none</td>\n",
       "    </tr>\n",
       "    <tr>\n",
       "      <th>3</th>\n",
       "      <td>135108</td>\n",
       "      <td>none</td>\n",
       "    </tr>\n",
       "    <tr>\n",
       "      <th>4</th>\n",
       "      <td>135107</td>\n",
       "      <td>none</td>\n",
       "    </tr>\n",
       "  </tbody>\n",
       "</table>\n",
       "</div>"
      ],
      "text/plain": [
       "   placeID parking_lot\n",
       "0   135111      public\n",
       "1   135110        none\n",
       "2   135109        none\n",
       "3   135108        none\n",
       "4   135107        none"
      ]
     },
     "execution_count": 5,
     "metadata": {},
     "output_type": "execute_result"
    }
   ],
   "source": [
    "#Importing Data from Spread Sheets - restaurant_parking\n",
    "restaurant_parking = pd.read_excel(\"Data/restaurant_parking.xlsx\")\n",
    "restaurant_parking.head()"
   ]
  },
  {
   "cell_type": "code",
   "execution_count": 6,
   "metadata": {},
   "outputs": [
    {
     "data": {
      "text/html": [
       "<div>\n",
       "<style scoped>\n",
       "    .dataframe tbody tr th:only-of-type {\n",
       "        vertical-align: middle;\n",
       "    }\n",
       "\n",
       "    .dataframe tbody tr th {\n",
       "        vertical-align: top;\n",
       "    }\n",
       "\n",
       "    .dataframe thead th {\n",
       "        text-align: right;\n",
       "    }\n",
       "</style>\n",
       "<table border=\"1\" class=\"dataframe\">\n",
       "  <thead>\n",
       "    <tr style=\"text-align: right;\">\n",
       "      <th></th>\n",
       "      <th>Year</th>\n",
       "      <th>Dine_In</th>\n",
       "      <th>Home_Delivery</th>\n",
       "    </tr>\n",
       "  </thead>\n",
       "  <tbody>\n",
       "    <tr>\n",
       "      <th>0</th>\n",
       "      <td>1990</td>\n",
       "      <td>5649</td>\n",
       "      <td>0</td>\n",
       "    </tr>\n",
       "    <tr>\n",
       "      <th>1</th>\n",
       "      <td>1991</td>\n",
       "      <td>5539</td>\n",
       "      <td>0</td>\n",
       "    </tr>\n",
       "    <tr>\n",
       "      <th>2</th>\n",
       "      <td>1992</td>\n",
       "      <td>5760</td>\n",
       "      <td>104</td>\n",
       "    </tr>\n",
       "    <tr>\n",
       "      <th>3</th>\n",
       "      <td>1993</td>\n",
       "      <td>6509</td>\n",
       "      <td>76</td>\n",
       "    </tr>\n",
       "    <tr>\n",
       "      <th>4</th>\n",
       "      <td>1994</td>\n",
       "      <td>6982</td>\n",
       "      <td>156</td>\n",
       "    </tr>\n",
       "  </tbody>\n",
       "</table>\n",
       "</div>"
      ],
      "text/plain": [
       "   Year  Dine_In  Home_Delivery\n",
       "0  1990     5649              0\n",
       "1  1991     5539              0\n",
       "2  1992     5760            104\n",
       "3  1993     6509             76\n",
       "4  1994     6982            156"
      ]
     },
     "execution_count": 6,
     "metadata": {},
     "output_type": "execute_result"
    }
   ],
   "source": [
    "#Importing Data from Spread Sheets - dining_preferences\n",
    "dining_preferences = pd.read_excel(\"Data/dining_preferences.xlsx\")\n",
    "dining_preferences.head()"
   ]
  },
  {
   "cell_type": "code",
   "execution_count": 7,
   "metadata": {},
   "outputs": [
    {
     "data": {
      "text/html": [
       "<div>\n",
       "<style scoped>\n",
       "    .dataframe tbody tr th:only-of-type {\n",
       "        vertical-align: middle;\n",
       "    }\n",
       "\n",
       "    .dataframe tbody tr th {\n",
       "        vertical-align: top;\n",
       "    }\n",
       "\n",
       "    .dataframe thead th {\n",
       "        text-align: right;\n",
       "    }\n",
       "</style>\n",
       "<table border=\"1\" class=\"dataframe\">\n",
       "  <thead>\n",
       "    <tr style=\"text-align: right;\">\n",
       "      <th></th>\n",
       "      <th>placeID</th>\n",
       "      <th>Rcuisine</th>\n",
       "    </tr>\n",
       "  </thead>\n",
       "  <tbody>\n",
       "    <tr>\n",
       "      <th>0</th>\n",
       "      <td>132001</td>\n",
       "      <td>Dutch-Belgian</td>\n",
       "    </tr>\n",
       "    <tr>\n",
       "      <th>1</th>\n",
       "      <td>132002</td>\n",
       "      <td>Seafood</td>\n",
       "    </tr>\n",
       "    <tr>\n",
       "      <th>2</th>\n",
       "      <td>132003</td>\n",
       "      <td>International</td>\n",
       "    </tr>\n",
       "    <tr>\n",
       "      <th>3</th>\n",
       "      <td>132004</td>\n",
       "      <td>Seafood</td>\n",
       "    </tr>\n",
       "    <tr>\n",
       "      <th>4</th>\n",
       "      <td>132005</td>\n",
       "      <td>French</td>\n",
       "    </tr>\n",
       "  </tbody>\n",
       "</table>\n",
       "</div>"
      ],
      "text/plain": [
       "   placeID       Rcuisine\n",
       "0   132001  Dutch-Belgian\n",
       "1   132002        Seafood\n",
       "2   132003  International\n",
       "3   132004        Seafood\n",
       "4   132005         French"
      ]
     },
     "execution_count": 7,
     "metadata": {},
     "output_type": "execute_result"
    }
   ],
   "source": [
    "#Importing Data from Spread Sheets - restaurant cuisine\n",
    "restaurant_cuisine = pd.read_excel(\"Data/restaurant_cuisine.xlsx\")\n",
    "restaurant_cuisine.head()"
   ]
  },
  {
   "cell_type": "markdown",
   "metadata": {},
   "source": [
    "#### Optional code for MS Access Database\n",
    "#### Connecting and Fetching Data from MS Access Database - cuisine table\n",
    "import pyodbc\n",
    "\n",
    "conn_str = (r'Driver={Microsoft Access Driver (*.mdb, *.accdb)};DBQ=Data/restaurant_cuisine.accdb;')\n",
    "\n",
    "conn = pyodbc.connect(conn_str)\n",
    "\n",
    "cuisine = pd.read_sql('select * from cuisine', conn)\n",
    "\n",
    "conn.close()\n",
    "\n",
    "cuisine.head()"
   ]
  },
  {
   "cell_type": "code",
   "execution_count": 8,
   "metadata": {},
   "outputs": [],
   "source": [
    "# SQLite can be used as an open source data base framework\n",
    "# Incase sqlite3 is not installed, uncomment the line below, run it and restart the kernel\n",
    "# !pip install db-sqlite3"
   ]
  },
  {
   "cell_type": "code",
   "execution_count": 9,
   "metadata": {},
   "outputs": [
    {
     "data": {
      "text/plain": [
       "<sqlite3.Cursor at 0x249d99ba180>"
      ]
     },
     "execution_count": 9,
     "metadata": {},
     "output_type": "execute_result"
    }
   ],
   "source": [
    "#Importing Data from SQL database - restaurant_details table\n",
    "import sqlite3\n",
    "conn = sqlite3.connect('r_details.db')\n",
    "c = conn.cursor()\n",
    "\n",
    "# creating table\n",
    "c.execute('''create table restaurant_details\n",
    "(placeID number CONSTRAINT pk_p_p1 PRIMARY KEY, name varchar2(50),\n",
    "address varchar2(60), state varchar2(20),\n",
    "country varchar2(20), zip varchar2(20), alcohol varchar2(30),\n",
    "smoking_area varchar2(20), price varchar2(20),area varchar2(20),\n",
    "other_services varchar2(20), Region varchar2(10),\n",
    "Average_dine_in_per_month number);\n",
    "''')"
   ]
  },
  {
   "cell_type": "code",
   "execution_count": 10,
   "metadata": {},
   "outputs": [
    {
     "data": {
      "text/plain": [
       "<sqlite3.Cursor at 0x249d99ba180>"
      ]
     },
     "execution_count": 10,
     "metadata": {},
     "output_type": "execute_result"
    }
   ],
   "source": [
    "# populating values in the table\n",
    "c.executescript(\"\"\"\n",
    "    insert into restaurant_details values (134999,' Kiku Cuernavaca ',' Revolucion ',' Morelos ',' Mexico ','  ',' No_Alcohol_Served ',' none ',' medium ',' closed ',' none ',' West ',677);\n",
    "insert into restaurant_details values (132825,' puesto de tacos ',' esquina santos degollado y leon guzman ',' s.l.p. ',' mexico ',' 78280 ',' No_Alcohol_Served ',' none ',' low ',' open ',' none ',' West ',561);\n",
    "insert into restaurant_details values (135106,' El Rincon de San Francisco ',' Universidad 169 ',' San Luis Potosi ',' Mexico ',' 78000 ',' Wine-Beer ',' only at bar ',' medium ',' open ',' none ',' East ',743);\n",
    "insert into restaurant_details values (132667,' little pizza Emilio Portes Gil ',' calle emilio portes gil ',' tamaulipas ',' NA ','  ',' No_Alcohol_Served ',' none ',' low ',' closed ',' none ',' East ',546);\n",
    "insert into restaurant_details values (132613,' carnitas_mata ',' lic. Emilio portes gil ',' Tamaulipas ',' Mexico ','  ',' No_Alcohol_Served ',' permitted ',' medium ',' closed ',' none ',' East ',697);\n",
    "insert into restaurant_details values (135040,' Restaurant los Compadres ',' Camino a Simon Diaz 155 Centro ',' SLP ',' Mexico ',' 74000 ',' Wine-Beer ',' none ',' high ',' closed ',' none ',' West ',888);\n",
    "insert into restaurant_details values (132732,' Taqueria EL amigo  ',' Calle Mezquite Fracc Framboyanes ',' Tamaulipas ',' Mexico ',' 87018 ',' No_Alcohol_Served ',' none ',' low ',' open ',' none ',' West ',735);\n",
    "insert into restaurant_details values (132875,' shi ro ie ','  ','  ','  ','  ',' Wine-Beer ',' section ',' high ',' open ',' Internet ',' West ',980);\n",
    "insert into restaurant_details values (132609,' Pollo_Frito_Buenos_Aires ',' tampico ',' Tamaulipas ',' Mexico ','  ',' No_Alcohol_Served ',' not permitted ',' low ',' closed ',' none ',' East ',728);\n",
    "insert into restaurant_details values (135082,' la Estrella de Dimas ',' Villa de Pozos 192 Villa de Pozos ',' SLP ',' Mexico ',' 78421 ',' No_Alcohol_Served ',' none ',' medium ',' closed ',' none ',' East ',600);\n",
    "insert into restaurant_details values (135070,' Restaurante 75 ',' Villa de Pozos 4497 Villa de Pozos ',' SLP ',' Mexico ',' 78421 ',' No_Alcohol_Served ',' none ',' medium ',' closed ',' none ',' East ',415);\n",
    "insert into restaurant_details values (135069,' Abondance Restaurante Bar ',' Industrias 908 Valle Dorado ',' SLP ',' Mexico ',' 78399 ',' Wine-Beer ',' none ',' low ',' closed ',' none ',' East ',606);\n",
    "insert into restaurant_details values (135065,' El angel Restaurante ',' Venustiano Carranza 1625 Jardin ',' SLP ',' Mexico ',' 78250 ',' Wine-Beer ',' section ',' high ',' closed ',' none ',' East ',681);\n",
    "insert into restaurant_details values (135076,' Restaurante Pueblo Bonito ',' Mexico 2015 Providencia ',' SLP ',' Mexico ',' 78395 ',' Wine-Beer ',' none ',' high ',' closed ',' none ',' East ',993);\n",
    "insert into restaurant_details values (135086,' Mcdonalds Parque Tangamanga ',' Lateral Salvador Nava Martinez 3145 ',' SLP ',' Mexico ',' 78290 ',' No_Alcohol_Served ',' not permitted ',' medium ',' closed ',' none ',' East ',621);\n",
    "insert into restaurant_details values (132870,' Tortas y hamburguesas el gordo ',' Ricardo B. Anaya ',' San Luis Potosi ',' Mexico ','  ',' No_Alcohol_Served ',' not permitted ',' low ',' closed ',' none ',' East ',738);\n",
    "insert into restaurant_details values (132854,' Sirlone ',' carr. mexico ',' San Luis Potosi ',' Mexico ','  ',' Wine-Beer ',' none ',' medium ',' closed ',' none ',' East ',1048);\n",
    "insert into restaurant_details values (132937,' rockabilly  ',' agustin de iturbide ',' san luis potosi ',' mexico ','  ',' Full_Bar ',' section ',' low ',' closed ',' variety ',' West ',904);\n",
    "insert into restaurant_details values (132856,' Unicols Pizza ',' Plaza del Carmen ',' San Luis Potosi ',' Mexico ','  ',' Wine-Beer ',' none ',' low ',' closed ',' none ',' West ',1008);\n",
    "insert into restaurant_details values (132668,' TACOS EL GUERO ','  ',' tamaulipas ',' mexico ','  ',' No_Alcohol_Served ',' none ',' low ',' closed ',' none ',' East ',550);\n",
    "insert into restaurant_details values (135033,' Restaurant El Muladar de Calzada ',' De Guadalupe 460 San Miguelito ',' SLP ',' Mexico ',' 78399 ',' No_Alcohol_Served ',' section ',' medium ',' closed ',' none ',' East ',747);\n",
    "insert into restaurant_details values (132862,' La Posada del Virrey ',' Av. V. Carranza ',' San Luis Potosi ',' Mexico ','  ',' Wine-Beer ',' none ',' high ',' closed ',' none ',' East ',485);\n",
    "insert into restaurant_details values (134983,' Clothesline Carlos N Charlies ',' Domingo 10 711 El Empleado ',' Morelos ',' Mexico ',' 62250 ',' Full_Bar ',' section ',' high ',' closed ',' none ',' East ',652);\n",
    "insert into restaurant_details values (132851,' KFC ','  ',' San Luis Potosi ',' Mexico ','  ',' No_Alcohol_Served ',' not permitted ',' low ',' closed ',' none ',' East ',484);\n",
    "insert into restaurant_details values (135013,' Giovannis ',' 40 Norte Civac 1RA. Seccion ',' Morelos ',' Mexico ','  ',' No_Alcohol_Served ',' none ',' low ',' closed ',' none ',' East ',411);\n",
    "insert into restaurant_details values (135042,' Restaurant Oriental Express ',' Tangamanga 7 Tangamanga ',' SLP ',' Mexico ',' 78269 ',' No_Alcohol_Served ',' none ',' medium ',' closed ',' none ',' East ',347);\n",
    "insert into restaurant_details values (132768,' Mariscos Tia Licha ',' avenida salvador montiel  ',' morelos ',' mexico ',' 62320 ',' No_Alcohol_Served ',' not permitted ',' medium ',' closed ',' none ',' West ',917);\n",
    "insert into restaurant_details values (132561,' cafe ambar ','  ','  ','  ','  ',' No_Alcohol_Served ',' none ',' low ',' closed ',' none ',' East ',176);\n",
    "insert into restaurant_details values (135045,' Restaurante la Gran Via ',' Venustiano Carranza 560 Centro ',' SLP ',' Mexico ',' 78000 ',' Wine-Beer ',' none ',' high ',' closed ',' none ',' East ',443);\n",
    "insert into restaurant_details values (132847,' don burguers ',' r.b. anaya esq. florencia ',' slp ',' mexico ','  ',' No_Alcohol_Served ',' none ',' low ',' open ',' none ',' East ',362);\n",
    "insert into restaurant_details values (135054,' Restaurante y Pescaderia Tampico ',' Ricardo B. Anaya 2700 Estrella de Oriente ',' SLP ',' Mexico ',' 78000S ',' No_Alcohol_Served ',' none ',' high ',' closed ',' none ',' West ',355);\n",
    "insert into restaurant_details values (134975,' Rincon del Bife ','  ','  ','  ','  ',' Full_Bar ',' section ',' high ',' closed ',' variety ',' West ',777);\n",
    "insert into restaurant_details values (135053,' La Fontana Pizza Restaurante and Cafe ',' Satelite 606 Satelite ',' SLP ',' Mexico ',' 62460 ',' No_Alcohol_Served ',' section ',' high ',' closed ',' none ',' East ',565);\n",
    "insert into restaurant_details values (135050,' Restaurante la Estrella de Dima ',' Soledad Sn Arboledas de Soledad ',' SLP ',' Mexico ',' 78430 ',' Wine-Beer ',' none ',' high ',' closed ',' none ',' West ',773);\n",
    "insert into restaurant_details values (135025,' El Rincon de San Francisco ',' 1a. de Lozada 1 ',' SLP ',' Mexico ','  ',' No_Alcohol_Served ',' none ',' medium ',' closed ',' none ',' East ',344);\n",
    "insert into restaurant_details values (135030,' Preambulo Wifi Zone Cafe ',' Anahuac 805 ',' SLP ',' Mexico ','  ',' No_Alcohol_Served ',' none ',' medium ',' closed ',' Internet ',' West ',746);\n",
    "insert into restaurant_details values (135057,' El Herradero Restaurante and Bar ',' Costado Sur Central Camionera Km 2 ',' SLP ',' Mexico ',' 78390 ',' Wine-Beer ',' section ',' medium ',' closed ',' none ',' East ',674);\n",
    "insert into restaurant_details values (135079,' Koye Sushi ',' Nereo Rodriguez Barragan 450 E Centro ',' SLP ',' Mexico ',' 78000 ',' No_Alcohol_Served ',' none ',' high ',' closed ',' none ',' East ',748);\n",
    "insert into restaurant_details values (134992,' Restaurant Teely ',' La Pradera ',' Morelos ',' Mexico ','  ',' Wine-Beer ',' section ',' high ',' closed ',' none ',' East ',694);\n",
    "insert into restaurant_details values (132954,' la parroquia ',' venustiano carranza ',' san luis potosi ',' ? ','  ',' No_Alcohol_Served ',' not permitted ',' medium ',' closed ',' none ',' West ',897);\n",
    "insert into restaurant_details values (135041,' Luna Cafe ',' Francisco I. Madero 215 ',' SLP ',' Mexico ','  ',' Wine-Beer ',' none ',' medium ',' closed ',' none ',' West ',525);\n",
    "insert into restaurant_details values (132608,' Hamburguesas La perica ',' cd. mier ',' Tamaulipas ',' Mexico ','  ',' No_Alcohol_Served ',' permitted ',' low ',' open ',' none ',' West ',965);\n",
    "insert into restaurant_details values (135046,' Restaurante El Reyecito ',' Agricultura 595 del Valle ',' SLP ',' Mexico ',' 78200 ',' No_Alcohol_Served ',' none ',' medium ',' closed ',' none ',' East ',638);\n",
    "insert into restaurant_details values (132564,' churchs ','  ','  ','  ','  ',' No_Alcohol_Served ',' none ',' low ',' closed ',' none ',' West ',713);\n",
    "insert into restaurant_details values (132869,' Dominos Pizza ',' Ricardo B. Anaya ',' San Luis Potosi ',' Mexico ','  ',' No_Alcohol_Served ',' not permitted ',' medium ',' closed ',' none ',' West ',860);\n",
    "insert into restaurant_details values (132925,' el pueblito ','  ','  ','  ','  ',' Wine-Beer ',' not permitted ',' medium ',' closed ',' none ',' East ',348);\n",
    "insert into restaurant_details values (132955,' emilianos ',' venustiano carranza ',' mexico ','  ','  ',' Wine-Beer ',' none ',' low ',' closed ',' variety ',' East ',859);\n",
    "insert into restaurant_details values (135059,' Restaurant Bar Hacienda los Martinez ',' Santos Degollado 745 los Alamitos ',' SLP ',' Mexico ',' 78250 ',' Wine-Beer ',' section ',' medium ',' closed ',' none ',' East ',776);\n",
    "insert into restaurant_details values (135001,' Vips ',' Emiliano Zapata No. 825 Tlaltenongo ',' Morelos ',' Mexico ',' 62170 ',' Wine-Beer ',' none ',' medium ',' closed ',' none ',' West ',765);\n",
    "insert into restaurant_details values (135063,' Restaurante Alhondiga ',' Alhondiga 62 Centro ',' SLP ',' Mexico ',' 78000 ',' No_Alcohol_Served ',' none ',' medium ',' closed ',' none ',' West ',775);\n",
    "insert into restaurant_details values (135080,' los Toneles ',' Estatuto Juridico 1040 Burocratas ',' SLP ',' Mexico ',' 78270 ',' No_Alcohol_Served ',' section ',' high ',' closed ',' none ',' East ',466);\n",
    "insert into restaurant_details values (135000,' Restaurant los Pinos ',' Federal Mexico - Acapulco 10 3 de Mayo ',' Morelos ',' Mexico ',' 62790 ',' No_Alcohol_Served ',' none ',' medium ',' closed ',' none ',' West ',487);\n",
    "insert into restaurant_details values (135066,' Restaurante Guerra ',' 20 de Noviembre 1817 Tlaxcala ',' SLP ',' Mexico ',' 78038 ',' Wine-Beer ',' section ',' high ',' closed ',' none ',' East ',484);\n",
    "insert into restaurant_details values (135034,' Michiko Restaurant Japones ',' Cordillera de Los Alpes 160 Lomas 2 Seccion ',' SLP ',' Mexico ',' 78210 ',' No_Alcohol_Served ',' none ',' medium ',' closed ',' none ',' East ',354);\n",
    "insert into restaurant_details values (135060,' Restaurante Marisco Sam ',' Ignacio Allende 785 Centro ',' SLP ',' Mexico ',' 78310 ',' No_Alcohol_Served ',' none ',' medium ',' closed ',' none ',' West ',470);\n",
    "insert into restaurant_details values (135055,' la Cochinita Pibil Restaurante Yucateco ',' Venustiano Carranza 2175 Jardin ',' SLP ',' Mexico ',' 78270 ',' No_Alcohol_Served ',' section ',' high ',' closed ',' none ',' East ',434);\n",
    "insert into restaurant_details values (135108,' Potzocalli ',' Carretera Central Sn ','  ','  ','  ',' No_Alcohol_Served ',' none ',' low ',' closed ',' none ',' West ',526);\n",
    "insert into restaurant_details values (135074,' Restaurante la Parroquia Potosina ',' Venustiano Carranza 303 Centro ',' SLP ',' Mexico ',' 78000 ',' Wine-Beer ',' section ',' high ',' closed ',' none ',' West ',400);\n",
    "insert into restaurant_details values (135018,' El Oceano Dorado ',' Libramiento Burgos Colonia Las Animas ',' Morelos ',' Mexico ','  ',' Full_Bar ',' permitted ',' medium ',' open ',' variety ',' West ',1032);\n",
    "insert into restaurant_details values (135064,' Restaurante El Chivero S.A. de C.V. ',' Angel Veral 328 Altamira ',' SLP ',' Mexico ',' 78740 ',' No_Alcohol_Served ',' none ',' high ',' closed ',' none ',' East ',921);\n",
    "insert into restaurant_details values (135038,' Restaurant la Chalita ',' Guajardo Sn San Luis Potosi Centro ',' SLP ',' Mexico ',' 78000 ',' No_Alcohol_Served ',' section ',' medium ',' closed ',' none ',' West ',985);\n",
    "insert into restaurant_details values (135081,' El Club ',' Mexico 810 Centro ',' SLP ',' Mexico ',' 78000 ',' No_Alcohol_Served ',' none ',' medium ',' closed ',' none ',' West ',724);\n",
    "insert into restaurant_details values (132723,' Gordas de morales ','  ',' San Luis Potosi ',' Mexico ','  ',' Full_Bar ',' section ',' medium ',' closed ',' none ',' West ',318);\n",
    "insert into restaurant_details values (135051,' Restaurante Versalles ',' Francisco I. Madero 145 Centro ',' SLP ',' Mexico ',' 78000 ',' No_Alcohol_Served ',' section ',' low ',' closed ',' none ',' East ',808);\n",
    "insert into restaurant_details values (135021,' Subway ',' Rio Mayo 17 Vista Hermosa ',' Morelos ',' Mexico ',' 62290 ',' No_Alcohol_Served ',' not permitted ',' low ',' closed ',' none ',' West ',630);\n",
    "insert into restaurant_details values (135052,' La Cantina Restaurante ',' Ignacio Aldama 300 Centro ',' SLP ',' Mexico ',' 78000 ',' Full_Bar ',' none ',' high ',' closed ',' none ',' East ',916);\n",
    "insert into restaurant_details values (132845,' Cenaduria El Rincan de Tlaquepaque ',' av. seminario ',' san luis potosi ',' mexico ','  ',' No_Alcohol_Served ',' none ',' medium ',' closed ',' none ',' West ',848);\n",
    "insert into restaurant_details values (135011,' Los Vikingos ',' 36 Sur Civac ',' Morelos ',' Mexico ','  ',' No_Alcohol_Served ',' none ',' medium ',' closed ',' none ',' West ',223);\n",
    "insert into restaurant_details values (132858,' Hamburguesas Valle Dorado ',' Av. Coral ',' San Luis Potosi ',' Mexico ','  ',' No_Alcohol_Served ',' none ',' low ',' closed ',' none ',' East ',823);\n",
    "insert into restaurant_details values (135026,' la Cantina ',' Capitan Caldera No. 420 Tequisqueapan ',' SLP ',' Mexico ',' 78250 ',' Full_Bar ',' none ',' high ',' closed ',' none ',' East ',820);\n",
    "insert into restaurant_details values (132884,' dairy queen ','  ','  ','  ','  ',' No_Alcohol_Served ',' none ',' low ',' closed ',' none ',' East ',795);\n",
    "insert into restaurant_details values (135016,' Arrachela Grill ',' 69 Tres De Mayo ',' Morelos ',' Mexico ','  ',' No_Alcohol_Served ',' none ',' medium ',' closed ',' none ',' East ',852);\n",
    "insert into restaurant_details values (135104,' vips ','  ','  ','  ','  ',' Full_Bar ',' not permitted ',' medium ',' closed ',' variety ',' West ',487);\n",
    "insert into restaurant_details values (132630,' palomo tec ',' blvrd emilio portes gil ',' tamaulipas ',' ? ','  ',' No_Alcohol_Served ',' none ',' low ',' closed ',' none ',' East ',583);\n",
    "insert into restaurant_details values (135047,' Restaurante Casa de las Flores ',' General Mariano Arista 1205 Barrio de Tequisquiap ',' SLP ',' Mexico ',' 78310 ',' Wine-Beer ',' section ',' high ',' closed ',' none ',' West ',693);\n",
    "insert into restaurant_details values (132951,' VIPS ',' NICOLAS ZAPATA 300 ',' San Luis Potosi ',' Mexico ','  ',' No_Alcohol_Served ',' not permitted ',' low ',' closed ',' none ',' East ',441);\n",
    "insert into restaurant_details values (132665,' TACOS CORRECAMINOS ','  ',' tamaulipas ',' mexico ','  ',' No_Alcohol_Served ',' none ',' low ',' closed ',' none ',' East ',1057);\n",
    "insert into restaurant_details values (135044,' Restaurant Wu Zhuo Yi ',' Himno Nacional 100 Avenida ',' SLP ',' Mexico ',' 78240 ',' No_Alcohol_Served ',' none ',' medium ',' closed ',' none ',' East ',298);\n",
    "insert into restaurant_details values (135035,' El Mundo de la Pasta ',' Rio Papaloapan 265 Lomas de San Luis (3) ',' SLP ',' Mexico ',' 78210 ',' No_Alcohol_Served ',' section ',' high ',' closed ',' none ',' East ',177);\n",
    "insert into restaurant_details values (135071,' Restaurante la Cantina ',' De La Estrella 2005 Estrella de Oriente ',' SLP ',' Mexico ',' 78396 ',' Full_Bar ',' section ',' medium ',' closed ',' none ',' West ',835);\n",
    "insert into restaurant_details values (132834,' Gorditas Doa Gloria ',' sevilla y olmedo 715 a ',' san luis potosi ',' mexico ',' 78349 ',' No_Alcohol_Served ',' not permitted ',' low ',' closed ',' none ',' East ',284);\n",
    "insert into restaurant_details values (132846,' el lechon potosino  ',' circuito oriente esq. carretera 57 ',' slp ',' mexico ','  ',' No_Alcohol_Served ',' permitted ',' low ',' open ',' none ',' East ',868);\n",
    "insert into restaurant_details values (135048,' Restaurante Bar Fu-hao ',' Jesus Goytortua 390 Tangamanga ',' SLP ',' Mexico ',' 78269 ',' Wine-Beer ',' none ',' high ',' closed ',' none ',' East ',450);\n",
    "insert into restaurant_details values (132717,' tortas hawai ','  ','  ','  ','  ',' No_Alcohol_Served ',' not permitted ',' medium ',' closed ',' none ',' West ',813);\n",
    "insert into restaurant_details values (132861,' Carls Jr ',' Av. V. Carranza ',' San Luis Potosi ',' Mexico ','  ',' No_Alcohol_Served ',' not permitted ',' medium ',' closed ',' none ',' East ',551);\n",
    "insert into restaurant_details values (132885,' Hamburguesas saul ',' Av. Saan Luis enttre moctezuma y salinas ',' San Luis Potosi ',' mexico ',' 78433 ',' No_Alcohol_Served ',' none ',' low ',' closed ',' none ',' West ',1024);\n",
    "insert into restaurant_details values (132740,' Carreton de Flautas y Migadas ','  ',' Tamaulipas ',' Mexico ','  ',' No_Alcohol_Served ',' permitted ',' low ',' open ',' none ',' West ',736);\n",
    "insert into restaurant_details values (132830,' Rincon Huasteco ','  ','  ','  ','  ',' No_Alcohol_Served ',' none ',' low ',' closed ',' none ',' West ',780);\n",
    "insert into restaurant_details values (132773,' El cotorreo ',' Emiliano Zapata Col. Tres de Mayo ',' Morelos ','  ','  ',' Wine-Beer ',' permitted ',' low ',' open ',' none ',' East ',632);\n",
    "insert into restaurant_details values (132706,' Gorditas Dona Tota ',' Zaragoza entre Francisco Zarco y Lopez Velarde ',' Tamaulipas ',' Mexico ','  ',' No_Alcohol_Served ',' not permitted ',' medium ',' closed ',' none ',' East ',964);\n",
    "insert into restaurant_details values (132872,' Pizzeria Julios ','  ',' mexico ','  ','  ',' No_Alcohol_Served ',' not permitted ',' medium ',' closed ',' none ',' West ',810);\n",
    "insert into restaurant_details values (134987,' Chilis Cuernavaca ',' Rio Mayo Colonia Vista Hermosa Esq. Rio Balsas ',' Morelos ',' Mexico ',' 62290 ',' Wine-Beer ',' none ',' medium ',' closed ',' none ',' West ',1016);\n",
    "insert into restaurant_details values (132572,' Cafe Chaires ','  ',' San Luis Potosi ',' Mexico ','  ',' No_Alcohol_Served ',' not permitted ',' low ',' closed ',' none ',' West ',580);\n",
    "insert into restaurant_details values (132958,' tacos los volcanes ',' avenida hivno nacional ',' san luis potos ',' mexico ','  ',' No_Alcohol_Served ',' none ',' low ',' closed ',' none ',' West ',843);\n",
    "insert into restaurant_details values (132733,' Little Cesarz ','  ',' Tamaulipas ',' Mexico ','  ',' No_Alcohol_Served ',' not permitted ',' medium ',' closed ',' none ',' West ',897);\n",
    "insert into restaurant_details values (132922,' cafe punta del cielo ','  ','  ','  ','  ',' No_Alcohol_Served ',' permitted ',' medium ',' closed ',' none ',' West ',219);\n",
    "insert into restaurant_details values (132715,' tacos de la estacion ','  ','  ','  ','  ',' No_Alcohol_Served ',' none ',' low ',' open ',' none ',' East ',934);\n",
    "insert into restaurant_details values (135027,' Restaurant Orizatlan ',' Pascual M. Hernandez 240 ',' SLP ',' Mexico ','  ',' Wine-Beer ',' none ',' medium ',' closed ',' none ',' East ',280);\n",
    "insert into restaurant_details values (132767,' Restaurant Familiar El Chino ',' Paseo de las Fuentes ',' Morelos ','  ','  ',' Wine-Beer ',' permitted ',' medium ',' open ',' variety ',' West ',1047);\n",
    "insert into restaurant_details values (135039,' Restaurant de Mariscos de Picon ',' Miguel Barragan 46 Centro ',' SLP ',' Mexico ',' 79300 ',' No_Alcohol_Served ',' section ',' low ',' closed ',' none ',' East ',514);\n",
    "insert into restaurant_details values (134996,' Sanborns Casa Piedra ',' Lomas del Mirador ',' Morelos ',' Mexico ','  ',' Wine-Beer ',' only at bar ',' medium ',' closed ',' Internet ',' East ',300);\n",
    "insert into restaurant_details values (132755,' La Estrella de Dimas ',' Av. de los Pintores ',' S.L.P. ',' Mexico ','  ',' No_Alcohol_Served ',' none ',' medium ',' closed ',' variety ',' East ',445);\n",
    "insert into restaurant_details values (135043,' pizza clasica ',' 524 Soledad de Graciano Sanchez ',' SLP ',' Mexico ','  ',' No_Alcohol_Served ',' none ',' medium ',' closed ',' none ',' East ',304);\n",
    "insert into restaurant_details values (132654,' Carnitas Mata  Calle 16 de Septiembre ',' 16 de Septiembre ',' tamaulipas ','  ','  ',' No_Alcohol_Served ',' none ',' low ',' closed ',' none ',' East ',1027);\n",
    "insert into restaurant_details values (135049,' Restaurante de Mariscos la Langosta ',' Cordillera de Los Alpes 675 Loma Verde ',' SLP ',' Mexico ',' 78214 ',' No_Alcohol_Served ',' none ',' medium ',' closed ',' none ',' West ',406);\n",
    "insert into restaurant_details values (135073,' Restaurante Bar El Gallinero ',' Pascual M. Hernandez 210 Centro ',' SLP ',' Mexico ',' 78000 ',' Wine-Beer ',' section ',' high ',' closed ',' none ',' West ',222);\n",
    "insert into restaurant_details values (132560,' puesto de gorditas ',' frente al tecnologico ',' tamaulipas ',' mexico ','  ',' No_Alcohol_Served ',' permitted ',' low ',' open ',' none ',' West ',329);\n",
    "insert into restaurant_details values (134976,' Log Yin ','  ','  ','  ','  ',' No_Alcohol_Served ',' none ',' low ',' closed ',' none ',' West ',989);\n",
    "insert into restaurant_details values (135075,' Mariscos El Pescador ',' Himno Nacional 2104 Tangamanga ',' SLP ',' Mexico ',' 78269 ',' No_Alcohol_Served ',' none ',' medium ',' closed ',' none ',' East ',825);\n",
    "insert into restaurant_details values (132660,' carnitas mata calle Emilio Portes Gil ',' Emilio Portes Gil ',' tamaulipas ',' ? ','  ',' No_Alcohol_Served ',' none ',' low ',' closed ',' none ',' West ',954);\n",
    "insert into restaurant_details values (132921,' crudalia ','  ','  ','  ','  ',' Wine-Beer ',' section ',' low ',' open ',' none ',' East ',795);\n",
    "insert into restaurant_details values (132594,' tacos de barbacoa enfrente del Tec ','  ','  ','  ','  ',' No_Alcohol_Served ',' not permitted ',' low ',' open ',' none ',' East ',445);\n",
    "insert into restaurant_details values (134986,' Restaurant Las Mananitas ',' Ricardo Linares 107 ',' Morelos ',' Mexico ','  ',' Wine-Beer ',' none ',' high ',' closed ',' none ',' West ',431);\n",
    "insert into restaurant_details values (135062,' Restaurante El Cielo Potosino ',' Julian de Los Reyes 400 Centro ',' SLP ',' Mexico ',' 78000 ',' No_Alcohol_Served ',' none ',' medium ',' closed ',' none ',' West ',468);\n",
    "insert into restaurant_details values (132766,' Mikasa ',' Himno nacional esq. Blvd. Juarez ',' Morelos ',' Mexico ','  ',' Wine-Beer ',' none ',' medium ',' closed ',' none ',' East ',290);\n",
    "insert into restaurant_details values (135088,' Cafeteria cenidet ',' Interior Internado Palmira SN ',' Morelos ',' Mexico ','  ',' No_Alcohol_Served ',' not permitted ',' low ',' closed ',' none ',' East ',336);\n",
    "insert into restaurant_details values (135058,' Restaurante Tiberius ',' Munoz Sn Centro ',' SLP ',' Mexico ',' 64000 ',' No_Alcohol_Served ',' none ',' medium ',' closed ',' none ',' West ',514);\n",
    "insert into restaurant_details values (132754,' Cabana Huasteca ',' Cuauhtemoc 455 ',' S.L.P. ',' Mexico ','  ',' No_Alcohol_Served ',' none ',' medium ',' closed ',' none ',' West ',327);\n",
    "insert into restaurant_details values (132584,' Gorditas Dona Tota ','  ','  ','  ','  ',' No_Alcohol_Served ',' not permitted ',' medium ',' closed ',' none ',' East ',1043);\n",
    "insert into restaurant_details values (135032,' Cafeteria y Restaurant El Pacifico ',' Constitucion 200 Centro ',' SLP ',' Mexico ',' 78000 ',' Wine-Beer ',' section ',' medium ',' closed ',' none ',' East ',953);\n",
    "insert into restaurant_details values (135028,' La Virreina ',' Av. Carranza 830 ',' SLP ',' Mexico ','  ',' Wine-Beer ',' none ',' medium ',' closed ',' none ',' West ',616);\n",
    "insert into restaurant_details values (135085,' Tortas Locas Hipocampo ',' Venustiano Carranza 719 Centro ',' SLP ',' Mexico ',' 78000 ',' No_Alcohol_Served ',' not permitted ',' medium ',' closed ',' none ',' West ',819);\n",
    "insert into restaurant_details values (132663,' tacos abi ','  ',' tamaulipas ',' mexico ','  ',' No_Alcohol_Served ',' none ',' low ',' closed ',' none ',' West ',889);\n",
    "insert into restaurant_details values (132626,' la perica hamburguesa ','  ',' tamaulipas ','  ','  ',' No_Alcohol_Served ',' none ',' medium ',' closed ',' none ',' East ',454);\n",
    "insert into restaurant_details values (132583,' McDonalds Centro ',' Rayon sn col. Centro ',' Morelos ',' Mexico ',' 62000 ',' No_Alcohol_Served ',' not permitted ',' low ',' closed ',' none ',' West ',545);\n",
    "insert into restaurant_details values (132866,' Chaires ',' Ricardo B. Anaya ',' San Luis Potosi ',' Mexico ','  ',' No_Alcohol_Served ',' not permitted ',' medium ',' closed ',' none ',' West ',691);\n",
    "insert into restaurant_details values (135072,' Sushi Itto ',' Venustiano Carranza 1809 C Polanco ',' SLP ',' Mexico ',' 78220 ',' No_Alcohol_Served ',' none ',' medium ',' closed ',' none ',' West ',744);\n",
    "insert into restaurant_details values (135109,' Paniroles ','  ','  ','  ','  ',' Wine-Beer ',' not permitted ',' medium ',' closed ',' Internet ',' East ',191);\n",
    "insert into restaurant_details values (135019,' Restaurant Bar Coty y Pablo ',' Paseo de Las Fuentes 24 Pedregal de Las Fuentes ',' Morelos ',' Mexico ','  ',' No_Alcohol_Served ',' none ',' low ',' closed ',' none ',' West ',926);\n",
    "insert into restaurant_details values (132877,' sirloin stockade ','  ','  ','  ','  ',' No_Alcohol_Served ',' none ',' low ',' closed ',' none ',' East ',668);\n",
    "    \"\"\")"
   ]
  },
  {
   "cell_type": "markdown",
   "metadata": {},
   "source": [
    "#### optional code \n",
    "#### For oracle db use the following \n",
    "#### Importing Data from Oracle database - restaurant_details table\n",
    "import cx_Oracle\n",
    "\n",
    "host = 'localhost'\n",
    "\n",
    "port = 1521\n",
    "\n",
    "SID = 'xe'\n",
    "\n",
    "dsn_tns = cx_Oracle.makedsn(host, port, SID)\n",
    "\n",
    "con = cx_Oracle.connect('DBUser1','data1', dsn_tns)\n",
    "\n",
    "restaurant_details = pd.read_sql(\"Select * from Restaurant_Details\",con)\n",
    "\n",
    "con.close()   \n",
    "\n",
    "restaurant_details.head()"
   ]
  },
  {
   "cell_type": "code",
   "execution_count": 11,
   "metadata": {},
   "outputs": [
    {
     "data": {
      "text/html": [
       "<div>\n",
       "<style scoped>\n",
       "    .dataframe tbody tr th:only-of-type {\n",
       "        vertical-align: middle;\n",
       "    }\n",
       "\n",
       "    .dataframe tbody tr th {\n",
       "        vertical-align: top;\n",
       "    }\n",
       "\n",
       "    .dataframe thead th {\n",
       "        text-align: right;\n",
       "    }\n",
       "</style>\n",
       "<table border=\"1\" class=\"dataframe\">\n",
       "  <thead>\n",
       "    <tr style=\"text-align: right;\">\n",
       "      <th></th>\n",
       "      <th>placeID</th>\n",
       "      <th>name</th>\n",
       "      <th>address</th>\n",
       "      <th>state</th>\n",
       "      <th>country</th>\n",
       "      <th>zip</th>\n",
       "      <th>alcohol</th>\n",
       "      <th>smoking_area</th>\n",
       "      <th>price</th>\n",
       "      <th>area</th>\n",
       "      <th>other_services</th>\n",
       "      <th>Region</th>\n",
       "      <th>Average_dine_in_per_month</th>\n",
       "    </tr>\n",
       "  </thead>\n",
       "  <tbody>\n",
       "    <tr>\n",
       "      <th>0</th>\n",
       "      <td>134999</td>\n",
       "      <td>Kiku Cuernavaca</td>\n",
       "      <td>Revolucion</td>\n",
       "      <td>Morelos</td>\n",
       "      <td>Mexico</td>\n",
       "      <td></td>\n",
       "      <td>No_Alcohol_Served</td>\n",
       "      <td>none</td>\n",
       "      <td>medium</td>\n",
       "      <td>closed</td>\n",
       "      <td>none</td>\n",
       "      <td>West</td>\n",
       "      <td>677</td>\n",
       "    </tr>\n",
       "    <tr>\n",
       "      <th>1</th>\n",
       "      <td>132825</td>\n",
       "      <td>puesto de tacos</td>\n",
       "      <td>esquina santos degollado y leon guzman</td>\n",
       "      <td>s.l.p.</td>\n",
       "      <td>mexico</td>\n",
       "      <td>78280</td>\n",
       "      <td>No_Alcohol_Served</td>\n",
       "      <td>none</td>\n",
       "      <td>low</td>\n",
       "      <td>open</td>\n",
       "      <td>none</td>\n",
       "      <td>West</td>\n",
       "      <td>561</td>\n",
       "    </tr>\n",
       "    <tr>\n",
       "      <th>2</th>\n",
       "      <td>135106</td>\n",
       "      <td>El Rincon de San Francisco</td>\n",
       "      <td>Universidad 169</td>\n",
       "      <td>San Luis Potosi</td>\n",
       "      <td>Mexico</td>\n",
       "      <td>78000</td>\n",
       "      <td>Wine-Beer</td>\n",
       "      <td>only at bar</td>\n",
       "      <td>medium</td>\n",
       "      <td>open</td>\n",
       "      <td>none</td>\n",
       "      <td>East</td>\n",
       "      <td>743</td>\n",
       "    </tr>\n",
       "    <tr>\n",
       "      <th>3</th>\n",
       "      <td>132667</td>\n",
       "      <td>little pizza Emilio Portes Gil</td>\n",
       "      <td>calle emilio portes gil</td>\n",
       "      <td>tamaulipas</td>\n",
       "      <td>NA</td>\n",
       "      <td></td>\n",
       "      <td>No_Alcohol_Served</td>\n",
       "      <td>none</td>\n",
       "      <td>low</td>\n",
       "      <td>closed</td>\n",
       "      <td>none</td>\n",
       "      <td>East</td>\n",
       "      <td>546</td>\n",
       "    </tr>\n",
       "    <tr>\n",
       "      <th>4</th>\n",
       "      <td>132613</td>\n",
       "      <td>carnitas_mata</td>\n",
       "      <td>lic. Emilio portes gil</td>\n",
       "      <td>Tamaulipas</td>\n",
       "      <td>Mexico</td>\n",
       "      <td></td>\n",
       "      <td>No_Alcohol_Served</td>\n",
       "      <td>permitted</td>\n",
       "      <td>medium</td>\n",
       "      <td>closed</td>\n",
       "      <td>none</td>\n",
       "      <td>East</td>\n",
       "      <td>697</td>\n",
       "    </tr>\n",
       "  </tbody>\n",
       "</table>\n",
       "</div>"
      ],
      "text/plain": [
       "   placeID                              name  \\\n",
       "0   134999                  Kiku Cuernavaca    \n",
       "1   132825                  puesto de tacos    \n",
       "2   135106       El Rincon de San Francisco    \n",
       "3   132667   little pizza Emilio Portes Gil    \n",
       "4   132613                    carnitas_mata    \n",
       "\n",
       "                                    address              state   country  \\\n",
       "0                               Revolucion            Morelos    Mexico    \n",
       "1   esquina santos degollado y leon guzman             s.l.p.    mexico    \n",
       "2                          Universidad 169    San Luis Potosi    Mexico    \n",
       "3                  calle emilio portes gil         tamaulipas        NA    \n",
       "4                   lic. Emilio portes gil         Tamaulipas    Mexico    \n",
       "\n",
       "       zip              alcohol   smoking_area     price      area  \\\n",
       "0            No_Alcohol_Served           none    medium    closed    \n",
       "1   78280    No_Alcohol_Served           none       low      open    \n",
       "2   78000            Wine-Beer    only at bar    medium      open    \n",
       "3            No_Alcohol_Served           none       low    closed    \n",
       "4            No_Alcohol_Served      permitted    medium    closed    \n",
       "\n",
       "  other_services  Region  Average_dine_in_per_month  \n",
       "0          none    West                         677  \n",
       "1          none    West                         561  \n",
       "2          none    East                         743  \n",
       "3          none    East                         546  \n",
       "4          none    East                         697  "
      ]
     },
     "execution_count": 11,
     "metadata": {},
     "output_type": "execute_result"
    }
   ],
   "source": [
    "# loading the SQL-table to a dataframe\n",
    "restaurant_details = pd.read_sql(\"Select * from restaurant_details\",conn)\n",
    "restaurant_details.head()"
   ]
  },
  {
   "cell_type": "markdown",
   "metadata": {},
   "source": [
    "## Semi-structured data"
   ]
  },
  {
   "cell_type": "code",
   "execution_count": 12,
   "metadata": {},
   "outputs": [
    {
     "name": "stdout",
     "output_type": "stream",
     "text": [
      "Restaurant Id : 41955207\n"
     ]
    }
   ],
   "source": [
    "#Importing Data from XML file\n",
    "import xml.etree.ElementTree as ET\n",
    "tree = ET.parse('Data/reviews.xml')\n",
    "root = tree.getroot()\n",
    "print(root.tag,\"Id :\", root.attrib['id'])"
   ]
  },
  {
   "cell_type": "code",
   "execution_count": 13,
   "metadata": {},
   "outputs": [],
   "source": [
    "#Extract all the data from elements and sub elements\n",
    "restaurantDict = {}\n",
    "reviewDict = {}\n",
    "specialFeaturesList = []\n",
    "reviewsList = []\n",
    "\n",
    "for elem in root:\n",
    "    restaurantDict.update({elem.tag:elem.text})\n",
    "    for subelem in elem:\n",
    "        if elem.tag == \"SpecialFeatures\":\n",
    "            specialFeaturesList.append(subelem.text)\n",
    "            restaurantDict.update({\"SpecialFeatures\":specialFeaturesList})\n",
    "         \n",
    "        if elem.tag == \"Reviews\":\n",
    "            reviewDict = {}\n",
    "            reviewDict.update({\"Review Id\":subelem.attrib['id']})\n",
    "            for subsubelem in subelem:            \n",
    "                 reviewDict.update({subsubelem.tag:subsubelem.text})\n",
    "            reviewsList.append(reviewDict)\n",
    "            restaurantDict.update({\"Reviews\":reviewsList})\n",
    "\n",
    "#restaurantDict"
   ]
  },
  {
   "cell_type": "code",
   "execution_count": 14,
   "metadata": {},
   "outputs": [
    {
     "name": "stdout",
     "output_type": "stream",
     "text": [
      "Restaurant Id : 41955207\n",
      "---------------------------------------------------------------------------------------------------------\n",
      "Name : Staghorn Steakhouse\n",
      "ZipCode : 10018\n",
      "Cuisines : Seafood, Steakhouse\n",
      "PriceLevel : None\n",
      "Hours : None\n",
      "Payment : None\n",
      "DressCode : None\n",
      "SpecialFeatures : ['Notable Wine List', 'Business Dining', 'Romantic Dining', 'Group Dining', 'Fine Dining']\n",
      "PromptSeating : yes\n",
      "MakeReservation : yes\n",
      "Romantic : yes\n",
      "GoodForKids : no\n",
      "GoodForGroups : yes\n",
      "Reviews :\n",
      "---------------------------------------------------------------------------------------------------------\n",
      "\n",
      "Review Id : 1741211\n",
      "UserType : Customer\n",
      "Title : like eating in a funeral parlor!\n",
      "Username : pauli68\n",
      "Date : 07/28/2006\n",
      "TotalRatedHelpful : \n",
      "      \n",
      "TotalRated : \n",
      "      \n",
      "Body : awful start to finish. went on a nice thursday night and we were 1 of only 2 tables in the whole place. zero atmosphere, overpriced menu, average food. we ordered the bacon appetizer thinking it would be similar to Lugers or any other reputable steakhouse - WRONG. They brought out tiny pieces of Oscar Meyer breakfast bacon. Eastern European waitstaff doesn't get the customer service thing either. save your money, boycott these average spots and lets keep NY restaurants on top.\n",
      "Rating : 2\n",
      "Pros : easy to get a table because its awful\n",
      "Cons : read the review\n",
      "\n",
      "-------------------------------------------------------------------------------------------------------\n",
      "\n",
      "Review Id : 1741279\n",
      "UserType : Customer\n",
      "Title : Hurry up and get to this place!\n",
      "Username : chainsaw06\n",
      "Date : 07/28/2006\n",
      "TotalRatedHelpful : \n",
      "      \n",
      "TotalRated : \n",
      "      \n",
      "Body : Get there quick because by next week they will be selling all the fancy furniture and kitchen equipment on EBay! Where do I begin. They pour a fantastic glass of ice water and that's it! The bread on the table was harder than titanium. Maybe it wasn't supposed to be eaten just for decoration. The bacon appetizer doesn't even compare to Army MREs. I would say maybe on par with hospital food. The shrimp cocktail was just average until my waiter put his dirty sleeve in my plate...Thank you now its really tasty. I think the waitstaff was hired away from the KFC down the block. This place is history!!\n",
      "Rating : 1\n",
      "Pros : Brand new clean bathrooms\n",
      "Cons : Expensive\n",
      "\n",
      "-------------------------------------------------------------------------------------------------------\n",
      "\n",
      "Review Id : 1732945\n",
      "UserType : Customer\n",
      "Title : Great Steaks / Great Service\n",
      "Username : larrybird33\n",
      "Date : 07/19/2006\n",
      "TotalRatedHelpful : \n",
      "      \n",
      "TotalRated : \n",
      "      \n",
      "Body : Got caught at the last minute looking for a restaurant on the West Side to take important clients, and held my breath coming here for the first time. But what a great place! Understated but sleek decor, prompt/attentive/not overbearing service, stiff drinks from the bar, and awesome steaks. Will definitely return.\n",
      "Rating : 5\n",
      "Pros : Steaks, drinks and service\n",
      "Cons : Somewhat pricey\n",
      "\n",
      "-------------------------------------------------------------------------------------------------------\n",
      "\n",
      "Review Id : 1720570\n",
      "UserType : Customer\n",
      "Title : Great atmosphere and food to match!!!\n",
      "Username : lax111\n",
      "Date : 07/11/2006\n",
      "TotalRatedHelpful : \n",
      "      \n",
      "TotalRated : \n",
      "      \n",
      "Body : I was at an event at the Garden and found Staghorn right near there so went with some friends for dinner. What a nice restaurant. The steak of course was great and the drinks were made nice and strong. Service was just as good. I would definitely suggest have dinner one night if you are in the area!!!\n",
      "Rating : 5\n",
      "Pros : \n",
      "      \n",
      "Cons : \n",
      "      \n",
      "\n",
      "-------------------------------------------------------------------------------------------------------\n",
      "\n"
     ]
    }
   ],
   "source": [
    "#Display the data extracted from the Reviews.xml file\n",
    "print(root.tag,\"Id :\", root.attrib['id'])\n",
    "print(\"---------------------------------------------------------------------------------------------------------\")\n",
    "for key, val in restaurantDict.items():\n",
    "        if key == \"Reviews\":\n",
    "            print(key,\":\")\n",
    "            print(\"---------------------------------------------------------------------------------------------------------\\n\")\n",
    "            for reviews in val:\n",
    "                for keyR, valR in reviews.items():\n",
    "                    print(keyR,\":\",valR)\n",
    "                print(\"\\n-------------------------------------------------------------------------------------------------------\\n\")\n",
    "        else:\n",
    "            print(key,\":\", val)"
   ]
  },
  {
   "cell_type": "markdown",
   "metadata": {},
   "source": [
    "## Unstructured data"
   ]
  },
  {
   "cell_type": "code",
   "execution_count": 15,
   "metadata": {},
   "outputs": [
    {
     "data": {
      "text/html": [
       "<div>\n",
       "<style scoped>\n",
       "    .dataframe tbody tr th:only-of-type {\n",
       "        vertical-align: middle;\n",
       "    }\n",
       "\n",
       "    .dataframe tbody tr th {\n",
       "        vertical-align: top;\n",
       "    }\n",
       "\n",
       "    .dataframe thead th {\n",
       "        text-align: right;\n",
       "    }\n",
       "</style>\n",
       "<table border=\"1\" class=\"dataframe\">\n",
       "  <thead>\n",
       "    <tr style=\"text-align: right;\">\n",
       "      <th></th>\n",
       "      <th>Reviews</th>\n",
       "    </tr>\n",
       "  </thead>\n",
       "  <tbody>\n",
       "    <tr>\n",
       "      <th>0</th>\n",
       "      <td>The food for our event was delicious .</td>\n",
       "    </tr>\n",
       "    <tr>\n",
       "      <th>1</th>\n",
       "      <td>The food in the lounge was great and very fre...</td>\n",
       "    </tr>\n",
       "    <tr>\n",
       "      <th>2</th>\n",
       "      <td>As far as food, walk a few blocks toward Mich...</td>\n",
       "    </tr>\n",
       "    <tr>\n",
       "      <th>3</th>\n",
       "      <td>The Palm resturant in the hotel had some spec...</td>\n",
       "    </tr>\n",
       "    <tr>\n",
       "      <th>4</th>\n",
       "      <td>Took the charge of the minibar which we had u...</td>\n",
       "    </tr>\n",
       "  </tbody>\n",
       "</table>\n",
       "</div>"
      ],
      "text/plain": [
       "                                             Reviews\n",
       "0             The food for our event was delicious .\n",
       "1   The food in the lounge was great and very fre...\n",
       "2   As far as food, walk a few blocks toward Mich...\n",
       "3   The Palm resturant in the hotel had some spec...\n",
       "4   Took the charge of the minibar which we had u..."
      ]
     },
     "execution_count": 15,
     "metadata": {},
     "output_type": "execute_result"
    }
   ],
   "source": [
    "#Importing Data from Unstructured text file - feedback.txt\n",
    "feedback = pd.read_table(\"Data/feedback.txt\", names = ['Reviews'])\n",
    "feedback.head()"
   ]
  },
  {
   "cell_type": "markdown",
   "metadata": {},
   "source": [
    "## Pre-process data\n",
    "## Clean data\n",
    "## Check for inconsistencies in data"
   ]
  },
  {
   "cell_type": "code",
   "execution_count": 16,
   "metadata": {},
   "outputs": [
    {
     "data": {
      "text/plain": [
       " SLP                 50\n",
       " Morelos             19\n",
       "                     18\n",
       " San Luis Potosi     14\n",
       " tamaulipas           9\n",
       " Tamaulipas           7\n",
       " san luis potosi      4\n",
       " mexico               2\n",
       " S.L.P.               2\n",
       " slp                  2\n",
       " morelos              1\n",
       " san luis potos       1\n",
       " s.l.p.               1\n",
       "Name: state, dtype: int64"
      ]
     },
     "execution_count": 16,
     "metadata": {},
     "output_type": "execute_result"
    }
   ],
   "source": [
    "#Check the different kind of states available\n",
    "restaurant_details[\"state\"].value_counts()"
   ]
  },
  {
   "cell_type": "code",
   "execution_count": 17,
   "metadata": {},
   "outputs": [],
   "source": [
    "#Update the state column to remove inconsistancies\n",
    "restaurant_details[\"state\"] = [\"Tamaulipas\" if x in [\" tamaulipas \",\" Tamaulipas \"] else x for x in restaurant_details[\"state\"]]\n",
    "restaurant_details[\"state\"] = [\"Morelos\" if x in [\" morelos \",\" Morelos \"] else x for x in restaurant_details[\"state\"]]\n",
    "restaurant_details[\"state\"] = [\"San Luis Potosi\" if x in [\" s.l.p. \",\" SLP \",\" san luis potosi \",\" slp \",\" S.L.P. \",\" san luis potos \",\" San Luis Potosi \"] else x for x in restaurant_details[\"state\"]]\n",
    "restaurant_details[\"state\"] = [\"Mexico\" if x in [\" mexico \",\" Mexico \"] else x for x in restaurant_details[\"state\"]]"
   ]
  },
  {
   "cell_type": "code",
   "execution_count": 18,
   "metadata": {},
   "outputs": [
    {
     "data": {
      "text/plain": [
       "San Luis Potosi    74\n",
       "Morelos            20\n",
       "                   18\n",
       "Tamaulipas         16\n",
       "Mexico              2\n",
       "Name: state, dtype: int64"
      ]
     },
     "execution_count": 18,
     "metadata": {},
     "output_type": "execute_result"
    }
   ],
   "source": [
    "#Check the different kind of states available\n",
    "restaurant_details[\"state\"].value_counts()"
   ]
  },
  {
   "cell_type": "code",
   "execution_count": 19,
   "metadata": {},
   "outputs": [
    {
     "data": {
      "text/plain": [
       " Mexico     89\n",
       "            24\n",
       " mexico     13\n",
       " ?           3\n",
       " NA          1\n",
       "Name: country, dtype: int64"
      ]
     },
     "execution_count": 19,
     "metadata": {},
     "output_type": "execute_result"
    }
   ],
   "source": [
    "#Check the different kind of countries available\n",
    "restaurant_details[\"country\"].value_counts()"
   ]
  },
  {
   "cell_type": "code",
   "execution_count": 20,
   "metadata": {},
   "outputs": [],
   "source": [
    "#Update the country column to remove inconsistancies\n",
    "restaurant_details[\"country\"] = [\"Mexico\" if x in [\" mexico \",\" Mexico \"] else x for x in restaurant_details[\"country\"]]"
   ]
  },
  {
   "cell_type": "code",
   "execution_count": 21,
   "metadata": {},
   "outputs": [
    {
     "data": {
      "text/plain": [
       "Mexico    102\n",
       "           24\n",
       " ?          3\n",
       " NA         1\n",
       "Name: country, dtype: int64"
      ]
     },
     "execution_count": 21,
     "metadata": {},
     "output_type": "execute_result"
    }
   ],
   "source": [
    "#Check the different kind of countries available\n",
    "restaurant_details[\"country\"].value_counts()"
   ]
  },
  {
   "cell_type": "markdown",
   "metadata": {},
   "source": [
    "## Check for negative error-entries in numeric columns"
   ]
  },
  {
   "cell_type": "code",
   "execution_count": 22,
   "metadata": {},
   "outputs": [
    {
     "name": "stdout",
     "output_type": "stream",
     "text": [
      "0\n",
      "0\n"
     ]
    }
   ],
   "source": [
    "print(len(consumer_survey.loc[consumer_survey.FRVPM<0,:]))\n",
    "print(len(consumer_survey.loc[consumer_survey.AERPM<0,:]))"
   ]
  },
  {
   "cell_type": "markdown",
   "metadata": {},
   "source": [
    "## Handle negative values"
   ]
  },
  {
   "cell_type": "code",
   "execution_count": 23,
   "metadata": {},
   "outputs": [
    {
     "name": "stdout",
     "output_type": "stream",
     "text": [
      "[1, 2, 9, 5, 0, 6, 0]\n",
      "Mean: 3.2857142857142856\n"
     ]
    }
   ],
   "source": [
    "sample_data = [1,2,9,5,-5,6,-4]\n",
    "result = [0 if i < 0 else i for i in sample_data]\n",
    "print(result)\n",
    "print(\"Mean:\",np.mean(result))"
   ]
  },
  {
   "cell_type": "code",
   "execution_count": 24,
   "metadata": {},
   "outputs": [
    {
     "name": "stdout",
     "output_type": "stream",
     "text": [
      "[1, 2, 9, 5, 6]\n",
      "Mean: 4.6\n"
     ]
    }
   ],
   "source": [
    "result = [i for i in sample_data if i >0]\n",
    "print(result)\n",
    "print(\"Mean:\",np.mean(result))"
   ]
  },
  {
   "cell_type": "markdown",
   "metadata": {},
   "source": [
    "## Check for missing values"
   ]
  },
  {
   "cell_type": "code",
   "execution_count": 25,
   "metadata": {},
   "outputs": [
    {
     "data": {
      "text/html": [
       "<div>\n",
       "<style scoped>\n",
       "    .dataframe tbody tr th:only-of-type {\n",
       "        vertical-align: middle;\n",
       "    }\n",
       "\n",
       "    .dataframe tbody tr th {\n",
       "        vertical-align: top;\n",
       "    }\n",
       "\n",
       "    .dataframe thead th {\n",
       "        text-align: right;\n",
       "    }\n",
       "</style>\n",
       "<table border=\"1\" class=\"dataframe\">\n",
       "  <thead>\n",
       "    <tr style=\"text-align: right;\">\n",
       "      <th></th>\n",
       "      <th>StudentID</th>\n",
       "      <th>Marks_Eng</th>\n",
       "      <th>Marks_Math</th>\n",
       "    </tr>\n",
       "  </thead>\n",
       "  <tbody>\n",
       "    <tr>\n",
       "      <th>0</th>\n",
       "      <td>1001</td>\n",
       "      <td>89.0</td>\n",
       "      <td>78.0</td>\n",
       "    </tr>\n",
       "    <tr>\n",
       "      <th>1</th>\n",
       "      <td>1002</td>\n",
       "      <td>NaN</td>\n",
       "      <td>86.0</td>\n",
       "    </tr>\n",
       "    <tr>\n",
       "      <th>2</th>\n",
       "      <td>1003</td>\n",
       "      <td>92.0</td>\n",
       "      <td>NaN</td>\n",
       "    </tr>\n",
       "    <tr>\n",
       "      <th>3</th>\n",
       "      <td>1004</td>\n",
       "      <td>76.0</td>\n",
       "      <td>58.0</td>\n",
       "    </tr>\n",
       "    <tr>\n",
       "      <th>4</th>\n",
       "      <td>1005</td>\n",
       "      <td>65.0</td>\n",
       "      <td>90.0</td>\n",
       "    </tr>\n",
       "    <tr>\n",
       "      <th>5</th>\n",
       "      <td>1006</td>\n",
       "      <td>NaN</td>\n",
       "      <td>NaN</td>\n",
       "    </tr>\n",
       "  </tbody>\n",
       "</table>\n",
       "</div>"
      ],
      "text/plain": [
       "   StudentID  Marks_Eng  Marks_Math\n",
       "0       1001       89.0        78.0\n",
       "1       1002        NaN        86.0\n",
       "2       1003       92.0         NaN\n",
       "3       1004       76.0        58.0\n",
       "4       1005       65.0        90.0\n",
       "5       1006        NaN         NaN"
      ]
     },
     "execution_count": 25,
     "metadata": {},
     "output_type": "execute_result"
    }
   ],
   "source": [
    "df = pd.DataFrame([[1001,89,78], \n",
    "                    [1002,np.nan,86],\n",
    "                    [1003,92,np.nan],\n",
    "                    [1004,76,58],\n",
    "                    [1005,65,90],\n",
    "                    [1006,np.nan,np.nan]],\n",
    "                   columns = ['StudentID', 'Marks_Eng','Marks_Math'])\n",
    "df"
   ]
  },
  {
   "cell_type": "code",
   "execution_count": 26,
   "metadata": {},
   "outputs": [
    {
     "data": {
      "text/html": [
       "<div>\n",
       "<style scoped>\n",
       "    .dataframe tbody tr th:only-of-type {\n",
       "        vertical-align: middle;\n",
       "    }\n",
       "\n",
       "    .dataframe tbody tr th {\n",
       "        vertical-align: top;\n",
       "    }\n",
       "\n",
       "    .dataframe thead th {\n",
       "        text-align: right;\n",
       "    }\n",
       "</style>\n",
       "<table border=\"1\" class=\"dataframe\">\n",
       "  <thead>\n",
       "    <tr style=\"text-align: right;\">\n",
       "      <th></th>\n",
       "      <th>StudentID</th>\n",
       "      <th>Marks_Eng</th>\n",
       "      <th>Marks_Math</th>\n",
       "    </tr>\n",
       "  </thead>\n",
       "  <tbody>\n",
       "    <tr>\n",
       "      <th>0</th>\n",
       "      <td>False</td>\n",
       "      <td>False</td>\n",
       "      <td>False</td>\n",
       "    </tr>\n",
       "    <tr>\n",
       "      <th>1</th>\n",
       "      <td>False</td>\n",
       "      <td>True</td>\n",
       "      <td>False</td>\n",
       "    </tr>\n",
       "    <tr>\n",
       "      <th>2</th>\n",
       "      <td>False</td>\n",
       "      <td>False</td>\n",
       "      <td>True</td>\n",
       "    </tr>\n",
       "    <tr>\n",
       "      <th>3</th>\n",
       "      <td>False</td>\n",
       "      <td>False</td>\n",
       "      <td>False</td>\n",
       "    </tr>\n",
       "    <tr>\n",
       "      <th>4</th>\n",
       "      <td>False</td>\n",
       "      <td>False</td>\n",
       "      <td>False</td>\n",
       "    </tr>\n",
       "    <tr>\n",
       "      <th>5</th>\n",
       "      <td>False</td>\n",
       "      <td>True</td>\n",
       "      <td>True</td>\n",
       "    </tr>\n",
       "  </tbody>\n",
       "</table>\n",
       "</div>"
      ],
      "text/plain": [
       "   StudentID  Marks_Eng  Marks_Math\n",
       "0      False      False       False\n",
       "1      False       True       False\n",
       "2      False      False        True\n",
       "3      False      False       False\n",
       "4      False      False       False\n",
       "5      False       True        True"
      ]
     },
     "execution_count": 26,
     "metadata": {},
     "output_type": "execute_result"
    }
   ],
   "source": [
    "#Where are the NaN values?\n",
    "df.isna()"
   ]
  },
  {
   "cell_type": "code",
   "execution_count": 27,
   "metadata": {},
   "outputs": [
    {
     "data": {
      "text/plain": [
       "StudentID     False\n",
       "Marks_Eng      True\n",
       "Marks_Math     True\n",
       "dtype: bool"
      ]
     },
     "execution_count": 27,
     "metadata": {},
     "output_type": "execute_result"
    }
   ],
   "source": [
    "#Which columns contain NaN values?\n",
    "df.isna().any()"
   ]
  },
  {
   "cell_type": "code",
   "execution_count": 28,
   "metadata": {},
   "outputs": [
    {
     "data": {
      "text/plain": [
       "StudentID     0\n",
       "Marks_Eng     2\n",
       "Marks_Math    2\n",
       "dtype: int64"
      ]
     },
     "execution_count": 28,
     "metadata": {},
     "output_type": "execute_result"
    }
   ],
   "source": [
    "df.isna().sum()"
   ]
  },
  {
   "cell_type": "code",
   "execution_count": 29,
   "metadata": {},
   "outputs": [
    {
     "data": {
      "text/plain": [
       "0    False\n",
       "1     True\n",
       "2     True\n",
       "3    False\n",
       "4    False\n",
       "5     True\n",
       "dtype: bool"
      ]
     },
     "execution_count": 29,
     "metadata": {},
     "output_type": "execute_result"
    }
   ],
   "source": [
    "#Which rows contain NaN values?\n",
    "df.isna().any(axis=1)"
   ]
  },
  {
   "cell_type": "code",
   "execution_count": 30,
   "metadata": {},
   "outputs": [
    {
     "data": {
      "text/html": [
       "<div>\n",
       "<style scoped>\n",
       "    .dataframe tbody tr th:only-of-type {\n",
       "        vertical-align: middle;\n",
       "    }\n",
       "\n",
       "    .dataframe tbody tr th {\n",
       "        vertical-align: top;\n",
       "    }\n",
       "\n",
       "    .dataframe thead th {\n",
       "        text-align: right;\n",
       "    }\n",
       "</style>\n",
       "<table border=\"1\" class=\"dataframe\">\n",
       "  <thead>\n",
       "    <tr style=\"text-align: right;\">\n",
       "      <th></th>\n",
       "      <th>StudentID</th>\n",
       "      <th>Marks_Eng</th>\n",
       "      <th>Marks_Math</th>\n",
       "    </tr>\n",
       "  </thead>\n",
       "  <tbody>\n",
       "    <tr>\n",
       "      <th>1</th>\n",
       "      <td>1002</td>\n",
       "      <td>NaN</td>\n",
       "      <td>86.0</td>\n",
       "    </tr>\n",
       "    <tr>\n",
       "      <th>2</th>\n",
       "      <td>1003</td>\n",
       "      <td>92.0</td>\n",
       "      <td>NaN</td>\n",
       "    </tr>\n",
       "    <tr>\n",
       "      <th>5</th>\n",
       "      <td>1006</td>\n",
       "      <td>NaN</td>\n",
       "      <td>NaN</td>\n",
       "    </tr>\n",
       "  </tbody>\n",
       "</table>\n",
       "</div>"
      ],
      "text/plain": [
       "   StudentID  Marks_Eng  Marks_Math\n",
       "1       1002        NaN        86.0\n",
       "2       1003       92.0         NaN\n",
       "5       1006        NaN         NaN"
      ]
     },
     "execution_count": 30,
     "metadata": {},
     "output_type": "execute_result"
    }
   ],
   "source": [
    "df[df.isna().any(axis=1)]"
   ]
  },
  {
   "cell_type": "code",
   "execution_count": 31,
   "metadata": {},
   "outputs": [
    {
     "data": {
      "text/plain": [
       "[1, 2, 5]"
      ]
     },
     "execution_count": 31,
     "metadata": {},
     "output_type": "execute_result"
    }
   ],
   "source": [
    "df[df.isna().any(axis=1)].index.tolist()"
   ]
  },
  {
   "cell_type": "markdown",
   "metadata": {},
   "source": [
    "## Handle missing values"
   ]
  },
  {
   "cell_type": "code",
   "execution_count": 32,
   "metadata": {},
   "outputs": [
    {
     "data": {
      "text/plain": [
       "nan"
      ]
     },
     "execution_count": 32,
     "metadata": {},
     "output_type": "execute_result"
    }
   ],
   "source": [
    "#Compute mean of a column without ignoring the NaN values.\n",
    "df.Marks_Eng.mean(skipna=False)"
   ]
  },
  {
   "cell_type": "code",
   "execution_count": 33,
   "metadata": {},
   "outputs": [
    {
     "data": {
      "text/plain": [
       "80.5"
      ]
     },
     "execution_count": 33,
     "metadata": {},
     "output_type": "execute_result"
    }
   ],
   "source": [
    "#Compute mean of a column ignoring the NaN values.\n",
    "#Default skipna value is True\n",
    "df.Marks_Eng.mean(skipna=True)"
   ]
  },
  {
   "cell_type": "code",
   "execution_count": 34,
   "metadata": {},
   "outputs": [
    {
     "data": {
      "text/html": [
       "<div>\n",
       "<style scoped>\n",
       "    .dataframe tbody tr th:only-of-type {\n",
       "        vertical-align: middle;\n",
       "    }\n",
       "\n",
       "    .dataframe tbody tr th {\n",
       "        vertical-align: top;\n",
       "    }\n",
       "\n",
       "    .dataframe thead th {\n",
       "        text-align: right;\n",
       "    }\n",
       "</style>\n",
       "<table border=\"1\" class=\"dataframe\">\n",
       "  <thead>\n",
       "    <tr style=\"text-align: right;\">\n",
       "      <th></th>\n",
       "      <th>StudentID</th>\n",
       "      <th>Marks_Eng</th>\n",
       "      <th>Marks_Math</th>\n",
       "    </tr>\n",
       "  </thead>\n",
       "  <tbody>\n",
       "    <tr>\n",
       "      <th>0</th>\n",
       "      <td>1001</td>\n",
       "      <td>89.0</td>\n",
       "      <td>78.0</td>\n",
       "    </tr>\n",
       "    <tr>\n",
       "      <th>3</th>\n",
       "      <td>1004</td>\n",
       "      <td>76.0</td>\n",
       "      <td>58.0</td>\n",
       "    </tr>\n",
       "    <tr>\n",
       "      <th>4</th>\n",
       "      <td>1005</td>\n",
       "      <td>65.0</td>\n",
       "      <td>90.0</td>\n",
       "    </tr>\n",
       "  </tbody>\n",
       "</table>\n",
       "</div>"
      ],
      "text/plain": [
       "   StudentID  Marks_Eng  Marks_Math\n",
       "0       1001       89.0        78.0\n",
       "3       1004       76.0        58.0\n",
       "4       1005       65.0        90.0"
      ]
     },
     "execution_count": 34,
     "metadata": {},
     "output_type": "execute_result"
    }
   ],
   "source": [
    "#Dataframe with rows that contained NaN values, removed.\n",
    "df.dropna()"
   ]
  },
  {
   "cell_type": "markdown",
   "metadata": {},
   "source": [
    "## Delete data\n",
    "## Delete Rows"
   ]
  },
  {
   "cell_type": "code",
   "execution_count": 35,
   "metadata": {},
   "outputs": [
    {
     "name": "stdout",
     "output_type": "stream",
     "text": [
      "Before dropping rows with missing values: (138, 14)\n",
      "After dropping rows with missing values: (134, 14)\n"
     ]
    }
   ],
   "source": [
    "#consumer_survey\n",
    "print(\"Before dropping rows with missing values:\",consumer_survey.shape)\n",
    "\n",
    "#Replace '?' with NaN\n",
    "consumer_survey.replace('?',np.NaN, inplace = True)\n",
    "\n",
    "#Drop rows with missing values\n",
    "consumer_survey.dropna(axis = 0, inplace = True, thresh = 13)\n",
    "\n",
    "print(\"After dropping rows with missing values:\",consumer_survey.shape)\n",
    "\n",
    "#Reset index\n",
    "consumer_survey.reset_index(inplace = True, drop = True)"
   ]
  },
  {
   "cell_type": "code",
   "execution_count": 36,
   "metadata": {},
   "outputs": [
    {
     "name": "stdout",
     "output_type": "stream",
     "text": [
      "Before dropping rows with missing values: (130, 13)\n",
      "After dropping rows with missing values: (110, 13)\n"
     ]
    }
   ],
   "source": [
    "#restaurant_details\n",
    "print(\"Before dropping rows with missing values:\",restaurant_details.shape)\n",
    "\n",
    "#Replace '?' with NaN\n",
    "missing_values = [' ? ','  ',' NA ']\n",
    "\n",
    "for i in missing_values:\n",
    "    restaurant_details.replace(i,np.NaN, inplace = True)\n",
    "\n",
    "#Drop rows with missing values\n",
    "restaurant_details.dropna(axis = 0, inplace = True, thresh = 11)\n",
    "\n",
    "print(\"After dropping rows with missing values:\",restaurant_details.shape)\n",
    "\n",
    "#Reset index\n",
    "restaurant_details.reset_index(inplace = True, drop = True)"
   ]
  },
  {
   "cell_type": "markdown",
   "metadata": {},
   "source": [
    "## Delete Columns"
   ]
  },
  {
   "cell_type": "code",
   "execution_count": 37,
   "metadata": {},
   "outputs": [],
   "source": [
    "#Drop columns with more than 40% missing values\n",
    "restaurant_details.dropna(axis = 1, inplace = True, thresh = 60 * 1.1)"
   ]
  },
  {
   "cell_type": "code",
   "execution_count": 38,
   "metadata": {},
   "outputs": [
    {
     "data": {
      "text/plain": [
       "(110, 12)"
      ]
     },
     "execution_count": 38,
     "metadata": {},
     "output_type": "execute_result"
    }
   ],
   "source": [
    "#Check how many columns are dropped\n",
    "restaurant_details.shape"
   ]
  },
  {
   "cell_type": "code",
   "execution_count": 39,
   "metadata": {},
   "outputs": [
    {
     "name": "stdout",
     "output_type": "stream",
     "text": [
      "['placeID' 'name' 'address' 'state' 'country' 'alcohol' 'smoking_area'\n",
      " 'price' 'area' 'other_services' 'Region' 'Average_dine_in_per_month']\n"
     ]
    }
   ],
   "source": [
    "#Check which columns are dropped\n",
    "print(restaurant_details.columns.values)"
   ]
  },
  {
   "cell_type": "markdown",
   "metadata": {},
   "source": [
    "## Impute data"
   ]
  },
  {
   "cell_type": "code",
   "execution_count": 40,
   "metadata": {},
   "outputs": [],
   "source": [
    "# Remove the comment below and run, incase the scikit-learn package is not installed\n",
    "# !pip install scikit-learn\n",
    "from sklearn.impute import SimpleImputer"
   ]
  },
  {
   "cell_type": "markdown",
   "metadata": {},
   "source": [
    "### Impute with a constant value"
   ]
  },
  {
   "cell_type": "code",
   "execution_count": 41,
   "metadata": {},
   "outputs": [
    {
     "data": {
      "text/plain": [
       "[3, 36, 41, 65, 78, 85, 90, 95]"
      ]
     },
     "execution_count": 41,
     "metadata": {},
     "output_type": "execute_result"
    }
   ],
   "source": [
    "#Which rows contain NA values?\n",
    "df = restaurant_details.loc[:,[\"country\"]]\n",
    "df[df.isna().any(axis=1)].index.tolist()"
   ]
  },
  {
   "cell_type": "code",
   "execution_count": 42,
   "metadata": {},
   "outputs": [
    {
     "data": {
      "text/html": [
       "<div>\n",
       "<style scoped>\n",
       "    .dataframe tbody tr th:only-of-type {\n",
       "        vertical-align: middle;\n",
       "    }\n",
       "\n",
       "    .dataframe tbody tr th {\n",
       "        vertical-align: top;\n",
       "    }\n",
       "\n",
       "    .dataframe thead th {\n",
       "        text-align: right;\n",
       "    }\n",
       "</style>\n",
       "<table border=\"1\" class=\"dataframe\">\n",
       "  <thead>\n",
       "    <tr style=\"text-align: right;\">\n",
       "      <th></th>\n",
       "      <th>country</th>\n",
       "    </tr>\n",
       "  </thead>\n",
       "  <tbody>\n",
       "    <tr>\n",
       "      <th>0</th>\n",
       "      <td>Mexico</td>\n",
       "    </tr>\n",
       "    <tr>\n",
       "      <th>5</th>\n",
       "      <td>Mexico</td>\n",
       "    </tr>\n",
       "    <tr>\n",
       "      <th>23</th>\n",
       "      <td>Mexico</td>\n",
       "    </tr>\n",
       "    <tr>\n",
       "      <th>56</th>\n",
       "      <td>Mexico</td>\n",
       "    </tr>\n",
       "    <tr>\n",
       "      <th>61</th>\n",
       "      <td>Mexico</td>\n",
       "    </tr>\n",
       "    <tr>\n",
       "      <th>85</th>\n",
       "      <td>NaN</td>\n",
       "    </tr>\n",
       "    <tr>\n",
       "      <th>98</th>\n",
       "      <td>Mexico</td>\n",
       "    </tr>\n",
       "    <tr>\n",
       "      <th>105</th>\n",
       "      <td>Mexico</td>\n",
       "    </tr>\n",
       "  </tbody>\n",
       "</table>\n",
       "</div>"
      ],
      "text/plain": [
       "    country\n",
       "0    Mexico\n",
       "5    Mexico\n",
       "23   Mexico\n",
       "56   Mexico\n",
       "61   Mexico\n",
       "85      NaN\n",
       "98   Mexico\n",
       "105  Mexico"
      ]
     },
     "execution_count": 42,
     "metadata": {},
     "output_type": "execute_result"
    }
   ],
   "source": [
    "restaurant_details.loc[[0, 5, 23, 56, 61, 85, 98, 105],['country']]"
   ]
  },
  {
   "cell_type": "code",
   "execution_count": 43,
   "metadata": {},
   "outputs": [],
   "source": [
    "#Fill missing values with a constant\n",
    "country_array = np.array(restaurant_details[\"country\"])\n",
    "imputer = SimpleImputer(strategy = \"constant\", fill_value =\"Mexico\")\n",
    "restaurant_details[\"country\"] = imputer.fit_transform(country_array.reshape(-1,1))"
   ]
  },
  {
   "cell_type": "code",
   "execution_count": 44,
   "metadata": {},
   "outputs": [
    {
     "data": {
      "text/html": [
       "<div>\n",
       "<style scoped>\n",
       "    .dataframe tbody tr th:only-of-type {\n",
       "        vertical-align: middle;\n",
       "    }\n",
       "\n",
       "    .dataframe tbody tr th {\n",
       "        vertical-align: top;\n",
       "    }\n",
       "\n",
       "    .dataframe thead th {\n",
       "        text-align: right;\n",
       "    }\n",
       "</style>\n",
       "<table border=\"1\" class=\"dataframe\">\n",
       "  <thead>\n",
       "    <tr style=\"text-align: right;\">\n",
       "      <th></th>\n",
       "      <th>country</th>\n",
       "    </tr>\n",
       "  </thead>\n",
       "  <tbody>\n",
       "    <tr>\n",
       "      <th>0</th>\n",
       "      <td>Mexico</td>\n",
       "    </tr>\n",
       "    <tr>\n",
       "      <th>5</th>\n",
       "      <td>Mexico</td>\n",
       "    </tr>\n",
       "    <tr>\n",
       "      <th>23</th>\n",
       "      <td>Mexico</td>\n",
       "    </tr>\n",
       "    <tr>\n",
       "      <th>56</th>\n",
       "      <td>Mexico</td>\n",
       "    </tr>\n",
       "    <tr>\n",
       "      <th>61</th>\n",
       "      <td>Mexico</td>\n",
       "    </tr>\n",
       "    <tr>\n",
       "      <th>85</th>\n",
       "      <td>Mexico</td>\n",
       "    </tr>\n",
       "    <tr>\n",
       "      <th>98</th>\n",
       "      <td>Mexico</td>\n",
       "    </tr>\n",
       "    <tr>\n",
       "      <th>105</th>\n",
       "      <td>Mexico</td>\n",
       "    </tr>\n",
       "  </tbody>\n",
       "</table>\n",
       "</div>"
      ],
      "text/plain": [
       "    country\n",
       "0    Mexico\n",
       "5    Mexico\n",
       "23   Mexico\n",
       "56   Mexico\n",
       "61   Mexico\n",
       "85   Mexico\n",
       "98   Mexico\n",
       "105  Mexico"
      ]
     },
     "execution_count": 44,
     "metadata": {},
     "output_type": "execute_result"
    }
   ],
   "source": [
    "restaurant_details.loc[[0, 5, 23, 56, 61, 85, 98, 105],['country']]"
   ]
  },
  {
   "cell_type": "markdown",
   "metadata": {},
   "source": [
    "### Impute with the mode or most frequent value"
   ]
  },
  {
   "cell_type": "code",
   "execution_count": 45,
   "metadata": {},
   "outputs": [
    {
     "data": {
      "text/plain": [
       "[29, 37, 119]"
      ]
     },
     "execution_count": 45,
     "metadata": {},
     "output_type": "execute_result"
    }
   ],
   "source": [
    "#Which rows contain NA values?\n",
    "df = consumer_survey.loc[:,[\"transport\"]]\n",
    "df[df.isna().any(axis=1)].index.tolist()"
   ]
  },
  {
   "cell_type": "code",
   "execution_count": 46,
   "metadata": {},
   "outputs": [
    {
     "data": {
      "text/html": [
       "<div>\n",
       "<style scoped>\n",
       "    .dataframe tbody tr th:only-of-type {\n",
       "        vertical-align: middle;\n",
       "    }\n",
       "\n",
       "    .dataframe tbody tr th {\n",
       "        vertical-align: top;\n",
       "    }\n",
       "\n",
       "    .dataframe thead th {\n",
       "        text-align: right;\n",
       "    }\n",
       "</style>\n",
       "<table border=\"1\" class=\"dataframe\">\n",
       "  <thead>\n",
       "    <tr style=\"text-align: right;\">\n",
       "      <th></th>\n",
       "      <th>transport</th>\n",
       "    </tr>\n",
       "  </thead>\n",
       "  <tbody>\n",
       "    <tr>\n",
       "      <th>29</th>\n",
       "      <td>NaN</td>\n",
       "    </tr>\n",
       "    <tr>\n",
       "      <th>37</th>\n",
       "      <td>NaN</td>\n",
       "    </tr>\n",
       "    <tr>\n",
       "      <th>119</th>\n",
       "      <td>NaN</td>\n",
       "    </tr>\n",
       "  </tbody>\n",
       "</table>\n",
       "</div>"
      ],
      "text/plain": [
       "    transport\n",
       "29        NaN\n",
       "37        NaN\n",
       "119       NaN"
      ]
     },
     "execution_count": 46,
     "metadata": {},
     "output_type": "execute_result"
    }
   ],
   "source": [
    "consumer_survey.loc[[29, 37, 119],['transport']]"
   ]
  },
  {
   "cell_type": "code",
   "execution_count": 47,
   "metadata": {},
   "outputs": [
    {
     "data": {
      "text/plain": [
       "public       82\n",
       "car owner    35\n",
       "on foot      14\n",
       "Name: transport, dtype: int64"
      ]
     },
     "execution_count": 47,
     "metadata": {},
     "output_type": "execute_result"
    }
   ],
   "source": [
    "consumer_survey[\"transport\"].value_counts()"
   ]
  },
  {
   "cell_type": "code",
   "execution_count": 48,
   "metadata": {},
   "outputs": [
    {
     "data": {
      "text/plain": [
       "'public'"
      ]
     },
     "execution_count": 48,
     "metadata": {},
     "output_type": "execute_result"
    }
   ],
   "source": [
    "consumer_survey[\"transport\"].mode()[0]"
   ]
  },
  {
   "cell_type": "code",
   "execution_count": 49,
   "metadata": {},
   "outputs": [],
   "source": [
    "transport_array = np.array(consumer_survey[\"transport\"])\n",
    "imputer = SimpleImputer(strategy = \"most_frequent\")\n",
    "consumer_survey[\"transport\"] = imputer.fit_transform(transport_array .reshape(-1,1))"
   ]
  },
  {
   "cell_type": "code",
   "execution_count": 50,
   "metadata": {},
   "outputs": [
    {
     "data": {
      "text/html": [
       "<div>\n",
       "<style scoped>\n",
       "    .dataframe tbody tr th:only-of-type {\n",
       "        vertical-align: middle;\n",
       "    }\n",
       "\n",
       "    .dataframe tbody tr th {\n",
       "        vertical-align: top;\n",
       "    }\n",
       "\n",
       "    .dataframe thead th {\n",
       "        text-align: right;\n",
       "    }\n",
       "</style>\n",
       "<table border=\"1\" class=\"dataframe\">\n",
       "  <thead>\n",
       "    <tr style=\"text-align: right;\">\n",
       "      <th></th>\n",
       "      <th>transport</th>\n",
       "    </tr>\n",
       "  </thead>\n",
       "  <tbody>\n",
       "    <tr>\n",
       "      <th>29</th>\n",
       "      <td>public</td>\n",
       "    </tr>\n",
       "    <tr>\n",
       "      <th>37</th>\n",
       "      <td>public</td>\n",
       "    </tr>\n",
       "    <tr>\n",
       "      <th>119</th>\n",
       "      <td>public</td>\n",
       "    </tr>\n",
       "  </tbody>\n",
       "</table>\n",
       "</div>"
      ],
      "text/plain": [
       "    transport\n",
       "29     public\n",
       "37     public\n",
       "119    public"
      ]
     },
     "execution_count": 50,
     "metadata": {},
     "output_type": "execute_result"
    }
   ],
   "source": [
    "consumer_survey.loc[[29, 37, 119],[\"transport\"]]"
   ]
  },
  {
   "cell_type": "code",
   "execution_count": 51,
   "metadata": {},
   "outputs": [],
   "source": [
    "### Impute with the mean value"
   ]
  },
  {
   "cell_type": "code",
   "execution_count": 52,
   "metadata": {},
   "outputs": [],
   "source": [
    "#Convert AVERAGE_DINE_IN_PER_MONTH to numeric data type\n",
    "restaurant_details.AVERAGE_DINE_IN_PER_MONTH = pd.to_numeric(restaurant_details.Average_dine_in_per_month)"
   ]
  },
  {
   "cell_type": "code",
   "execution_count": 53,
   "metadata": {},
   "outputs": [
    {
     "data": {
      "text/plain": [
       "[]"
      ]
     },
     "execution_count": 53,
     "metadata": {},
     "output_type": "execute_result"
    }
   ],
   "source": [
    "#Which rows contain NA values?\n",
    "df = restaurant_details.loc[:,[\"Average_dine_in_per_month\"]]\n",
    "df.loc[df.isna().sum(1)>=1].index.tolist()"
   ]
  },
  {
   "cell_type": "code",
   "execution_count": 54,
   "metadata": {},
   "outputs": [
    {
     "data": {
      "text/html": [
       "<div>\n",
       "<style scoped>\n",
       "    .dataframe tbody tr th:only-of-type {\n",
       "        vertical-align: middle;\n",
       "    }\n",
       "\n",
       "    .dataframe tbody tr th {\n",
       "        vertical-align: top;\n",
       "    }\n",
       "\n",
       "    .dataframe thead th {\n",
       "        text-align: right;\n",
       "    }\n",
       "</style>\n",
       "<table border=\"1\" class=\"dataframe\">\n",
       "  <thead>\n",
       "    <tr style=\"text-align: right;\">\n",
       "      <th></th>\n",
       "      <th>Average_dine_in_per_month</th>\n",
       "      <th>state</th>\n",
       "    </tr>\n",
       "  </thead>\n",
       "  <tbody>\n",
       "    <tr>\n",
       "      <th>21</th>\n",
       "      <td>652</td>\n",
       "      <td>Morelos</td>\n",
       "    </tr>\n",
       "    <tr>\n",
       "      <th>26</th>\n",
       "      <td>443</td>\n",
       "      <td>San Luis Potosi</td>\n",
       "    </tr>\n",
       "    <tr>\n",
       "      <th>34</th>\n",
       "      <td>748</td>\n",
       "      <td>San Luis Potosi</td>\n",
       "    </tr>\n",
       "    <tr>\n",
       "      <th>43</th>\n",
       "      <td>765</td>\n",
       "      <td>Morelos</td>\n",
       "    </tr>\n",
       "  </tbody>\n",
       "</table>\n",
       "</div>"
      ],
      "text/plain": [
       "    Average_dine_in_per_month            state\n",
       "21                        652          Morelos\n",
       "26                        443  San Luis Potosi\n",
       "34                        748  San Luis Potosi\n",
       "43                        765          Morelos"
      ]
     },
     "execution_count": 54,
     "metadata": {},
     "output_type": "execute_result"
    }
   ],
   "source": [
    "restaurant_details.loc[[21, 26, 34, 43],[\"Average_dine_in_per_month\", \"state\"]]"
   ]
  },
  {
   "cell_type": "code",
   "execution_count": 55,
   "metadata": {},
   "outputs": [
    {
     "data": {
      "text/plain": [
       "Average_dine_in_per_month    651.563636\n",
       "dtype: float64"
      ]
     },
     "execution_count": 55,
     "metadata": {},
     "output_type": "execute_result"
    }
   ],
   "source": [
    "#Check the mean value. By default, NaN is skipped.\n",
    "restaurant_details[[\"Average_dine_in_per_month\"]].mean()"
   ]
  },
  {
   "cell_type": "code",
   "execution_count": 56,
   "metadata": {},
   "outputs": [],
   "source": [
    "average_dine_in_per_month_array = np.array(restaurant_details[\"Average_dine_in_per_month\"])\n",
    "imputer = SimpleImputer(strategy = \"mean\")\n",
    "restaurant_details[\"AVERAGE_DINE_IN_PER_MONTH_MEAN_IMPUTED\"] = imputer.fit_transform(average_dine_in_per_month_array.reshape(-1,1))"
   ]
  },
  {
   "cell_type": "code",
   "execution_count": 57,
   "metadata": {},
   "outputs": [
    {
     "data": {
      "text/html": [
       "<div>\n",
       "<style scoped>\n",
       "    .dataframe tbody tr th:only-of-type {\n",
       "        vertical-align: middle;\n",
       "    }\n",
       "\n",
       "    .dataframe tbody tr th {\n",
       "        vertical-align: top;\n",
       "    }\n",
       "\n",
       "    .dataframe thead th {\n",
       "        text-align: right;\n",
       "    }\n",
       "</style>\n",
       "<table border=\"1\" class=\"dataframe\">\n",
       "  <thead>\n",
       "    <tr style=\"text-align: right;\">\n",
       "      <th></th>\n",
       "      <th>AVERAGE_DINE_IN_PER_MONTH_MEAN_IMPUTED</th>\n",
       "      <th>state</th>\n",
       "    </tr>\n",
       "  </thead>\n",
       "  <tbody>\n",
       "    <tr>\n",
       "      <th>21</th>\n",
       "      <td>652.0</td>\n",
       "      <td>Morelos</td>\n",
       "    </tr>\n",
       "    <tr>\n",
       "      <th>26</th>\n",
       "      <td>443.0</td>\n",
       "      <td>San Luis Potosi</td>\n",
       "    </tr>\n",
       "    <tr>\n",
       "      <th>34</th>\n",
       "      <td>748.0</td>\n",
       "      <td>San Luis Potosi</td>\n",
       "    </tr>\n",
       "    <tr>\n",
       "      <th>43</th>\n",
       "      <td>765.0</td>\n",
       "      <td>Morelos</td>\n",
       "    </tr>\n",
       "  </tbody>\n",
       "</table>\n",
       "</div>"
      ],
      "text/plain": [
       "    AVERAGE_DINE_IN_PER_MONTH_MEAN_IMPUTED            state\n",
       "21                                   652.0          Morelos\n",
       "26                                   443.0  San Luis Potosi\n",
       "34                                   748.0  San Luis Potosi\n",
       "43                                   765.0          Morelos"
      ]
     },
     "execution_count": 57,
     "metadata": {},
     "output_type": "execute_result"
    }
   ],
   "source": [
    "restaurant_details.loc[[21, 26, 34, 43],[\"AVERAGE_DINE_IN_PER_MONTH_MEAN_IMPUTED\", \"state\"]]"
   ]
  },
  {
   "cell_type": "code",
   "execution_count": 58,
   "metadata": {},
   "outputs": [
    {
     "data": {
      "text/html": [
       "<div>\n",
       "<style scoped>\n",
       "    .dataframe tbody tr th:only-of-type {\n",
       "        vertical-align: middle;\n",
       "    }\n",
       "\n",
       "    .dataframe tbody tr th {\n",
       "        vertical-align: top;\n",
       "    }\n",
       "\n",
       "    .dataframe thead th {\n",
       "        text-align: right;\n",
       "    }\n",
       "</style>\n",
       "<table border=\"1\" class=\"dataframe\">\n",
       "  <thead>\n",
       "    <tr style=\"text-align: right;\">\n",
       "      <th></th>\n",
       "      <th>Average_dine_in_per_month</th>\n",
       "    </tr>\n",
       "    <tr>\n",
       "      <th>state</th>\n",
       "      <th></th>\n",
       "    </tr>\n",
       "  </thead>\n",
       "  <tbody>\n",
       "    <tr>\n",
       "      <th>Mexico</th>\n",
       "      <td>859.000000</td>\n",
       "    </tr>\n",
       "    <tr>\n",
       "      <th>Morelos</th>\n",
       "      <td>643.150000</td>\n",
       "    </tr>\n",
       "    <tr>\n",
       "      <th>San Luis Potosi</th>\n",
       "      <td>625.581081</td>\n",
       "    </tr>\n",
       "    <tr>\n",
       "      <th>Tamaulipas</th>\n",
       "      <td>777.133333</td>\n",
       "    </tr>\n",
       "  </tbody>\n",
       "</table>\n",
       "</div>"
      ],
      "text/plain": [
       "                 Average_dine_in_per_month\n",
       "state                                     \n",
       "Mexico                          859.000000\n",
       "Morelos                         643.150000\n",
       "San Luis Potosi                 625.581081\n",
       "Tamaulipas                      777.133333"
      ]
     },
     "execution_count": 58,
     "metadata": {},
     "output_type": "execute_result"
    }
   ],
   "source": [
    "#Mean average_dine_in_per_month in each state\n",
    "restaurant_details[[\"Average_dine_in_per_month\",\"state\"]].groupby(\"state\").mean()"
   ]
  },
  {
   "cell_type": "code",
   "execution_count": 59,
   "metadata": {},
   "outputs": [
    {
     "data": {
      "text/html": [
       "<div>\n",
       "<style scoped>\n",
       "    .dataframe tbody tr th:only-of-type {\n",
       "        vertical-align: middle;\n",
       "    }\n",
       "\n",
       "    .dataframe tbody tr th {\n",
       "        vertical-align: top;\n",
       "    }\n",
       "\n",
       "    .dataframe thead th {\n",
       "        text-align: right;\n",
       "    }\n",
       "</style>\n",
       "<table border=\"1\" class=\"dataframe\">\n",
       "  <thead>\n",
       "    <tr style=\"text-align: right;\">\n",
       "      <th></th>\n",
       "      <th>Average_dine_in_per_month</th>\n",
       "      <th>state</th>\n",
       "    </tr>\n",
       "  </thead>\n",
       "  <tbody>\n",
       "    <tr>\n",
       "      <th>21</th>\n",
       "      <td>652</td>\n",
       "      <td>Morelos</td>\n",
       "    </tr>\n",
       "    <tr>\n",
       "      <th>26</th>\n",
       "      <td>443</td>\n",
       "      <td>San Luis Potosi</td>\n",
       "    </tr>\n",
       "    <tr>\n",
       "      <th>34</th>\n",
       "      <td>748</td>\n",
       "      <td>San Luis Potosi</td>\n",
       "    </tr>\n",
       "    <tr>\n",
       "      <th>43</th>\n",
       "      <td>765</td>\n",
       "      <td>Morelos</td>\n",
       "    </tr>\n",
       "  </tbody>\n",
       "</table>\n",
       "</div>"
      ],
      "text/plain": [
       "    Average_dine_in_per_month            state\n",
       "21                        652          Morelos\n",
       "26                        443  San Luis Potosi\n",
       "34                        748  San Luis Potosi\n",
       "43                        765          Morelos"
      ]
     },
     "execution_count": 59,
     "metadata": {},
     "output_type": "execute_result"
    }
   ],
   "source": [
    "restaurant_details.loc[[21, 26, 34, 43],[\"Average_dine_in_per_month\",\"state\"]]"
   ]
  },
  {
   "cell_type": "code",
   "execution_count": 60,
   "metadata": {},
   "outputs": [
    {
     "data": {
      "text/html": [
       "<div>\n",
       "<style scoped>\n",
       "    .dataframe tbody tr th:only-of-type {\n",
       "        vertical-align: middle;\n",
       "    }\n",
       "\n",
       "    .dataframe tbody tr th {\n",
       "        vertical-align: top;\n",
       "    }\n",
       "\n",
       "    .dataframe thead th {\n",
       "        text-align: right;\n",
       "    }\n",
       "</style>\n",
       "<table border=\"1\" class=\"dataframe\">\n",
       "  <thead>\n",
       "    <tr style=\"text-align: right;\">\n",
       "      <th></th>\n",
       "      <th>Average_dine_in_per_month</th>\n",
       "      <th>state</th>\n",
       "    </tr>\n",
       "  </thead>\n",
       "  <tbody>\n",
       "    <tr>\n",
       "      <th>21</th>\n",
       "      <td>652</td>\n",
       "      <td>Morelos</td>\n",
       "    </tr>\n",
       "    <tr>\n",
       "      <th>26</th>\n",
       "      <td>443</td>\n",
       "      <td>San Luis Potosi</td>\n",
       "    </tr>\n",
       "    <tr>\n",
       "      <th>34</th>\n",
       "      <td>748</td>\n",
       "      <td>San Luis Potosi</td>\n",
       "    </tr>\n",
       "    <tr>\n",
       "      <th>43</th>\n",
       "      <td>765</td>\n",
       "      <td>Morelos</td>\n",
       "    </tr>\n",
       "  </tbody>\n",
       "</table>\n",
       "</div>"
      ],
      "text/plain": [
       "    Average_dine_in_per_month            state\n",
       "21                        652          Morelos\n",
       "26                        443  San Luis Potosi\n",
       "34                        748  San Luis Potosi\n",
       "43                        765          Morelos"
      ]
     },
     "execution_count": 60,
     "metadata": {},
     "output_type": "execute_result"
    }
   ],
   "source": [
    "grouped_restaurant_details = restaurant_details[[\"Average_dine_in_per_month\",\"state\"]].groupby(\"state\")\n",
    "mean_updated = grouped_restaurant_details.transform(lambda x: x.fillna(x.mean()))\n",
    "mean_updated[\"state\"] = restaurant_details[\"state\"]\n",
    "mean_updated.loc[[21, 26, 34, 43],:]"
   ]
  },
  {
   "cell_type": "markdown",
   "metadata": {},
   "source": [
    "### Impute with the median value"
   ]
  },
  {
   "cell_type": "code",
   "execution_count": 61,
   "metadata": {},
   "outputs": [
    {
     "data": {
      "text/plain": [
       "[]"
      ]
     },
     "execution_count": 61,
     "metadata": {},
     "output_type": "execute_result"
    }
   ],
   "source": [
    "#Which rows contain NA values?\n",
    "df = restaurant_details.loc[:,[\"Average_dine_in_per_month\"]]\n",
    "df.loc[df.isna().sum(1)>=1].index.tolist()"
   ]
  },
  {
   "cell_type": "code",
   "execution_count": 62,
   "metadata": {},
   "outputs": [
    {
     "data": {
      "text/html": [
       "<div>\n",
       "<style scoped>\n",
       "    .dataframe tbody tr th:only-of-type {\n",
       "        vertical-align: middle;\n",
       "    }\n",
       "\n",
       "    .dataframe tbody tr th {\n",
       "        vertical-align: top;\n",
       "    }\n",
       "\n",
       "    .dataframe thead th {\n",
       "        text-align: right;\n",
       "    }\n",
       "</style>\n",
       "<table border=\"1\" class=\"dataframe\">\n",
       "  <thead>\n",
       "    <tr style=\"text-align: right;\">\n",
       "      <th></th>\n",
       "      <th>Average_dine_in_per_month</th>\n",
       "      <th>state</th>\n",
       "    </tr>\n",
       "  </thead>\n",
       "  <tbody>\n",
       "    <tr>\n",
       "      <th>21</th>\n",
       "      <td>652</td>\n",
       "      <td>Morelos</td>\n",
       "    </tr>\n",
       "    <tr>\n",
       "      <th>26</th>\n",
       "      <td>443</td>\n",
       "      <td>San Luis Potosi</td>\n",
       "    </tr>\n",
       "    <tr>\n",
       "      <th>34</th>\n",
       "      <td>748</td>\n",
       "      <td>San Luis Potosi</td>\n",
       "    </tr>\n",
       "    <tr>\n",
       "      <th>43</th>\n",
       "      <td>765</td>\n",
       "      <td>Morelos</td>\n",
       "    </tr>\n",
       "  </tbody>\n",
       "</table>\n",
       "</div>"
      ],
      "text/plain": [
       "    Average_dine_in_per_month            state\n",
       "21                        652          Morelos\n",
       "26                        443  San Luis Potosi\n",
       "34                        748  San Luis Potosi\n",
       "43                        765          Morelos"
      ]
     },
     "execution_count": 62,
     "metadata": {},
     "output_type": "execute_result"
    }
   ],
   "source": [
    "restaurant_details.loc[[21, 26, 34, 43],[\"Average_dine_in_per_month\", \"state\"]]"
   ]
  },
  {
   "cell_type": "code",
   "execution_count": 63,
   "metadata": {},
   "outputs": [
    {
     "data": {
      "text/plain": [
       "675.5"
      ]
     },
     "execution_count": 63,
     "metadata": {},
     "output_type": "execute_result"
    }
   ],
   "source": [
    "#Check the median value. By default, NaN is skipped.\n",
    "restaurant_details[[\"Average_dine_in_per_month\"]].median()[0]"
   ]
  },
  {
   "cell_type": "code",
   "execution_count": 64,
   "metadata": {},
   "outputs": [],
   "source": [
    "average_dine_in_per_month_array = np.array(restaurant_details[\"Average_dine_in_per_month\"])\n",
    "imputer = SimpleImputer(strategy = \"median\")\n",
    "restaurant_details[\"AVERAGE_DINE_IN_PER_MONTH_MEDIAN_IMPUTED\"] = imputer.fit_transform(average_dine_in_per_month_array.reshape(-1,1))"
   ]
  },
  {
   "cell_type": "code",
   "execution_count": 65,
   "metadata": {},
   "outputs": [
    {
     "data": {
      "text/html": [
       "<div>\n",
       "<style scoped>\n",
       "    .dataframe tbody tr th:only-of-type {\n",
       "        vertical-align: middle;\n",
       "    }\n",
       "\n",
       "    .dataframe tbody tr th {\n",
       "        vertical-align: top;\n",
       "    }\n",
       "\n",
       "    .dataframe thead th {\n",
       "        text-align: right;\n",
       "    }\n",
       "</style>\n",
       "<table border=\"1\" class=\"dataframe\">\n",
       "  <thead>\n",
       "    <tr style=\"text-align: right;\">\n",
       "      <th></th>\n",
       "      <th>Average_dine_in_per_month</th>\n",
       "      <th>state</th>\n",
       "    </tr>\n",
       "  </thead>\n",
       "  <tbody>\n",
       "    <tr>\n",
       "      <th>21</th>\n",
       "      <td>652</td>\n",
       "      <td>Morelos</td>\n",
       "    </tr>\n",
       "    <tr>\n",
       "      <th>26</th>\n",
       "      <td>443</td>\n",
       "      <td>San Luis Potosi</td>\n",
       "    </tr>\n",
       "    <tr>\n",
       "      <th>34</th>\n",
       "      <td>748</td>\n",
       "      <td>San Luis Potosi</td>\n",
       "    </tr>\n",
       "    <tr>\n",
       "      <th>43</th>\n",
       "      <td>765</td>\n",
       "      <td>Morelos</td>\n",
       "    </tr>\n",
       "  </tbody>\n",
       "</table>\n",
       "</div>"
      ],
      "text/plain": [
       "    Average_dine_in_per_month            state\n",
       "21                        652          Morelos\n",
       "26                        443  San Luis Potosi\n",
       "34                        748  San Luis Potosi\n",
       "43                        765          Morelos"
      ]
     },
     "execution_count": 65,
     "metadata": {},
     "output_type": "execute_result"
    }
   ],
   "source": [
    "restaurant_details.loc[[21, 26, 34, 43],[\"Average_dine_in_per_month\", \"state\"]]"
   ]
  },
  {
   "cell_type": "code",
   "execution_count": 66,
   "metadata": {},
   "outputs": [
    {
     "data": {
      "text/html": [
       "<div>\n",
       "<style scoped>\n",
       "    .dataframe tbody tr th:only-of-type {\n",
       "        vertical-align: middle;\n",
       "    }\n",
       "\n",
       "    .dataframe tbody tr th {\n",
       "        vertical-align: top;\n",
       "    }\n",
       "\n",
       "    .dataframe thead th {\n",
       "        text-align: right;\n",
       "    }\n",
       "</style>\n",
       "<table border=\"1\" class=\"dataframe\">\n",
       "  <thead>\n",
       "    <tr style=\"text-align: right;\">\n",
       "      <th></th>\n",
       "      <th>Average_dine_in_per_month</th>\n",
       "    </tr>\n",
       "    <tr>\n",
       "      <th>state</th>\n",
       "      <th></th>\n",
       "    </tr>\n",
       "  </thead>\n",
       "  <tbody>\n",
       "    <tr>\n",
       "      <th>Mexico</th>\n",
       "      <td>859.0</td>\n",
       "    </tr>\n",
       "    <tr>\n",
       "      <th>Morelos</th>\n",
       "      <td>642.0</td>\n",
       "    </tr>\n",
       "    <tr>\n",
       "      <th>San Luis Potosi</th>\n",
       "      <td>618.5</td>\n",
       "    </tr>\n",
       "    <tr>\n",
       "      <th>Tamaulipas</th>\n",
       "      <td>736.0</td>\n",
       "    </tr>\n",
       "  </tbody>\n",
       "</table>\n",
       "</div>"
      ],
      "text/plain": [
       "                 Average_dine_in_per_month\n",
       "state                                     \n",
       "Mexico                               859.0\n",
       "Morelos                              642.0\n",
       "San Luis Potosi                      618.5\n",
       "Tamaulipas                           736.0"
      ]
     },
     "execution_count": 66,
     "metadata": {},
     "output_type": "execute_result"
    }
   ],
   "source": [
    "#Median average_dine_in_per_month in each state\n",
    "restaurant_details[[\"Average_dine_in_per_month\",\"state\"]].groupby(\"state\").median()"
   ]
  },
  {
   "cell_type": "code",
   "execution_count": 67,
   "metadata": {},
   "outputs": [
    {
     "data": {
      "text/html": [
       "<div>\n",
       "<style scoped>\n",
       "    .dataframe tbody tr th:only-of-type {\n",
       "        vertical-align: middle;\n",
       "    }\n",
       "\n",
       "    .dataframe tbody tr th {\n",
       "        vertical-align: top;\n",
       "    }\n",
       "\n",
       "    .dataframe thead th {\n",
       "        text-align: right;\n",
       "    }\n",
       "</style>\n",
       "<table border=\"1\" class=\"dataframe\">\n",
       "  <thead>\n",
       "    <tr style=\"text-align: right;\">\n",
       "      <th></th>\n",
       "      <th>Average_dine_in_per_month</th>\n",
       "      <th>state</th>\n",
       "    </tr>\n",
       "  </thead>\n",
       "  <tbody>\n",
       "    <tr>\n",
       "      <th>21</th>\n",
       "      <td>652</td>\n",
       "      <td>Morelos</td>\n",
       "    </tr>\n",
       "    <tr>\n",
       "      <th>26</th>\n",
       "      <td>443</td>\n",
       "      <td>San Luis Potosi</td>\n",
       "    </tr>\n",
       "    <tr>\n",
       "      <th>34</th>\n",
       "      <td>748</td>\n",
       "      <td>San Luis Potosi</td>\n",
       "    </tr>\n",
       "    <tr>\n",
       "      <th>43</th>\n",
       "      <td>765</td>\n",
       "      <td>Morelos</td>\n",
       "    </tr>\n",
       "  </tbody>\n",
       "</table>\n",
       "</div>"
      ],
      "text/plain": [
       "    Average_dine_in_per_month            state\n",
       "21                        652          Morelos\n",
       "26                        443  San Luis Potosi\n",
       "34                        748  San Luis Potosi\n",
       "43                        765          Morelos"
      ]
     },
     "execution_count": 67,
     "metadata": {},
     "output_type": "execute_result"
    }
   ],
   "source": [
    "restaurant_details.loc[[21, 26, 34, 43],[\"Average_dine_in_per_month\",\"state\"]]"
   ]
  },
  {
   "cell_type": "code",
   "execution_count": 68,
   "metadata": {},
   "outputs": [
    {
     "data": {
      "text/html": [
       "<div>\n",
       "<style scoped>\n",
       "    .dataframe tbody tr th:only-of-type {\n",
       "        vertical-align: middle;\n",
       "    }\n",
       "\n",
       "    .dataframe tbody tr th {\n",
       "        vertical-align: top;\n",
       "    }\n",
       "\n",
       "    .dataframe thead th {\n",
       "        text-align: right;\n",
       "    }\n",
       "</style>\n",
       "<table border=\"1\" class=\"dataframe\">\n",
       "  <thead>\n",
       "    <tr style=\"text-align: right;\">\n",
       "      <th></th>\n",
       "      <th>Average_dine_in_per_month</th>\n",
       "      <th>state</th>\n",
       "    </tr>\n",
       "  </thead>\n",
       "  <tbody>\n",
       "    <tr>\n",
       "      <th>21</th>\n",
       "      <td>652</td>\n",
       "      <td>Morelos</td>\n",
       "    </tr>\n",
       "    <tr>\n",
       "      <th>26</th>\n",
       "      <td>443</td>\n",
       "      <td>San Luis Potosi</td>\n",
       "    </tr>\n",
       "    <tr>\n",
       "      <th>34</th>\n",
       "      <td>748</td>\n",
       "      <td>San Luis Potosi</td>\n",
       "    </tr>\n",
       "    <tr>\n",
       "      <th>43</th>\n",
       "      <td>765</td>\n",
       "      <td>Morelos</td>\n",
       "    </tr>\n",
       "  </tbody>\n",
       "</table>\n",
       "</div>"
      ],
      "text/plain": [
       "    Average_dine_in_per_month            state\n",
       "21                        652          Morelos\n",
       "26                        443  San Luis Potosi\n",
       "34                        748  San Luis Potosi\n",
       "43                        765          Morelos"
      ]
     },
     "execution_count": 68,
     "metadata": {},
     "output_type": "execute_result"
    }
   ],
   "source": [
    "grouped_restaurant_details = restaurant_details[[\"Average_dine_in_per_month\",\"state\"]].groupby(\"state\")\n",
    "median_updated = grouped_restaurant_details.transform(lambda x: x.fillna(x.median()))\n",
    "median_updated[\"state\"] = restaurant_details[\"state\"]\n",
    "median_updated.loc[[21, 26, 34, 43],:]"
   ]
  },
  {
   "cell_type": "markdown",
   "metadata": {},
   "source": [
    "## Merge Data"
   ]
  },
  {
   "cell_type": "markdown",
   "metadata": {},
   "source": [
    "### Merge restaurant_details and cuisine"
   ]
  },
  {
   "cell_type": "code",
   "execution_count": 69,
   "metadata": {},
   "outputs": [
    {
     "name": "stdout",
     "output_type": "stream",
     "text": [
      "['placeID' 'name' 'address' 'state' 'country' 'alcohol' 'smoking_area'\n",
      " 'price' 'area' 'other_services' 'Region' 'Average_dine_in_per_month'\n",
      " 'AVERAGE_DINE_IN_PER_MONTH_MEAN_IMPUTED'\n",
      " 'AVERAGE_DINE_IN_PER_MONTH_MEDIAN_IMPUTED']\n"
     ]
    }
   ],
   "source": [
    "print(restaurant_details.columns.values)"
   ]
  },
  {
   "cell_type": "code",
   "execution_count": 70,
   "metadata": {},
   "outputs": [
    {
     "name": "stdout",
     "output_type": "stream",
     "text": [
      "['placeID' 'Rcuisine']\n"
     ]
    }
   ],
   "source": [
    "print(restaurant_cuisine.columns.values)"
   ]
  },
  {
   "cell_type": "code",
   "execution_count": 71,
   "metadata": {},
   "outputs": [
    {
     "name": "stdout",
     "output_type": "stream",
     "text": [
      "['placeID' 'name' 'address' 'state' 'country' 'alcohol' 'smoking_area'\n",
      " 'price' 'area' 'other_services' 'Region' 'Average_dine_in_per_month'\n",
      " 'AVERAGE_DINE_IN_PER_MONTH_MEAN_IMPUTED'\n",
      " 'AVERAGE_DINE_IN_PER_MONTH_MEDIAN_IMPUTED' 'Rcuisine']\n"
     ]
    }
   ],
   "source": [
    "restaurant_details_cuisine = pd.merge(restaurant_details,restaurant_cuisine.set_index('placeID'), left_on= 'placeID',right_index=True, how = 'inner')\n",
    "print(restaurant_details_cuisine.columns.values)"
   ]
  },
  {
   "cell_type": "code",
   "execution_count": 72,
   "metadata": {},
   "outputs": [
    {
     "data": {
      "text/plain": [
       "110"
      ]
     },
     "execution_count": 72,
     "metadata": {},
     "output_type": "execute_result"
    }
   ],
   "source": [
    "#print(restaurant_details.shape)\n",
    "restaurant_details['placeID'].count()"
   ]
  },
  {
   "cell_type": "code",
   "execution_count": 73,
   "metadata": {},
   "outputs": [
    {
     "data": {
      "text/plain": [
       "916"
      ]
     },
     "execution_count": 73,
     "metadata": {},
     "output_type": "execute_result"
    }
   ],
   "source": [
    "#print(resturant_cuisine.shape)\n",
    "restaurant_cuisine['placeID'].count()"
   ]
  },
  {
   "cell_type": "code",
   "execution_count": 74,
   "metadata": {},
   "outputs": [
    {
     "data": {
      "text/plain": [
       "97"
      ]
     },
     "execution_count": 74,
     "metadata": {},
     "output_type": "execute_result"
    }
   ],
   "source": [
    "#print(details_cuisine.shape)\n",
    "restaurant_details_cuisine['placeID'].count()"
   ]
  },
  {
   "cell_type": "markdown",
   "metadata": {},
   "source": [
    "### Merge restaurant_details_cuisine and restaurant_parking"
   ]
  },
  {
   "cell_type": "code",
   "execution_count": 75,
   "metadata": {},
   "outputs": [
    {
     "name": "stdout",
     "output_type": "stream",
     "text": [
      "['placeID' 'parking_lot']\n"
     ]
    }
   ],
   "source": [
    "print(restaurant_parking.columns.values)"
   ]
  },
  {
   "cell_type": "code",
   "execution_count": 76,
   "metadata": {},
   "outputs": [
    {
     "name": "stdout",
     "output_type": "stream",
     "text": [
      "['placeID' 'name' 'address' 'state' 'country' 'alcohol' 'smoking_area'\n",
      " 'price' 'area' 'other_services' 'Region' 'Average_dine_in_per_month'\n",
      " 'AVERAGE_DINE_IN_PER_MONTH_MEAN_IMPUTED'\n",
      " 'AVERAGE_DINE_IN_PER_MONTH_MEDIAN_IMPUTED' 'Rcuisine' 'parking_lot']\n"
     ]
    }
   ],
   "source": [
    "restaurant_details_cuisine_parking = pd.merge(restaurant_details_cuisine,restaurant_parking.set_index('placeID'), left_on= 'placeID',right_index=True)\n",
    "print(restaurant_details_cuisine_parking.columns.values)"
   ]
  },
  {
   "cell_type": "markdown",
   "metadata": {},
   "source": [
    "## Subset data"
   ]
  },
  {
   "cell_type": "code",
   "execution_count": 77,
   "metadata": {},
   "outputs": [
    {
     "data": {
      "text/html": [
       "<div>\n",
       "<style scoped>\n",
       "    .dataframe tbody tr th:only-of-type {\n",
       "        vertical-align: middle;\n",
       "    }\n",
       "\n",
       "    .dataframe tbody tr th {\n",
       "        vertical-align: top;\n",
       "    }\n",
       "\n",
       "    .dataframe thead th {\n",
       "        text-align: right;\n",
       "    }\n",
       "</style>\n",
       "<table border=\"1\" class=\"dataframe\">\n",
       "  <thead>\n",
       "    <tr style=\"text-align: right;\">\n",
       "      <th></th>\n",
       "      <th>placeID</th>\n",
       "      <th>name</th>\n",
       "      <th>Rcuisine</th>\n",
       "      <th>parking_lot</th>\n",
       "    </tr>\n",
       "  </thead>\n",
       "  <tbody>\n",
       "    <tr>\n",
       "      <th>0</th>\n",
       "      <td>134999</td>\n",
       "      <td>Kiku Cuernavaca</td>\n",
       "      <td>Japanese</td>\n",
       "      <td>none</td>\n",
       "    </tr>\n",
       "    <tr>\n",
       "      <th>1</th>\n",
       "      <td>132825</td>\n",
       "      <td>puesto de tacos</td>\n",
       "      <td>Mexican</td>\n",
       "      <td>none</td>\n",
       "    </tr>\n",
       "    <tr>\n",
       "      <th>2</th>\n",
       "      <td>135106</td>\n",
       "      <td>El Rincon de San Francisco</td>\n",
       "      <td>Mexican</td>\n",
       "      <td>none</td>\n",
       "    </tr>\n",
       "    <tr>\n",
       "      <th>3</th>\n",
       "      <td>132667</td>\n",
       "      <td>little pizza Emilio Portes Gil</td>\n",
       "      <td>Armenian</td>\n",
       "      <td>none</td>\n",
       "    </tr>\n",
       "    <tr>\n",
       "      <th>4</th>\n",
       "      <td>132613</td>\n",
       "      <td>carnitas_mata</td>\n",
       "      <td>Mexican</td>\n",
       "      <td>yes</td>\n",
       "    </tr>\n",
       "  </tbody>\n",
       "</table>\n",
       "</div>"
      ],
      "text/plain": [
       "   placeID                              name  Rcuisine parking_lot\n",
       "0   134999                  Kiku Cuernavaca   Japanese        none\n",
       "1   132825                  puesto de tacos    Mexican        none\n",
       "2   135106       El Rincon de San Francisco    Mexican        none\n",
       "3   132667   little pizza Emilio Portes Gil   Armenian        none\n",
       "4   132613                    carnitas_mata    Mexican         yes"
      ]
     },
     "execution_count": 77,
     "metadata": {},
     "output_type": "execute_result"
    }
   ],
   "source": [
    "#Display placeid, name, cuisine and parkin_lot info\n",
    "restaurant_details_cuisine_parking.loc[:,['placeID','name','Rcuisine','parking_lot']].head()"
   ]
  },
  {
   "cell_type": "code",
   "execution_count": 78,
   "metadata": {},
   "outputs": [
    {
     "data": {
      "text/plain": [
       "Mexican             22\n",
       "Bar                 12\n",
       "Cafeteria            8\n",
       "Fast_Food            7\n",
       "Bar_Pub_Brewery      6\n",
       "Seafood              5\n",
       "Pizzeria             5\n",
       "International        4\n",
       "Japanese             4\n",
       "American             4\n",
       "Burgers              4\n",
       "Chinese              3\n",
       "Contemporary         2\n",
       "Family               2\n",
       "Italian              2\n",
       "Armenian             1\n",
       "Vietnamese           1\n",
       "Breakfast-Brunch     1\n",
       "Cafe-Coffee_Shop     1\n",
       "Game                 1\n",
       "Regional             1\n",
       "Bakery               1\n",
       "Name: Rcuisine, dtype: int64"
      ]
     },
     "execution_count": 78,
     "metadata": {},
     "output_type": "execute_result"
    }
   ],
   "source": [
    "#Check the various cuisines and their value counts\n",
    "restaurant_details_cuisine_parking['Rcuisine'].value_counts()"
   ]
  },
  {
   "cell_type": "code",
   "execution_count": 79,
   "metadata": {},
   "outputs": [
    {
     "data": {
      "text/plain": [
       "none             44\n",
       "yes              38\n",
       "public           14\n",
       "valet parking     1\n",
       "Name: parking_lot, dtype: int64"
      ]
     },
     "execution_count": 79,
     "metadata": {},
     "output_type": "execute_result"
    }
   ],
   "source": [
    "#Check the various kinds of parking lots and their value counts\n",
    "restaurant_details_cuisine_parking['parking_lot'].value_counts()"
   ]
  },
  {
   "cell_type": "code",
   "execution_count": 80,
   "metadata": {},
   "outputs": [
    {
     "data": {
      "text/html": [
       "<div>\n",
       "<style scoped>\n",
       "    .dataframe tbody tr th:only-of-type {\n",
       "        vertical-align: middle;\n",
       "    }\n",
       "\n",
       "    .dataframe tbody tr th {\n",
       "        vertical-align: top;\n",
       "    }\n",
       "\n",
       "    .dataframe thead th {\n",
       "        text-align: right;\n",
       "    }\n",
       "</style>\n",
       "<table border=\"1\" class=\"dataframe\">\n",
       "  <thead>\n",
       "    <tr style=\"text-align: right;\">\n",
       "      <th></th>\n",
       "      <th>placeID</th>\n",
       "      <th>name</th>\n",
       "      <th>Rcuisine</th>\n",
       "      <th>parking_lot</th>\n",
       "    </tr>\n",
       "  </thead>\n",
       "  <tbody>\n",
       "    <tr>\n",
       "      <th>38</th>\n",
       "      <td>132608</td>\n",
       "      <td>Hamburguesas La perica</td>\n",
       "      <td>Mexican</td>\n",
       "      <td>public</td>\n",
       "    </tr>\n",
       "    <tr>\n",
       "      <th>56</th>\n",
       "      <td>132723</td>\n",
       "      <td>Gordas de morales</td>\n",
       "      <td>Mexican</td>\n",
       "      <td>public</td>\n",
       "    </tr>\n",
       "    <tr>\n",
       "      <th>72</th>\n",
       "      <td>132834</td>\n",
       "      <td>Gorditas Doa Gloria</td>\n",
       "      <td>Mexican</td>\n",
       "      <td>public</td>\n",
       "    </tr>\n",
       "    <tr>\n",
       "      <th>79</th>\n",
       "      <td>132706</td>\n",
       "      <td>Gorditas Dona Tota</td>\n",
       "      <td>Mexican</td>\n",
       "      <td>public</td>\n",
       "    </tr>\n",
       "    <tr>\n",
       "      <th>88</th>\n",
       "      <td>132755</td>\n",
       "      <td>La Estrella de Dimas</td>\n",
       "      <td>Mexican</td>\n",
       "      <td>public</td>\n",
       "    </tr>\n",
       "  </tbody>\n",
       "</table>\n",
       "</div>"
      ],
      "text/plain": [
       "    placeID                      name Rcuisine parking_lot\n",
       "38   132608   Hamburguesas La perica   Mexican      public\n",
       "56   132723        Gordas de morales   Mexican      public\n",
       "72   132834      Gorditas Doa Gloria   Mexican      public\n",
       "79   132706       Gorditas Dona Tota   Mexican      public\n",
       "88   132755     La Estrella de Dimas   Mexican      public"
      ]
     },
     "execution_count": 80,
     "metadata": {},
     "output_type": "execute_result"
    }
   ],
   "source": [
    "#Sub-setting data frame - Mexican cuisine, with public parking\n",
    "subset = restaurant_details_cuisine_parking.loc[(restaurant_details_cuisine_parking.Rcuisine == 'Mexican') & (restaurant_details_cuisine_parking.parking_lot == 'public'), ['placeID', 'name','Rcuisine','parking_lot']]\n",
    "subset"
   ]
  },
  {
   "cell_type": "code",
   "execution_count": 81,
   "metadata": {},
   "outputs": [
    {
     "data": {
      "text/html": [
       "<div>\n",
       "<style scoped>\n",
       "    .dataframe tbody tr th:only-of-type {\n",
       "        vertical-align: middle;\n",
       "    }\n",
       "\n",
       "    .dataframe tbody tr th {\n",
       "        vertical-align: top;\n",
       "    }\n",
       "\n",
       "    .dataframe thead th {\n",
       "        text-align: right;\n",
       "    }\n",
       "</style>\n",
       "<table border=\"1\" class=\"dataframe\">\n",
       "  <thead>\n",
       "    <tr style=\"text-align: right;\">\n",
       "      <th></th>\n",
       "      <th>name</th>\n",
       "      <th>Rcuisine</th>\n",
       "      <th>parking_lot</th>\n",
       "    </tr>\n",
       "  </thead>\n",
       "  <tbody>\n",
       "    <tr>\n",
       "      <th>1</th>\n",
       "      <td>puesto de tacos</td>\n",
       "      <td>Mexican</td>\n",
       "      <td>none</td>\n",
       "    </tr>\n",
       "    <tr>\n",
       "      <th>2</th>\n",
       "      <td>El Rincon de San Francisco</td>\n",
       "      <td>Mexican</td>\n",
       "      <td>none</td>\n",
       "    </tr>\n",
       "    <tr>\n",
       "      <th>4</th>\n",
       "      <td>carnitas_mata</td>\n",
       "      <td>Mexican</td>\n",
       "      <td>yes</td>\n",
       "    </tr>\n",
       "    <tr>\n",
       "      <th>6</th>\n",
       "      <td>Taqueria EL amigo</td>\n",
       "      <td>Mexican</td>\n",
       "      <td>none</td>\n",
       "    </tr>\n",
       "    <tr>\n",
       "      <th>18</th>\n",
       "      <td>TACOS EL GUERO</td>\n",
       "      <td>Mexican</td>\n",
       "      <td>none</td>\n",
       "    </tr>\n",
       "    <tr>\n",
       "      <th>22</th>\n",
       "      <td>KFC</td>\n",
       "      <td>American</td>\n",
       "      <td>yes</td>\n",
       "    </tr>\n",
       "    <tr>\n",
       "      <th>31</th>\n",
       "      <td>El Rincon de San Francisco</td>\n",
       "      <td>Mexican</td>\n",
       "      <td>none</td>\n",
       "    </tr>\n",
       "    <tr>\n",
       "      <th>38</th>\n",
       "      <td>Hamburguesas La perica</td>\n",
       "      <td>Mexican</td>\n",
       "      <td>public</td>\n",
       "    </tr>\n",
       "    <tr>\n",
       "      <th>50</th>\n",
       "      <td>la Cochinita Pibil Restaurante Yucateco</td>\n",
       "      <td>Mexican</td>\n",
       "      <td>yes</td>\n",
       "    </tr>\n",
       "    <tr>\n",
       "      <th>52</th>\n",
       "      <td>El Oceano Dorado</td>\n",
       "      <td>Mexican</td>\n",
       "      <td>yes</td>\n",
       "    </tr>\n",
       "    <tr>\n",
       "      <th>56</th>\n",
       "      <td>Gordas de morales</td>\n",
       "      <td>Mexican</td>\n",
       "      <td>public</td>\n",
       "    </tr>\n",
       "    <tr>\n",
       "      <th>60</th>\n",
       "      <td>Cenaduria El Rincan de Tlaquepaque</td>\n",
       "      <td>Mexican</td>\n",
       "      <td>none</td>\n",
       "    </tr>\n",
       "    <tr>\n",
       "      <th>65</th>\n",
       "      <td>palomo tec</td>\n",
       "      <td>Mexican</td>\n",
       "      <td>none</td>\n",
       "    </tr>\n",
       "    <tr>\n",
       "      <th>67</th>\n",
       "      <td>VIPS</td>\n",
       "      <td>American</td>\n",
       "      <td>yes</td>\n",
       "    </tr>\n",
       "    <tr>\n",
       "      <th>68</th>\n",
       "      <td>TACOS CORRECAMINOS</td>\n",
       "      <td>Mexican</td>\n",
       "      <td>none</td>\n",
       "    </tr>\n",
       "    <tr>\n",
       "      <th>72</th>\n",
       "      <td>Gorditas Doa Gloria</td>\n",
       "      <td>Mexican</td>\n",
       "      <td>public</td>\n",
       "    </tr>\n",
       "    <tr>\n",
       "      <th>77</th>\n",
       "      <td>Carreton de Flautas y Migadas</td>\n",
       "      <td>Mexican</td>\n",
       "      <td>none</td>\n",
       "    </tr>\n",
       "    <tr>\n",
       "      <th>78</th>\n",
       "      <td>El cotorreo</td>\n",
       "      <td>Mexican</td>\n",
       "      <td>none</td>\n",
       "    </tr>\n",
       "    <tr>\n",
       "      <th>79</th>\n",
       "      <td>Gorditas Dona Tota</td>\n",
       "      <td>Mexican</td>\n",
       "      <td>public</td>\n",
       "    </tr>\n",
       "    <tr>\n",
       "      <th>82</th>\n",
       "      <td>tacos los volcanes</td>\n",
       "      <td>American</td>\n",
       "      <td>none</td>\n",
       "    </tr>\n",
       "    <tr>\n",
       "      <th>84</th>\n",
       "      <td>Restaurant Orizatlan</td>\n",
       "      <td>Mexican</td>\n",
       "      <td>none</td>\n",
       "    </tr>\n",
       "    <tr>\n",
       "      <th>88</th>\n",
       "      <td>La Estrella de Dimas</td>\n",
       "      <td>Mexican</td>\n",
       "      <td>public</td>\n",
       "    </tr>\n",
       "    <tr>\n",
       "      <th>101</th>\n",
       "      <td>Cabana Huasteca</td>\n",
       "      <td>Mexican</td>\n",
       "      <td>none</td>\n",
       "    </tr>\n",
       "    <tr>\n",
       "      <th>103</th>\n",
       "      <td>La Virreina</td>\n",
       "      <td>Mexican</td>\n",
       "      <td>none</td>\n",
       "    </tr>\n",
       "    <tr>\n",
       "      <th>105</th>\n",
       "      <td>tacos abi</td>\n",
       "      <td>Mexican</td>\n",
       "      <td>none</td>\n",
       "    </tr>\n",
       "    <tr>\n",
       "      <th>106</th>\n",
       "      <td>McDonalds Centro</td>\n",
       "      <td>American</td>\n",
       "      <td>none</td>\n",
       "    </tr>\n",
       "  </tbody>\n",
       "</table>\n",
       "</div>"
      ],
      "text/plain": [
       "                                          name  Rcuisine parking_lot\n",
       "1                             puesto de tacos    Mexican        none\n",
       "2                  El Rincon de San Francisco    Mexican        none\n",
       "4                               carnitas_mata    Mexican         yes\n",
       "6                          Taqueria EL amigo     Mexican        none\n",
       "18                             TACOS EL GUERO    Mexican        none\n",
       "22                                        KFC   American         yes\n",
       "31                 El Rincon de San Francisco    Mexican        none\n",
       "38                     Hamburguesas La perica    Mexican      public\n",
       "50    la Cochinita Pibil Restaurante Yucateco    Mexican         yes\n",
       "52                           El Oceano Dorado    Mexican         yes\n",
       "56                          Gordas de morales    Mexican      public\n",
       "60         Cenaduria El Rincan de Tlaquepaque    Mexican        none\n",
       "65                                 palomo tec    Mexican        none\n",
       "67                                       VIPS   American         yes\n",
       "68                         TACOS CORRECAMINOS    Mexican        none\n",
       "72                        Gorditas Doa Gloria    Mexican      public\n",
       "77              Carreton de Flautas y Migadas    Mexican        none\n",
       "78                                El cotorreo    Mexican        none\n",
       "79                         Gorditas Dona Tota    Mexican      public\n",
       "82                         tacos los volcanes   American        none\n",
       "84                       Restaurant Orizatlan    Mexican        none\n",
       "88                       La Estrella de Dimas    Mexican      public\n",
       "101                           Cabana Huasteca    Mexican        none\n",
       "103                               La Virreina    Mexican        none\n",
       "105                                 tacos abi    Mexican        none\n",
       "106                          McDonalds Centro   American        none"
      ]
     },
     "execution_count": 81,
     "metadata": {},
     "output_type": "execute_result"
    }
   ],
   "source": [
    "#Sub-setting data frame - Mexican or American cuisine\n",
    "subset = restaurant_details_cuisine_parking.loc[(restaurant_details_cuisine_parking.Rcuisine == 'Mexican') | (restaurant_details_cuisine_parking.Rcuisine == 'American'), ['name','Rcuisine', 'parking_lot']]\n",
    "subset\n",
    "\n",
    "# OR #\n",
    "\n",
    "#subset = restaurant_details_cuisine_parking.loc[(restaurant_details_cuisine_parking.Rcuisine.isin(['Mexican', 'American'])), ['NAME','Rcuisine', 'parking_lot']]\n",
    "#subset\n",
    "\n",
    "\n",
    "\n"
   ]
  },
  {
   "cell_type": "markdown",
   "metadata": {},
   "source": [
    "## Order data"
   ]
  },
  {
   "cell_type": "code",
   "execution_count": 82,
   "metadata": {},
   "outputs": [
    {
     "name": "stdout",
     "output_type": "stream",
     "text": [
      "['gender' 'smoker' 'drink_level' 'dress_preference' 'ambience' 'transport'\n",
      " 'marital_status' 'interest' 'personality' 'religion' 'activity' 'income'\n",
      " 'FRVPM' 'AERPM']\n"
     ]
    }
   ],
   "source": [
    "print(consumer_survey.columns.values)"
   ]
  },
  {
   "cell_type": "code",
   "execution_count": 83,
   "metadata": {},
   "outputs": [
    {
     "data": {
      "text/html": [
       "<div>\n",
       "<style scoped>\n",
       "    .dataframe tbody tr th:only-of-type {\n",
       "        vertical-align: middle;\n",
       "    }\n",
       "\n",
       "    .dataframe tbody tr th {\n",
       "        vertical-align: top;\n",
       "    }\n",
       "\n",
       "    .dataframe thead th {\n",
       "        text-align: right;\n",
       "    }\n",
       "</style>\n",
       "<table border=\"1\" class=\"dataframe\">\n",
       "  <thead>\n",
       "    <tr style=\"text-align: right;\">\n",
       "      <th></th>\n",
       "      <th>gender</th>\n",
       "      <th>smoker</th>\n",
       "      <th>marital_status</th>\n",
       "      <th>FRVPM</th>\n",
       "    </tr>\n",
       "  </thead>\n",
       "  <tbody>\n",
       "    <tr>\n",
       "      <th>0</th>\n",
       "      <td>male</td>\n",
       "      <td>False</td>\n",
       "      <td>single</td>\n",
       "      <td>12</td>\n",
       "    </tr>\n",
       "    <tr>\n",
       "      <th>1</th>\n",
       "      <td>female</td>\n",
       "      <td>False</td>\n",
       "      <td>single</td>\n",
       "      <td>12</td>\n",
       "    </tr>\n",
       "    <tr>\n",
       "      <th>2</th>\n",
       "      <td>female</td>\n",
       "      <td>False</td>\n",
       "      <td>single</td>\n",
       "      <td>3</td>\n",
       "    </tr>\n",
       "    <tr>\n",
       "      <th>3</th>\n",
       "      <td>male</td>\n",
       "      <td>False</td>\n",
       "      <td>single</td>\n",
       "      <td>18</td>\n",
       "    </tr>\n",
       "    <tr>\n",
       "      <th>4</th>\n",
       "      <td>female</td>\n",
       "      <td>False</td>\n",
       "      <td>single</td>\n",
       "      <td>15</td>\n",
       "    </tr>\n",
       "  </tbody>\n",
       "</table>\n",
       "</div>"
      ],
      "text/plain": [
       "   gender smoker marital_status  FRVPM\n",
       "0    male  False         single     12\n",
       "1  female  False         single     12\n",
       "2  female  False         single      3\n",
       "3    male  False         single     18\n",
       "4  female  False         single     15"
      ]
     },
     "execution_count": 83,
     "metadata": {},
     "output_type": "execute_result"
    }
   ],
   "source": [
    "#Before Ordering\n",
    "consumer_survey.loc[:,['gender','smoker','marital_status','FRVPM']].head()"
   ]
  },
  {
   "cell_type": "code",
   "execution_count": 84,
   "metadata": {},
   "outputs": [
    {
     "data": {
      "text/html": [
       "<div>\n",
       "<style scoped>\n",
       "    .dataframe tbody tr th:only-of-type {\n",
       "        vertical-align: middle;\n",
       "    }\n",
       "\n",
       "    .dataframe tbody tr th {\n",
       "        vertical-align: top;\n",
       "    }\n",
       "\n",
       "    .dataframe thead th {\n",
       "        text-align: right;\n",
       "    }\n",
       "</style>\n",
       "<table border=\"1\" class=\"dataframe\">\n",
       "  <thead>\n",
       "    <tr style=\"text-align: right;\">\n",
       "      <th></th>\n",
       "      <th>gender</th>\n",
       "      <th>smoker</th>\n",
       "      <th>marital_status</th>\n",
       "      <th>FRVPM</th>\n",
       "    </tr>\n",
       "  </thead>\n",
       "  <tbody>\n",
       "    <tr>\n",
       "      <th>133</th>\n",
       "      <td>male</td>\n",
       "      <td>False</td>\n",
       "      <td>single</td>\n",
       "      <td>2</td>\n",
       "    </tr>\n",
       "    <tr>\n",
       "      <th>130</th>\n",
       "      <td>female</td>\n",
       "      <td>False</td>\n",
       "      <td>single</td>\n",
       "      <td>2</td>\n",
       "    </tr>\n",
       "    <tr>\n",
       "      <th>22</th>\n",
       "      <td>male</td>\n",
       "      <td>False</td>\n",
       "      <td>single</td>\n",
       "      <td>2</td>\n",
       "    </tr>\n",
       "    <tr>\n",
       "      <th>108</th>\n",
       "      <td>male</td>\n",
       "      <td>True</td>\n",
       "      <td>single</td>\n",
       "      <td>2</td>\n",
       "    </tr>\n",
       "    <tr>\n",
       "      <th>45</th>\n",
       "      <td>male</td>\n",
       "      <td>False</td>\n",
       "      <td>single</td>\n",
       "      <td>2</td>\n",
       "    </tr>\n",
       "  </tbody>\n",
       "</table>\n",
       "</div>"
      ],
      "text/plain": [
       "     gender smoker marital_status  FRVPM\n",
       "133    male  False         single      2\n",
       "130  female  False         single      2\n",
       "22     male  False         single      2\n",
       "108    male   True         single      2\n",
       "45     male  False         single      2"
      ]
     },
     "execution_count": 84,
     "metadata": {},
     "output_type": "execute_result"
    }
   ],
   "source": [
    "#Ordering in Increasing Order of FRVPM\n",
    "consumer_survey.sort_values(by=['FRVPM']).loc[:,['gender','smoker','marital_status','FRVPM']].head()"
   ]
  },
  {
   "cell_type": "code",
   "execution_count": 85,
   "metadata": {},
   "outputs": [
    {
     "data": {
      "text/html": [
       "<div>\n",
       "<style scoped>\n",
       "    .dataframe tbody tr th:only-of-type {\n",
       "        vertical-align: middle;\n",
       "    }\n",
       "\n",
       "    .dataframe tbody tr th {\n",
       "        vertical-align: top;\n",
       "    }\n",
       "\n",
       "    .dataframe thead th {\n",
       "        text-align: right;\n",
       "    }\n",
       "</style>\n",
       "<table border=\"1\" class=\"dataframe\">\n",
       "  <thead>\n",
       "    <tr style=\"text-align: right;\">\n",
       "      <th></th>\n",
       "      <th>gender</th>\n",
       "      <th>smoker</th>\n",
       "      <th>marital_status</th>\n",
       "      <th>FRVPM</th>\n",
       "    </tr>\n",
       "  </thead>\n",
       "  <tbody>\n",
       "    <tr>\n",
       "      <th>98</th>\n",
       "      <td>male</td>\n",
       "      <td>False</td>\n",
       "      <td>single</td>\n",
       "      <td>60</td>\n",
       "    </tr>\n",
       "    <tr>\n",
       "      <th>132</th>\n",
       "      <td>male</td>\n",
       "      <td>False</td>\n",
       "      <td>single</td>\n",
       "      <td>45</td>\n",
       "    </tr>\n",
       "    <tr>\n",
       "      <th>10</th>\n",
       "      <td>female</td>\n",
       "      <td>False</td>\n",
       "      <td>single</td>\n",
       "      <td>22</td>\n",
       "    </tr>\n",
       "    <tr>\n",
       "      <th>3</th>\n",
       "      <td>male</td>\n",
       "      <td>False</td>\n",
       "      <td>single</td>\n",
       "      <td>18</td>\n",
       "    </tr>\n",
       "    <tr>\n",
       "      <th>16</th>\n",
       "      <td>female</td>\n",
       "      <td>False</td>\n",
       "      <td>single</td>\n",
       "      <td>18</td>\n",
       "    </tr>\n",
       "  </tbody>\n",
       "</table>\n",
       "</div>"
      ],
      "text/plain": [
       "     gender smoker marital_status  FRVPM\n",
       "98     male  False         single     60\n",
       "132    male  False         single     45\n",
       "10   female  False         single     22\n",
       "3      male  False         single     18\n",
       "16   female  False         single     18"
      ]
     },
     "execution_count": 85,
     "metadata": {},
     "output_type": "execute_result"
    }
   ],
   "source": [
    "#Ordering in Decreasing Order of FRVPM\n",
    "consumer_survey.sort_values(by=['FRVPM'],ascending = False).loc[:,['gender','smoker','marital_status','FRVPM']].head()"
   ]
  },
  {
   "cell_type": "markdown",
   "metadata": {},
   "source": [
    "## Reshape data"
   ]
  },
  {
   "cell_type": "code",
   "execution_count": 86,
   "metadata": {},
   "outputs": [
    {
     "data": {
      "text/plain": [
       "none             44\n",
       "yes              38\n",
       "public           14\n",
       "valet parking     1\n",
       "Name: parking_lot, dtype: int64"
      ]
     },
     "execution_count": 86,
     "metadata": {},
     "output_type": "execute_result"
    }
   ],
   "source": [
    "#Value counts: parking_lot\n",
    "restaurant_details_cuisine_parking['parking_lot'].value_counts()"
   ]
  },
  {
   "cell_type": "code",
   "execution_count": 87,
   "metadata": {},
   "outputs": [
    {
     "data": {
      "text/html": [
       "<div>\n",
       "<style scoped>\n",
       "    .dataframe tbody tr th:only-of-type {\n",
       "        vertical-align: middle;\n",
       "    }\n",
       "\n",
       "    .dataframe tbody tr th {\n",
       "        vertical-align: top;\n",
       "    }\n",
       "\n",
       "    .dataframe thead th {\n",
       "        text-align: right;\n",
       "    }\n",
       "</style>\n",
       "<table border=\"1\" class=\"dataframe\">\n",
       "  <thead>\n",
       "    <tr style=\"text-align: right;\">\n",
       "      <th></th>\n",
       "      <th>placeID</th>\n",
       "      <th>name</th>\n",
       "      <th>Rcuisine</th>\n",
       "      <th>parking_lot</th>\n",
       "      <th>parking_availability</th>\n",
       "    </tr>\n",
       "  </thead>\n",
       "  <tbody>\n",
       "    <tr>\n",
       "      <th>0</th>\n",
       "      <td>134999</td>\n",
       "      <td>Kiku Cuernavaca</td>\n",
       "      <td>Japanese</td>\n",
       "      <td>none</td>\n",
       "      <td>False</td>\n",
       "    </tr>\n",
       "    <tr>\n",
       "      <th>1</th>\n",
       "      <td>132825</td>\n",
       "      <td>puesto de tacos</td>\n",
       "      <td>Mexican</td>\n",
       "      <td>none</td>\n",
       "      <td>False</td>\n",
       "    </tr>\n",
       "    <tr>\n",
       "      <th>2</th>\n",
       "      <td>135106</td>\n",
       "      <td>El Rincon de San Francisco</td>\n",
       "      <td>Mexican</td>\n",
       "      <td>none</td>\n",
       "      <td>False</td>\n",
       "    </tr>\n",
       "    <tr>\n",
       "      <th>3</th>\n",
       "      <td>132667</td>\n",
       "      <td>little pizza Emilio Portes Gil</td>\n",
       "      <td>Armenian</td>\n",
       "      <td>none</td>\n",
       "      <td>False</td>\n",
       "    </tr>\n",
       "    <tr>\n",
       "      <th>4</th>\n",
       "      <td>132613</td>\n",
       "      <td>carnitas_mata</td>\n",
       "      <td>Mexican</td>\n",
       "      <td>yes</td>\n",
       "      <td>True</td>\n",
       "    </tr>\n",
       "  </tbody>\n",
       "</table>\n",
       "</div>"
      ],
      "text/plain": [
       "   placeID                              name  Rcuisine parking_lot  \\\n",
       "0   134999                  Kiku Cuernavaca   Japanese        none   \n",
       "1   132825                  puesto de tacos    Mexican        none   \n",
       "2   135106       El Rincon de San Francisco    Mexican        none   \n",
       "3   132667   little pizza Emilio Portes Gil   Armenian        none   \n",
       "4   132613                    carnitas_mata    Mexican         yes   \n",
       "\n",
       "   parking_availability  \n",
       "0                 False  \n",
       "1                 False  \n",
       "2                 False  \n",
       "3                 False  \n",
       "4                  True  "
      ]
     },
     "execution_count": 87,
     "metadata": {},
     "output_type": "execute_result"
    }
   ],
   "source": [
    "#Add a new feature/attribute\n",
    "restaurant_details_cuisine_parking['parking_availability'] = restaurant_details_cuisine_parking['parking_lot'] !='none'\n",
    "restaurant_details_cuisine_parking.loc[:,['placeID','name','Rcuisine','parking_lot','parking_availability']].head()\n",
    "\n",
    "# OR #\n",
    "\n",
    "#restaurant_details_cuisine_parking['parking_availability'] = (restaurant_details_cuisine_parking['parking_lot'].isin(['public', 'yes','valet_parking', 'paid parking']))\n",
    "#restaurant_details_cuisine_parking.loc[:,['PLACEID','NAME','Rcuisine','parking_lot','parking_availability']].head()"
   ]
  },
  {
   "cell_type": "code",
   "execution_count": 88,
   "metadata": {},
   "outputs": [
    {
     "data": {
      "text/plain": [
       "True     53\n",
       "False    44\n",
       "Name: parking_availability, dtype: int64"
      ]
     },
     "execution_count": 88,
     "metadata": {},
     "output_type": "execute_result"
    }
   ],
   "source": [
    "#Value counts: parking_availability\n",
    "restaurant_details_cuisine_parking['parking_availability'].value_counts()"
   ]
  },
  {
   "cell_type": "markdown",
   "metadata": {},
   "source": [
    "### Melt a dataset"
   ]
  },
  {
   "cell_type": "code",
   "execution_count": 89,
   "metadata": {},
   "outputs": [
    {
     "data": {
      "text/html": [
       "<div>\n",
       "<style scoped>\n",
       "    .dataframe tbody tr th:only-of-type {\n",
       "        vertical-align: middle;\n",
       "    }\n",
       "\n",
       "    .dataframe tbody tr th {\n",
       "        vertical-align: top;\n",
       "    }\n",
       "\n",
       "    .dataframe thead th {\n",
       "        text-align: right;\n",
       "    }\n",
       "</style>\n",
       "<table border=\"1\" class=\"dataframe\">\n",
       "  <thead>\n",
       "    <tr style=\"text-align: right;\">\n",
       "      <th></th>\n",
       "      <th>userID</th>\n",
       "      <th>placeID</th>\n",
       "      <th>food_rating</th>\n",
       "      <th>service_rating</th>\n",
       "    </tr>\n",
       "  </thead>\n",
       "  <tbody>\n",
       "    <tr>\n",
       "      <th>0</th>\n",
       "      <td>U1077</td>\n",
       "      <td>135085</td>\n",
       "      <td>2</td>\n",
       "      <td>2</td>\n",
       "    </tr>\n",
       "    <tr>\n",
       "      <th>1</th>\n",
       "      <td>U1077</td>\n",
       "      <td>135038</td>\n",
       "      <td>2</td>\n",
       "      <td>1</td>\n",
       "    </tr>\n",
       "    <tr>\n",
       "      <th>2</th>\n",
       "      <td>U1077</td>\n",
       "      <td>132825</td>\n",
       "      <td>2</td>\n",
       "      <td>2</td>\n",
       "    </tr>\n",
       "    <tr>\n",
       "      <th>3</th>\n",
       "      <td>U1077</td>\n",
       "      <td>135060</td>\n",
       "      <td>2</td>\n",
       "      <td>2</td>\n",
       "    </tr>\n",
       "    <tr>\n",
       "      <th>4</th>\n",
       "      <td>U1068</td>\n",
       "      <td>135104</td>\n",
       "      <td>1</td>\n",
       "      <td>2</td>\n",
       "    </tr>\n",
       "  </tbody>\n",
       "</table>\n",
       "</div>"
      ],
      "text/plain": [
       "  userID  placeID  food_rating  service_rating\n",
       "0  U1077   135085            2               2\n",
       "1  U1077   135038            2               1\n",
       "2  U1077   132825            2               2\n",
       "3  U1077   135060            2               2\n",
       "4  U1068   135104            1               2"
      ]
     },
     "execution_count": 89,
     "metadata": {},
     "output_type": "execute_result"
    }
   ],
   "source": [
    "user_rating.head()"
   ]
  },
  {
   "cell_type": "code",
   "execution_count": 90,
   "metadata": {},
   "outputs": [
    {
     "data": {
      "text/html": [
       "<div>\n",
       "<style scoped>\n",
       "    .dataframe tbody tr th:only-of-type {\n",
       "        vertical-align: middle;\n",
       "    }\n",
       "\n",
       "    .dataframe tbody tr th {\n",
       "        vertical-align: top;\n",
       "    }\n",
       "\n",
       "    .dataframe thead th {\n",
       "        text-align: right;\n",
       "    }\n",
       "</style>\n",
       "<table border=\"1\" class=\"dataframe\">\n",
       "  <thead>\n",
       "    <tr style=\"text-align: right;\">\n",
       "      <th></th>\n",
       "      <th>userID</th>\n",
       "      <th>placeID</th>\n",
       "      <th>food/service</th>\n",
       "      <th>rating</th>\n",
       "    </tr>\n",
       "  </thead>\n",
       "  <tbody>\n",
       "    <tr>\n",
       "      <th>0</th>\n",
       "      <td>U1077</td>\n",
       "      <td>135085</td>\n",
       "      <td>food_rating</td>\n",
       "      <td>2</td>\n",
       "    </tr>\n",
       "    <tr>\n",
       "      <th>1</th>\n",
       "      <td>U1077</td>\n",
       "      <td>135038</td>\n",
       "      <td>food_rating</td>\n",
       "      <td>2</td>\n",
       "    </tr>\n",
       "    <tr>\n",
       "      <th>2</th>\n",
       "      <td>U1077</td>\n",
       "      <td>132825</td>\n",
       "      <td>food_rating</td>\n",
       "      <td>2</td>\n",
       "    </tr>\n",
       "    <tr>\n",
       "      <th>3</th>\n",
       "      <td>U1077</td>\n",
       "      <td>135060</td>\n",
       "      <td>food_rating</td>\n",
       "      <td>2</td>\n",
       "    </tr>\n",
       "    <tr>\n",
       "      <th>4</th>\n",
       "      <td>U1068</td>\n",
       "      <td>135104</td>\n",
       "      <td>food_rating</td>\n",
       "      <td>1</td>\n",
       "    </tr>\n",
       "  </tbody>\n",
       "</table>\n",
       "</div>"
      ],
      "text/plain": [
       "  userID  placeID food/service  rating\n",
       "0  U1077   135085  food_rating       2\n",
       "1  U1077   135038  food_rating       2\n",
       "2  U1077   132825  food_rating       2\n",
       "3  U1077   135060  food_rating       2\n",
       "4  U1068   135104  food_rating       1"
      ]
     },
     "metadata": {},
     "output_type": "display_data"
    },
    {
     "data": {
      "text/html": [
       "<div>\n",
       "<style scoped>\n",
       "    .dataframe tbody tr th:only-of-type {\n",
       "        vertical-align: middle;\n",
       "    }\n",
       "\n",
       "    .dataframe tbody tr th {\n",
       "        vertical-align: top;\n",
       "    }\n",
       "\n",
       "    .dataframe thead th {\n",
       "        text-align: right;\n",
       "    }\n",
       "</style>\n",
       "<table border=\"1\" class=\"dataframe\">\n",
       "  <thead>\n",
       "    <tr style=\"text-align: right;\">\n",
       "      <th></th>\n",
       "      <th>userID</th>\n",
       "      <th>placeID</th>\n",
       "      <th>food/service</th>\n",
       "      <th>rating</th>\n",
       "    </tr>\n",
       "  </thead>\n",
       "  <tbody>\n",
       "    <tr>\n",
       "      <th>2317</th>\n",
       "      <td>U1043</td>\n",
       "      <td>132630</td>\n",
       "      <td>service_rating</td>\n",
       "      <td>1</td>\n",
       "    </tr>\n",
       "    <tr>\n",
       "      <th>2318</th>\n",
       "      <td>U1011</td>\n",
       "      <td>132715</td>\n",
       "      <td>service_rating</td>\n",
       "      <td>0</td>\n",
       "    </tr>\n",
       "    <tr>\n",
       "      <th>2319</th>\n",
       "      <td>U1068</td>\n",
       "      <td>132733</td>\n",
       "      <td>service_rating</td>\n",
       "      <td>0</td>\n",
       "    </tr>\n",
       "    <tr>\n",
       "      <th>2320</th>\n",
       "      <td>U1068</td>\n",
       "      <td>132594</td>\n",
       "      <td>service_rating</td>\n",
       "      <td>1</td>\n",
       "    </tr>\n",
       "    <tr>\n",
       "      <th>2321</th>\n",
       "      <td>U1068</td>\n",
       "      <td>132660</td>\n",
       "      <td>service_rating</td>\n",
       "      <td>0</td>\n",
       "    </tr>\n",
       "  </tbody>\n",
       "</table>\n",
       "</div>"
      ],
      "text/plain": [
       "     userID  placeID    food/service  rating\n",
       "2317  U1043   132630  service_rating       1\n",
       "2318  U1011   132715  service_rating       0\n",
       "2319  U1068   132733  service_rating       0\n",
       "2320  U1068   132594  service_rating       1\n",
       "2321  U1068   132660  service_rating       0"
      ]
     },
     "metadata": {},
     "output_type": "display_data"
    }
   ],
   "source": [
    "user_rating_melted = pd.melt(user_rating, id_vars=['userID', 'placeID'],value_vars = ['food_rating', 'service_rating'] ,var_name = \"food/service\" , value_name = \"rating\" )\n",
    "display(user_rating_melted.head())\n",
    "display(user_rating_melted.tail())"
   ]
  },
  {
   "cell_type": "markdown",
   "metadata": {},
   "source": [
    "### Cast a dataset"
   ]
  },
  {
   "cell_type": "code",
   "execution_count": 91,
   "metadata": {},
   "outputs": [
    {
     "data": {
      "text/html": [
       "<div>\n",
       "<style scoped>\n",
       "    .dataframe tbody tr th:only-of-type {\n",
       "        vertical-align: middle;\n",
       "    }\n",
       "\n",
       "    .dataframe tbody tr th {\n",
       "        vertical-align: top;\n",
       "    }\n",
       "\n",
       "    .dataframe thead th {\n",
       "        text-align: right;\n",
       "    }\n",
       "</style>\n",
       "<table border=\"1\" class=\"dataframe\">\n",
       "  <thead>\n",
       "    <tr style=\"text-align: right;\">\n",
       "      <th>food/service</th>\n",
       "      <th>food_rating</th>\n",
       "      <th>service_rating</th>\n",
       "    </tr>\n",
       "    <tr>\n",
       "      <th>placeID</th>\n",
       "      <th></th>\n",
       "      <th></th>\n",
       "    </tr>\n",
       "  </thead>\n",
       "  <tbody>\n",
       "    <tr>\n",
       "      <th>132560</th>\n",
       "      <td>1.00</td>\n",
       "      <td>0.250000</td>\n",
       "    </tr>\n",
       "    <tr>\n",
       "      <th>132561</th>\n",
       "      <td>1.00</td>\n",
       "      <td>1.000000</td>\n",
       "    </tr>\n",
       "    <tr>\n",
       "      <th>132564</th>\n",
       "      <td>1.25</td>\n",
       "      <td>1.500000</td>\n",
       "    </tr>\n",
       "    <tr>\n",
       "      <th>132572</th>\n",
       "      <td>1.00</td>\n",
       "      <td>0.933333</td>\n",
       "    </tr>\n",
       "    <tr>\n",
       "      <th>132583</th>\n",
       "      <td>1.00</td>\n",
       "      <td>1.250000</td>\n",
       "    </tr>\n",
       "  </tbody>\n",
       "</table>\n",
       "</div>"
      ],
      "text/plain": [
       "food/service  food_rating  service_rating\n",
       "placeID                                  \n",
       "132560               1.00        0.250000\n",
       "132561               1.00        1.000000\n",
       "132564               1.25        1.500000\n",
       "132572               1.00        0.933333\n",
       "132583               1.00        1.250000"
      ]
     },
     "execution_count": 91,
     "metadata": {},
     "output_type": "execute_result"
    }
   ],
   "source": [
    "pd.pivot_table(user_rating_melted, index = 'placeID', columns = 'food/service', values = 'rating',aggfunc = 'mean').head()"
   ]
  },
  {
   "cell_type": "markdown",
   "metadata": {},
   "source": [
    "## Explore and Summarize data\n",
    "### Exploring Quantitative Attributes\n",
    "### FRVPM\n",
    "### Five Number Summary"
   ]
  },
  {
   "cell_type": "code",
   "execution_count": 92,
   "metadata": {},
   "outputs": [
    {
     "data": {
      "text/plain": [
       "count    134.000000\n",
       "mean       9.067164\n",
       "std        6.906680\n",
       "min        2.000000\n",
       "25%        5.000000\n",
       "50%        8.000000\n",
       "75%       12.000000\n",
       "max       60.000000\n",
       "Name: FRVPM, dtype: float64"
      ]
     },
     "execution_count": 92,
     "metadata": {},
     "output_type": "execute_result"
    }
   ],
   "source": [
    "five_number_summary = consumer_survey.FRVPM.describe()\n",
    "five_number_summary"
   ]
  },
  {
   "cell_type": "markdown",
   "metadata": {},
   "source": [
    "## Box Plot"
   ]
  },
  {
   "cell_type": "code",
   "execution_count": 93,
   "metadata": {},
   "outputs": [
    {
     "data": {
      "image/png": "[encoded data removed]",
      "text/plain": [
       "<Figure size 432x288 with 1 Axes>"
      ]
     },
     "metadata": {
      "needs_background": "light"
     },
     "output_type": "display_data"
    }
   ],
   "source": [
    "sns.boxplot(y=consumer_survey[\"FRVPM\"])\n",
    "plt.title(\"Boxplot of FRVPM\")\n",
    "plt.show()"
   ]
  },
  {
   "cell_type": "code",
   "execution_count": 94,
   "metadata": {},
   "outputs": [
    {
     "name": "stdout",
     "output_type": "stream",
     "text": [
      "[60 45 22]\n"
     ]
    }
   ],
   "source": [
    "# Print the larget 3 values in FRVPM\n",
    "print(consumer_survey[\"FRVPM\"].nlargest(3).values)"
   ]
  },
  {
   "cell_type": "code",
   "execution_count": 95,
   "metadata": {},
   "outputs": [
    {
     "name": "stdout",
     "output_type": "stream",
     "text": [
      "IQR: 7.0\n",
      "1.5 * IQR: 10.5\n",
      "upper_limit: 22.5\n",
      "lower_limit: -5.5\n"
     ]
    }
   ],
   "source": [
    "IQR = five_number_summary[\"75%\"] - five_number_summary[\"25%\"]\n",
    "upper_limit = (1.5 * IQR) + five_number_summary[\"75%\"]\n",
    "lower_limit = five_number_summary[\"25%\"] - (1.5 * IQR)\n",
    "print(\"IQR:\",IQR)\n",
    "print(\"1.5 * IQR:\", (1.5 * IQR))\n",
    "print(\"upper_limit:\",upper_limit)# upper whisker is drawn at 22\n",
    "print(\"lower_limit:\",lower_limit)# lower whisker is drawn at 2"
   ]
  },
  {
   "cell_type": "markdown",
   "metadata": {},
   "source": [
    "### Histogram"
   ]
  },
  {
   "cell_type": "code",
   "execution_count": 96,
   "metadata": {},
   "outputs": [],
   "source": [
    "#consumer_survey[\"FRVPM\"].value_counts()"
   ]
  },
  {
   "cell_type": "code",
   "execution_count": 97,
   "metadata": {},
   "outputs": [],
   "source": [
    "#np.sort(consumer_survey[\"FRVPM\"].value_counts())"
   ]
  },
  {
   "cell_type": "code",
   "execution_count": 98,
   "metadata": {},
   "outputs": [
    {
     "data": {
      "image/png": "[encoded data removed]",
      "text/plain": [
       "<Figure size 432x288 with 1 Axes>"
      ]
     },
     "metadata": {
      "needs_background": "light"
     },
     "output_type": "display_data"
    }
   ],
   "source": [
    "sns.distplot(consumer_survey[\"FRVPM\"], kde = False)\n",
    "plt.title(\"Histogram of FRVPM\")\n",
    "plt.xlabel(\"FRVPM\")\n",
    "plt.ylabel(\"Frequency\")\n",
    "plt.show()"
   ]
  },
  {
   "cell_type": "markdown",
   "metadata": {},
   "source": [
    "## AERPM\n",
    "### Five Number Summary"
   ]
  },
  {
   "cell_type": "code",
   "execution_count": 99,
   "metadata": {},
   "outputs": [
    {
     "data": {
      "text/plain": [
       "count     134.000000\n",
       "mean     2432.828358\n",
       "std      1352.863016\n",
       "min       268.000000\n",
       "25%      1302.000000\n",
       "50%      2324.000000\n",
       "75%      3286.250000\n",
       "max      6234.000000\n",
       "Name: AERPM, dtype: float64"
      ]
     },
     "execution_count": 99,
     "metadata": {},
     "output_type": "execute_result"
    }
   ],
   "source": [
    "consumer_survey.AERPM.describe(percentiles=[0.25, 0.75])"
   ]
  },
  {
   "cell_type": "markdown",
   "metadata": {},
   "source": [
    "### Box Plot"
   ]
  },
  {
   "cell_type": "code",
   "execution_count": 100,
   "metadata": {},
   "outputs": [
    {
     "data": {
      "image/png": "[encoded data removed]",
      "text/plain": [
       "<Figure size 432x288 with 1 Axes>"
      ]
     },
     "metadata": {
      "needs_background": "light"
     },
     "output_type": "display_data"
    }
   ],
   "source": [
    "sns.boxplot(y=consumer_survey.AERPM)\n",
    "plt.title(\"Boxplot of AERPM\")\n",
    "plt.show()"
   ]
  },
  {
   "cell_type": "markdown",
   "metadata": {},
   "source": [
    "### Histogram"
   ]
  },
  {
   "cell_type": "code",
   "execution_count": 101,
   "metadata": {},
   "outputs": [
    {
     "data": {
      "image/png": "[encoded data removed]",
      "text/plain": [
       "<Figure size 432x288 with 1 Axes>"
      ]
     },
     "metadata": {
      "needs_background": "light"
     },
     "output_type": "display_data"
    }
   ],
   "source": [
    "sns.distplot(consumer_survey[\"AERPM\"],hist = True, kde = False)\n",
    "plt.title(\"Histogram of AERPM\")\n",
    "plt.xlabel(\"AERPM\")\n",
    "plt.ylabel(\"Frequency\")\n",
    "plt.show()"
   ]
  },
  {
   "cell_type": "markdown",
   "metadata": {},
   "source": [
    "## Exploring Qualitative Attributes\n",
    "### Cross Tabulation"
   ]
  },
  {
   "cell_type": "code",
   "execution_count": 102,
   "metadata": {},
   "outputs": [
    {
     "data": {
      "text/html": [
       "<div>\n",
       "<style scoped>\n",
       "    .dataframe tbody tr th:only-of-type {\n",
       "        vertical-align: middle;\n",
       "    }\n",
       "\n",
       "    .dataframe tbody tr th {\n",
       "        vertical-align: top;\n",
       "    }\n",
       "\n",
       "    .dataframe thead th {\n",
       "        text-align: right;\n",
       "    }\n",
       "</style>\n",
       "<table border=\"1\" class=\"dataframe\">\n",
       "  <thead>\n",
       "    <tr style=\"text-align: right;\">\n",
       "      <th></th>\n",
       "      <th>count</th>\n",
       "    </tr>\n",
       "    <tr>\n",
       "      <th>gender</th>\n",
       "      <th></th>\n",
       "    </tr>\n",
       "  </thead>\n",
       "  <tbody>\n",
       "    <tr>\n",
       "      <th>female</th>\n",
       "      <td>61</td>\n",
       "    </tr>\n",
       "    <tr>\n",
       "      <th>male</th>\n",
       "      <td>73</td>\n",
       "    </tr>\n",
       "  </tbody>\n",
       "</table>\n",
       "</div>"
      ],
      "text/plain": [
       "        count\n",
       "gender       \n",
       "female     61\n",
       "male       73"
      ]
     },
     "execution_count": 102,
     "metadata": {},
     "output_type": "execute_result"
    }
   ],
   "source": [
    "pd.crosstab(index = consumer_survey[\"gender\"],  columns=\"count\", colnames = ['']) "
   ]
  },
  {
   "cell_type": "code",
   "execution_count": 103,
   "metadata": {},
   "outputs": [
    {
     "data": {
      "text/html": [
       "<div>\n",
       "<style scoped>\n",
       "    .dataframe tbody tr th:only-of-type {\n",
       "        vertical-align: middle;\n",
       "    }\n",
       "\n",
       "    .dataframe tbody tr th {\n",
       "        vertical-align: top;\n",
       "    }\n",
       "\n",
       "    .dataframe thead th {\n",
       "        text-align: right;\n",
       "    }\n",
       "</style>\n",
       "<table border=\"1\" class=\"dataframe\">\n",
       "  <thead>\n",
       "    <tr style=\"text-align: right;\">\n",
       "      <th></th>\n",
       "      <th>count</th>\n",
       "    </tr>\n",
       "    <tr>\n",
       "      <th>income</th>\n",
       "      <th></th>\n",
       "    </tr>\n",
       "  </thead>\n",
       "  <tbody>\n",
       "    <tr>\n",
       "      <th>high</th>\n",
       "      <td>16</td>\n",
       "    </tr>\n",
       "    <tr>\n",
       "      <th>low</th>\n",
       "      <td>36</td>\n",
       "    </tr>\n",
       "    <tr>\n",
       "      <th>medium</th>\n",
       "      <td>82</td>\n",
       "    </tr>\n",
       "  </tbody>\n",
       "</table>\n",
       "</div>"
      ],
      "text/plain": [
       "        count\n",
       "income       \n",
       "high       16\n",
       "low        36\n",
       "medium     82"
      ]
     },
     "execution_count": 103,
     "metadata": {},
     "output_type": "execute_result"
    }
   ],
   "source": [
    "pd.crosstab(index = consumer_survey[\"income\"],  columns=\"count\", colnames = ['']) "
   ]
  },
  {
   "cell_type": "code",
   "execution_count": 104,
   "metadata": {},
   "outputs": [
    {
     "data": {
      "text/html": [
       "<div>\n",
       "<style scoped>\n",
       "    .dataframe tbody tr th:only-of-type {\n",
       "        vertical-align: middle;\n",
       "    }\n",
       "\n",
       "    .dataframe tbody tr th {\n",
       "        vertical-align: top;\n",
       "    }\n",
       "\n",
       "    .dataframe thead th {\n",
       "        text-align: right;\n",
       "    }\n",
       "</style>\n",
       "<table border=\"1\" class=\"dataframe\">\n",
       "  <thead>\n",
       "    <tr style=\"text-align: right;\">\n",
       "      <th></th>\n",
       "      <th>count</th>\n",
       "    </tr>\n",
       "    <tr>\n",
       "      <th>FRVPM</th>\n",
       "      <th></th>\n",
       "    </tr>\n",
       "  </thead>\n",
       "  <tbody>\n",
       "    <tr>\n",
       "      <th>False</th>\n",
       "      <td>90</td>\n",
       "    </tr>\n",
       "    <tr>\n",
       "      <th>True</th>\n",
       "      <td>44</td>\n",
       "    </tr>\n",
       "  </tbody>\n",
       "</table>\n",
       "</div>"
      ],
      "text/plain": [
       "       count\n",
       "FRVPM       \n",
       "False     90\n",
       "True      44"
      ]
     },
     "execution_count": 104,
     "metadata": {},
     "output_type": "execute_result"
    }
   ],
   "source": [
    "pd.crosstab(index = consumer_survey.FRVPM>10,  columns=\"count\", colnames = ['']) "
   ]
  },
  {
   "cell_type": "code",
   "execution_count": 105,
   "metadata": {},
   "outputs": [
    {
     "data": {
      "text/html": [
       "<div>\n",
       "<style scoped>\n",
       "    .dataframe tbody tr th:only-of-type {\n",
       "        vertical-align: middle;\n",
       "    }\n",
       "\n",
       "    .dataframe tbody tr th {\n",
       "        vertical-align: top;\n",
       "    }\n",
       "\n",
       "    .dataframe thead th {\n",
       "        text-align: right;\n",
       "    }\n",
       "</style>\n",
       "<table border=\"1\" class=\"dataframe\">\n",
       "  <thead>\n",
       "    <tr style=\"text-align: right;\">\n",
       "      <th></th>\n",
       "      <th>count</th>\n",
       "    </tr>\n",
       "    <tr>\n",
       "      <th>Region</th>\n",
       "      <th></th>\n",
       "    </tr>\n",
       "  </thead>\n",
       "  <tbody>\n",
       "    <tr>\n",
       "      <th>East</th>\n",
       "      <td>60</td>\n",
       "    </tr>\n",
       "    <tr>\n",
       "      <th>West</th>\n",
       "      <td>50</td>\n",
       "    </tr>\n",
       "  </tbody>\n",
       "</table>\n",
       "</div>"
      ],
      "text/plain": [
       "        count\n",
       "Region       \n",
       " East      60\n",
       " West      50"
      ]
     },
     "execution_count": 105,
     "metadata": {},
     "output_type": "execute_result"
    }
   ],
   "source": [
    "pd.crosstab(index = restaurant_details[\"Region\"],  columns=\"count\", colnames = [''])"
   ]
  },
  {
   "cell_type": "markdown",
   "metadata": {},
   "source": [
    "### Bar Chart"
   ]
  },
  {
   "cell_type": "code",
   "execution_count": 106,
   "metadata": {},
   "outputs": [],
   "source": [
    "#Convert income to Ordered Categorical data type\n",
    "consumer_survey['income'] = pd.Categorical(consumer_survey['income'], categories=[\"low\",\"medium\",\"high\"], ordered=True)"
   ]
  },
  {
   "cell_type": "code",
   "execution_count": 107,
   "metadata": {},
   "outputs": [
    {
     "data": {
      "image/png": "[encoded data removed]",
      "text/plain": [
       "<Figure size 432x288 with 1 Axes>"
      ]
     },
     "metadata": {
      "needs_background": "light"
     },
     "output_type": "display_data"
    }
   ],
   "source": [
    "sns.countplot(x='income', data=consumer_survey)\n",
    "plt.title(\"Bar chart of Income\")\n",
    "plt.show()"
   ]
  },
  {
   "cell_type": "code",
   "execution_count": 108,
   "metadata": {},
   "outputs": [
    {
     "data": {
      "image/png": "[encoded data removed]",
      "text/plain": [
       "<Figure size 432x288 with 1 Axes>"
      ]
     },
     "metadata": {
      "needs_background": "light"
     },
     "output_type": "display_data"
    }
   ],
   "source": [
    "FRVPM_greater_than_10 = pd.DataFrame(consumer_survey.FRVPM>10)\n",
    "FRVPM_greater_than_10.columns = ['FRVPM_greater_than_10']\n",
    "\n",
    "sns.countplot(x = 'FRVPM_greater_than_10', data=FRVPM_greater_than_10)\n",
    "plt.title(\"Bar chart of consumers with FRVPM > 10\")\n",
    "plt.show()"
   ]
  },
  {
   "cell_type": "markdown",
   "metadata": {},
   "source": [
    "## Develop insights from data\n",
    "## Exploring relationship between qualitative and quantitative attributes\n",
    "## Plot and compare multiple box plots"
   ]
  },
  {
   "cell_type": "code",
   "execution_count": 109,
   "metadata": {},
   "outputs": [],
   "source": [
    "#Update the AVERAGE_DINE_IN_PER_MONTH column of restaurant details data table with mean_updated\n",
    "restaurant_details['Average_dine_in_per_month'] = mean_updated['Average_dine_in_per_month']"
   ]
  },
  {
   "cell_type": "code",
   "execution_count": 110,
   "metadata": {},
   "outputs": [
    {
     "data": {
      "image/png": "[encoded data removed]",
      "text/plain": [
       "<Figure size 432x288 with 1 Axes>"
      ]
     },
     "metadata": {
      "needs_background": "light"
     },
     "output_type": "display_data"
    }
   ],
   "source": [
    "sns.boxplot(y='Average_dine_in_per_month', x = 'Region', data=restaurant_details)\n",
    "plt.title('East vs. West Average Dine-In Per Month')\n",
    "plt.show()"
   ]
  },
  {
   "cell_type": "markdown",
   "metadata": {},
   "source": [
    "## Plot and compare multiple histograms"
   ]
  },
  {
   "cell_type": "code",
   "execution_count": 111,
   "metadata": {},
   "outputs": [],
   "source": [
    "#Create subsets for East and West regions\n",
    "subset_East = restaurant_details.loc[(restaurant_details.Region == ' East '), ['Region','Average_dine_in_per_month']]\n",
    "subset_West = restaurant_details.loc[(restaurant_details.Region == ' West '), ['Region','Average_dine_in_per_month']]"
   ]
  },
  {
   "cell_type": "code",
   "execution_count": 112,
   "metadata": {},
   "outputs": [
    {
     "data": {
      "image/png": "[encoded data removed]",
      "text/plain": [
       "<Figure size 432x288 with 1 Axes>"
      ]
     },
     "metadata": {
      "needs_background": "light"
     },
     "output_type": "display_data"
    }
   ],
   "source": [
    "sns.distplot(subset_East['Average_dine_in_per_month'],color=\"red\", kde = False, label = 'East')\n",
    "sns.distplot(subset_West['Average_dine_in_per_month'],color=\"blue\", kde = False, label = 'West')\n",
    "plt.legend()\n",
    "plt.xlabel('Average_dine_in_per_month')\n",
    "plt.ylabel('FREQUENCY')\n",
    "plt.title('East vs. West Frequency of Average Dine-In Per Month')\n",
    "plt.show()"
   ]
  },
  {
   "cell_type": "code",
   "execution_count": 113,
   "metadata": {},
   "outputs": [
    {
     "data": {
      "text/plain": [
       "603.0"
      ]
     },
     "execution_count": 113,
     "metadata": {},
     "output_type": "execute_result"
    }
   ],
   "source": [
    "subset_East['Average_dine_in_per_month'].median()"
   ]
  },
  {
   "cell_type": "code",
   "execution_count": 114,
   "metadata": {},
   "outputs": [
    {
     "data": {
      "text/plain": [
       "740.0"
      ]
     },
     "execution_count": 114,
     "metadata": {},
     "output_type": "execute_result"
    }
   ],
   "source": [
    "subset_West['Average_dine_in_per_month'].median()"
   ]
  },
  {
   "cell_type": "markdown",
   "metadata": {},
   "source": [
    "## Exploring relationship among qualitative attributes\n",
    "## Pivot Table"
   ]
  },
  {
   "cell_type": "code",
   "execution_count": 115,
   "metadata": {},
   "outputs": [
    {
     "data": {
      "text/html": [
       "<div>\n",
       "<style scoped>\n",
       "    .dataframe tbody tr th:only-of-type {\n",
       "        vertical-align: middle;\n",
       "    }\n",
       "\n",
       "    .dataframe tbody tr th {\n",
       "        vertical-align: top;\n",
       "    }\n",
       "\n",
       "    .dataframe thead th {\n",
       "        text-align: right;\n",
       "    }\n",
       "</style>\n",
       "<table border=\"1\" class=\"dataframe\">\n",
       "  <thead>\n",
       "    <tr style=\"text-align: right;\">\n",
       "      <th>price</th>\n",
       "      <th>high</th>\n",
       "      <th>low</th>\n",
       "      <th>medium</th>\n",
       "    </tr>\n",
       "    <tr>\n",
       "      <th>Region</th>\n",
       "      <th></th>\n",
       "      <th></th>\n",
       "      <th></th>\n",
       "    </tr>\n",
       "  </thead>\n",
       "  <tbody>\n",
       "    <tr>\n",
       "      <th>East</th>\n",
       "      <td>16</td>\n",
       "      <td>20</td>\n",
       "      <td>24</td>\n",
       "    </tr>\n",
       "    <tr>\n",
       "      <th>West</th>\n",
       "      <td>7</td>\n",
       "      <td>15</td>\n",
       "      <td>28</td>\n",
       "    </tr>\n",
       "  </tbody>\n",
       "</table>\n",
       "</div>"
      ],
      "text/plain": [
       "price    high    low    medium \n",
       "Region                         \n",
       " East       16     20        24\n",
       " West        7     15        28"
      ]
     },
     "execution_count": 115,
     "metadata": {},
     "output_type": "execute_result"
    }
   ],
   "source": [
    "#Varied price restaurants across regions\n",
    "restaurant_details.pivot_table(index = 'Region', values = 'placeID', columns = 'price', aggfunc = 'count')"
   ]
  },
  {
   "cell_type": "code",
   "execution_count": 116,
   "metadata": {},
   "outputs": [
    {
     "data": {
      "text/html": [
       "<div>\n",
       "<style scoped>\n",
       "    .dataframe tbody tr th:only-of-type {\n",
       "        vertical-align: middle;\n",
       "    }\n",
       "\n",
       "    .dataframe tbody tr th {\n",
       "        vertical-align: top;\n",
       "    }\n",
       "\n",
       "    .dataframe thead th {\n",
       "        text-align: right;\n",
       "    }\n",
       "</style>\n",
       "<table border=\"1\" class=\"dataframe\">\n",
       "  <thead>\n",
       "    <tr style=\"text-align: right;\">\n",
       "      <th></th>\n",
       "      <th>gender</th>\n",
       "      <th>smoker</th>\n",
       "      <th>drink_level</th>\n",
       "      <th>dress_preference</th>\n",
       "      <th>ambience</th>\n",
       "      <th>transport</th>\n",
       "      <th>marital_status</th>\n",
       "      <th>interest</th>\n",
       "      <th>personality</th>\n",
       "      <th>religion</th>\n",
       "      <th>activity</th>\n",
       "      <th>income</th>\n",
       "      <th>FRVPM</th>\n",
       "      <th>AERPM</th>\n",
       "    </tr>\n",
       "  </thead>\n",
       "  <tbody>\n",
       "    <tr>\n",
       "      <th>0</th>\n",
       "      <td>male</td>\n",
       "      <td>False</td>\n",
       "      <td>abstemious</td>\n",
       "      <td>informal</td>\n",
       "      <td>family</td>\n",
       "      <td>on foot</td>\n",
       "      <td>single</td>\n",
       "      <td>variety</td>\n",
       "      <td>thrifty-protector</td>\n",
       "      <td>none</td>\n",
       "      <td>student</td>\n",
       "      <td>medium</td>\n",
       "      <td>12</td>\n",
       "      <td>2976</td>\n",
       "    </tr>\n",
       "    <tr>\n",
       "      <th>1</th>\n",
       "      <td>female</td>\n",
       "      <td>False</td>\n",
       "      <td>abstemious</td>\n",
       "      <td>informal</td>\n",
       "      <td>family</td>\n",
       "      <td>public</td>\n",
       "      <td>single</td>\n",
       "      <td>technology</td>\n",
       "      <td>hunter-ostentatious</td>\n",
       "      <td>Catholic</td>\n",
       "      <td>student</td>\n",
       "      <td>low</td>\n",
       "      <td>12</td>\n",
       "      <td>3648</td>\n",
       "    </tr>\n",
       "    <tr>\n",
       "      <th>2</th>\n",
       "      <td>female</td>\n",
       "      <td>False</td>\n",
       "      <td>social drinker</td>\n",
       "      <td>formal</td>\n",
       "      <td>family</td>\n",
       "      <td>public</td>\n",
       "      <td>single</td>\n",
       "      <td>none</td>\n",
       "      <td>hard-worker</td>\n",
       "      <td>Catholic</td>\n",
       "      <td>student</td>\n",
       "      <td>low</td>\n",
       "      <td>3</td>\n",
       "      <td>1461</td>\n",
       "    </tr>\n",
       "    <tr>\n",
       "      <th>3</th>\n",
       "      <td>male</td>\n",
       "      <td>False</td>\n",
       "      <td>abstemious</td>\n",
       "      <td>informal</td>\n",
       "      <td>family</td>\n",
       "      <td>public</td>\n",
       "      <td>single</td>\n",
       "      <td>variety</td>\n",
       "      <td>hard-worker</td>\n",
       "      <td>none</td>\n",
       "      <td>professional</td>\n",
       "      <td>medium</td>\n",
       "      <td>18</td>\n",
       "      <td>4014</td>\n",
       "    </tr>\n",
       "    <tr>\n",
       "      <th>4</th>\n",
       "      <td>female</td>\n",
       "      <td>False</td>\n",
       "      <td>abstemious</td>\n",
       "      <td>no preference</td>\n",
       "      <td>family</td>\n",
       "      <td>public</td>\n",
       "      <td>single</td>\n",
       "      <td>none</td>\n",
       "      <td>thrifty-protector</td>\n",
       "      <td>Catholic</td>\n",
       "      <td>student</td>\n",
       "      <td>medium</td>\n",
       "      <td>15</td>\n",
       "      <td>3045</td>\n",
       "    </tr>\n",
       "  </tbody>\n",
       "</table>\n",
       "</div>"
      ],
      "text/plain": [
       "   gender smoker     drink_level dress_preference ambience transport  \\\n",
       "0    male  False      abstemious         informal   family   on foot   \n",
       "1  female  False      abstemious         informal   family    public   \n",
       "2  female  False  social drinker           formal   family    public   \n",
       "3    male  False      abstemious         informal   family    public   \n",
       "4  female  False      abstemious    no preference   family    public   \n",
       "\n",
       "  marital_status    interest          personality  religion      activity  \\\n",
       "0         single     variety    thrifty-protector      none       student   \n",
       "1         single  technology  hunter-ostentatious  Catholic       student   \n",
       "2         single        none          hard-worker  Catholic       student   \n",
       "3         single     variety          hard-worker      none  professional   \n",
       "4         single        none    thrifty-protector  Catholic       student   \n",
       "\n",
       "   income  FRVPM  AERPM  \n",
       "0  medium     12   2976  \n",
       "1     low     12   3648  \n",
       "2     low      3   1461  \n",
       "3  medium     18   4014  \n",
       "4  medium     15   3045  "
      ]
     },
     "metadata": {},
     "output_type": "display_data"
    },
    {
     "data": {
      "text/html": [
       "<div>\n",
       "<style scoped>\n",
       "    .dataframe tbody tr th:only-of-type {\n",
       "        vertical-align: middle;\n",
       "    }\n",
       "\n",
       "    .dataframe tbody tr th {\n",
       "        vertical-align: top;\n",
       "    }\n",
       "\n",
       "    .dataframe thead th {\n",
       "        text-align: right;\n",
       "    }\n",
       "</style>\n",
       "<table border=\"1\" class=\"dataframe\">\n",
       "  <thead>\n",
       "    <tr style=\"text-align: right;\">\n",
       "      <th></th>\n",
       "      <th>index</th>\n",
       "      <th>gender</th>\n",
       "      <th>smoker</th>\n",
       "      <th>drink_level</th>\n",
       "      <th>dress_preference</th>\n",
       "      <th>ambience</th>\n",
       "      <th>transport</th>\n",
       "      <th>marital_status</th>\n",
       "      <th>interest</th>\n",
       "      <th>personality</th>\n",
       "      <th>religion</th>\n",
       "      <th>activity</th>\n",
       "      <th>income</th>\n",
       "      <th>FRVPM</th>\n",
       "      <th>AERPM</th>\n",
       "    </tr>\n",
       "  </thead>\n",
       "  <tbody>\n",
       "    <tr>\n",
       "      <th>0</th>\n",
       "      <td>0</td>\n",
       "      <td>male</td>\n",
       "      <td>False</td>\n",
       "      <td>abstemious</td>\n",
       "      <td>informal</td>\n",
       "      <td>family</td>\n",
       "      <td>on foot</td>\n",
       "      <td>single</td>\n",
       "      <td>variety</td>\n",
       "      <td>thrifty-protector</td>\n",
       "      <td>none</td>\n",
       "      <td>student</td>\n",
       "      <td>medium</td>\n",
       "      <td>12</td>\n",
       "      <td>2976</td>\n",
       "    </tr>\n",
       "    <tr>\n",
       "      <th>1</th>\n",
       "      <td>1</td>\n",
       "      <td>female</td>\n",
       "      <td>False</td>\n",
       "      <td>abstemious</td>\n",
       "      <td>informal</td>\n",
       "      <td>family</td>\n",
       "      <td>public</td>\n",
       "      <td>single</td>\n",
       "      <td>technology</td>\n",
       "      <td>hunter-ostentatious</td>\n",
       "      <td>Catholic</td>\n",
       "      <td>student</td>\n",
       "      <td>low</td>\n",
       "      <td>12</td>\n",
       "      <td>3648</td>\n",
       "    </tr>\n",
       "    <tr>\n",
       "      <th>2</th>\n",
       "      <td>2</td>\n",
       "      <td>female</td>\n",
       "      <td>False</td>\n",
       "      <td>social drinker</td>\n",
       "      <td>formal</td>\n",
       "      <td>family</td>\n",
       "      <td>public</td>\n",
       "      <td>single</td>\n",
       "      <td>none</td>\n",
       "      <td>hard-worker</td>\n",
       "      <td>Catholic</td>\n",
       "      <td>student</td>\n",
       "      <td>low</td>\n",
       "      <td>3</td>\n",
       "      <td>1461</td>\n",
       "    </tr>\n",
       "    <tr>\n",
       "      <th>3</th>\n",
       "      <td>3</td>\n",
       "      <td>male</td>\n",
       "      <td>False</td>\n",
       "      <td>abstemious</td>\n",
       "      <td>informal</td>\n",
       "      <td>family</td>\n",
       "      <td>public</td>\n",
       "      <td>single</td>\n",
       "      <td>variety</td>\n",
       "      <td>hard-worker</td>\n",
       "      <td>none</td>\n",
       "      <td>professional</td>\n",
       "      <td>medium</td>\n",
       "      <td>18</td>\n",
       "      <td>4014</td>\n",
       "    </tr>\n",
       "    <tr>\n",
       "      <th>4</th>\n",
       "      <td>4</td>\n",
       "      <td>female</td>\n",
       "      <td>False</td>\n",
       "      <td>abstemious</td>\n",
       "      <td>no preference</td>\n",
       "      <td>family</td>\n",
       "      <td>public</td>\n",
       "      <td>single</td>\n",
       "      <td>none</td>\n",
       "      <td>thrifty-protector</td>\n",
       "      <td>Catholic</td>\n",
       "      <td>student</td>\n",
       "      <td>medium</td>\n",
       "      <td>15</td>\n",
       "      <td>3045</td>\n",
       "    </tr>\n",
       "  </tbody>\n",
       "</table>\n",
       "</div>"
      ],
      "text/plain": [
       "   index  gender smoker     drink_level dress_preference ambience transport  \\\n",
       "0      0    male  False      abstemious         informal   family   on foot   \n",
       "1      1  female  False      abstemious         informal   family    public   \n",
       "2      2  female  False  social drinker           formal   family    public   \n",
       "3      3    male  False      abstemious         informal   family    public   \n",
       "4      4  female  False      abstemious    no preference   family    public   \n",
       "\n",
       "  marital_status    interest          personality  religion      activity  \\\n",
       "0         single     variety    thrifty-protector      none       student   \n",
       "1         single  technology  hunter-ostentatious  Catholic       student   \n",
       "2         single        none          hard-worker  Catholic       student   \n",
       "3         single     variety          hard-worker      none  professional   \n",
       "4         single        none    thrifty-protector  Catholic       student   \n",
       "\n",
       "   income  FRVPM  AERPM  \n",
       "0  medium     12   2976  \n",
       "1     low     12   3648  \n",
       "2     low      3   1461  \n",
       "3  medium     18   4014  \n",
       "4  medium     15   3045  "
      ]
     },
     "metadata": {},
     "output_type": "display_data"
    }
   ],
   "source": [
    "display(consumer_survey.head())\n",
    "\n",
    "#Create a index column in consumer_survey data\n",
    "consumer_survey.reset_index(inplace = True)\n",
    "display(consumer_survey.head())"
   ]
  },
  {
   "cell_type": "code",
   "execution_count": 117,
   "metadata": {},
   "outputs": [
    {
     "data": {
      "text/html": [
       "<div>\n",
       "<style scoped>\n",
       "    .dataframe tbody tr th:only-of-type {\n",
       "        vertical-align: middle;\n",
       "    }\n",
       "\n",
       "    .dataframe tbody tr th {\n",
       "        vertical-align: top;\n",
       "    }\n",
       "\n",
       "    .dataframe thead th {\n",
       "        text-align: right;\n",
       "    }\n",
       "</style>\n",
       "<table border=\"1\" class=\"dataframe\">\n",
       "  <thead>\n",
       "    <tr style=\"text-align: right;\">\n",
       "      <th>FRVPM</th>\n",
       "      <th>False</th>\n",
       "      <th>True</th>\n",
       "    </tr>\n",
       "    <tr>\n",
       "      <th>income</th>\n",
       "      <th></th>\n",
       "      <th></th>\n",
       "    </tr>\n",
       "  </thead>\n",
       "  <tbody>\n",
       "    <tr>\n",
       "      <th>low</th>\n",
       "      <td>20.0</td>\n",
       "      <td>16.0</td>\n",
       "    </tr>\n",
       "    <tr>\n",
       "      <th>medium</th>\n",
       "      <td>18.0</td>\n",
       "      <td>64.0</td>\n",
       "    </tr>\n",
       "    <tr>\n",
       "      <th>high</th>\n",
       "      <td>NaN</td>\n",
       "      <td>16.0</td>\n",
       "    </tr>\n",
       "  </tbody>\n",
       "</table>\n",
       "</div>"
      ],
      "text/plain": [
       "FRVPM   False  True \n",
       "income              \n",
       "low      20.0   16.0\n",
       "medium   18.0   64.0\n",
       "high      NaN   16.0"
      ]
     },
     "execution_count": 117,
     "metadata": {},
     "output_type": "execute_result"
    }
   ],
   "source": [
    "#Consumers from various income groups who visit restaurants more than 5 times in a month\n",
    "consumer_survey.pivot_table(values = 'index', index = ['income'], columns = consumer_survey.FRVPM>5, aggfunc = 'count')"
   ]
  },
  {
   "cell_type": "code",
   "execution_count": 118,
   "metadata": {},
   "outputs": [
    {
     "data": {
      "text/html": [
       "<div>\n",
       "<style scoped>\n",
       "    .dataframe tbody tr th:only-of-type {\n",
       "        vertical-align: middle;\n",
       "    }\n",
       "\n",
       "    .dataframe tbody tr th {\n",
       "        vertical-align: top;\n",
       "    }\n",
       "\n",
       "    .dataframe thead th {\n",
       "        text-align: right;\n",
       "    }\n",
       "</style>\n",
       "<table border=\"1\" class=\"dataframe\">\n",
       "  <thead>\n",
       "    <tr style=\"text-align: right;\">\n",
       "      <th></th>\n",
       "      <th>FRVPM</th>\n",
       "      <th>False</th>\n",
       "      <th>True</th>\n",
       "    </tr>\n",
       "    <tr>\n",
       "      <th>gender</th>\n",
       "      <th>income</th>\n",
       "      <th></th>\n",
       "      <th></th>\n",
       "    </tr>\n",
       "  </thead>\n",
       "  <tbody>\n",
       "    <tr>\n",
       "      <th rowspan=\"3\" valign=\"top\">female</th>\n",
       "      <th>low</th>\n",
       "      <td>8.0</td>\n",
       "      <td>7.0</td>\n",
       "    </tr>\n",
       "    <tr>\n",
       "      <th>medium</th>\n",
       "      <td>8.0</td>\n",
       "      <td>34.0</td>\n",
       "    </tr>\n",
       "    <tr>\n",
       "      <th>high</th>\n",
       "      <td>NaN</td>\n",
       "      <td>4.0</td>\n",
       "    </tr>\n",
       "    <tr>\n",
       "      <th rowspan=\"3\" valign=\"top\">male</th>\n",
       "      <th>low</th>\n",
       "      <td>12.0</td>\n",
       "      <td>9.0</td>\n",
       "    </tr>\n",
       "    <tr>\n",
       "      <th>medium</th>\n",
       "      <td>10.0</td>\n",
       "      <td>30.0</td>\n",
       "    </tr>\n",
       "    <tr>\n",
       "      <th>high</th>\n",
       "      <td>NaN</td>\n",
       "      <td>12.0</td>\n",
       "    </tr>\n",
       "  </tbody>\n",
       "</table>\n",
       "</div>"
      ],
      "text/plain": [
       "FRVPM          False  True \n",
       "gender income              \n",
       "female low       8.0    7.0\n",
       "       medium    8.0   34.0\n",
       "       high      NaN    4.0\n",
       "male   low      12.0    9.0\n",
       "       medium   10.0   30.0\n",
       "       high      NaN   12.0"
      ]
     },
     "execution_count": 118,
     "metadata": {},
     "output_type": "execute_result"
    }
   ],
   "source": [
    "#Gender wise consumers from various income groups who visit restaurants more than 5 times in a month\n",
    "consumer_survey.pivot_table(values = 'index', index = ['gender', 'income'], columns = consumer_survey.FRVPM>5, aggfunc = 'count')"
   ]
  },
  {
   "cell_type": "markdown",
   "metadata": {},
   "source": [
    "# Exploring relationship among quantitative attributes"
   ]
  },
  {
   "cell_type": "code",
   "execution_count": 119,
   "metadata": {},
   "outputs": [
    {
     "data": {
      "text/html": [
       "<div>\n",
       "<style scoped>\n",
       "    .dataframe tbody tr th:only-of-type {\n",
       "        vertical-align: middle;\n",
       "    }\n",
       "\n",
       "    .dataframe tbody tr th {\n",
       "        vertical-align: top;\n",
       "    }\n",
       "\n",
       "    .dataframe thead th {\n",
       "        text-align: right;\n",
       "    }\n",
       "</style>\n",
       "<table border=\"1\" class=\"dataframe\">\n",
       "  <thead>\n",
       "    <tr style=\"text-align: right;\">\n",
       "      <th></th>\n",
       "      <th>Year</th>\n",
       "      <th>Dine_In</th>\n",
       "      <th>Home_Delivery</th>\n",
       "    </tr>\n",
       "  </thead>\n",
       "  <tbody>\n",
       "    <tr>\n",
       "      <th>0</th>\n",
       "      <td>1990</td>\n",
       "      <td>5649</td>\n",
       "      <td>0</td>\n",
       "    </tr>\n",
       "    <tr>\n",
       "      <th>1</th>\n",
       "      <td>1991</td>\n",
       "      <td>5539</td>\n",
       "      <td>0</td>\n",
       "    </tr>\n",
       "    <tr>\n",
       "      <th>2</th>\n",
       "      <td>1992</td>\n",
       "      <td>5760</td>\n",
       "      <td>104</td>\n",
       "    </tr>\n",
       "    <tr>\n",
       "      <th>3</th>\n",
       "      <td>1993</td>\n",
       "      <td>6509</td>\n",
       "      <td>76</td>\n",
       "    </tr>\n",
       "    <tr>\n",
       "      <th>4</th>\n",
       "      <td>1994</td>\n",
       "      <td>6982</td>\n",
       "      <td>156</td>\n",
       "    </tr>\n",
       "  </tbody>\n",
       "</table>\n",
       "</div>"
      ],
      "text/plain": [
       "   Year  Dine_In  Home_Delivery\n",
       "0  1990     5649              0\n",
       "1  1991     5539              0\n",
       "2  1992     5760            104\n",
       "3  1993     6509             76\n",
       "4  1994     6982            156"
      ]
     },
     "execution_count": 119,
     "metadata": {},
     "output_type": "execute_result"
    }
   ],
   "source": [
    "dining_preferences.head()"
   ]
  },
  {
   "cell_type": "code",
   "execution_count": 120,
   "metadata": {},
   "outputs": [
    {
     "data": {
      "image/png": "[encoded data removed]",
      "text/plain": [
       "<Figure size 432x288 with 1 Axes>"
      ]
     },
     "metadata": {
      "needs_background": "light"
     },
     "output_type": "display_data"
    }
   ],
   "source": [
    "sns.scatterplot(x = 'Year', y = 'Dine_In', data = dining_preferences, color = 'red', label = 'Dine_In')\n",
    "sns.scatterplot(x = 'Year', y = 'Home_Delivery', data = dining_preferences, color = 'blue', label = 'Home_Delivery')\n",
    "plt.legend()\n",
    "plt.xlabel('Year')\n",
    "plt.ylabel('No. of consumers')\n",
    "plt.title('Dine_In vs. Home_Delivery from 1990 to 2016')\n",
    "plt.show()"
   ]
  },
  {
   "cell_type": "markdown",
   "metadata": {},
   "source": [
    "# Simpson's Paradox"
   ]
  },
  {
   "cell_type": "code",
   "execution_count": 121,
   "metadata": {},
   "outputs": [
    {
     "data": {
      "text/html": [
       "<div>\n",
       "<style scoped>\n",
       "    .dataframe tbody tr th:only-of-type {\n",
       "        vertical-align: middle;\n",
       "    }\n",
       "\n",
       "    .dataframe tbody tr th {\n",
       "        vertical-align: top;\n",
       "    }\n",
       "\n",
       "    .dataframe thead th {\n",
       "        text-align: right;\n",
       "    }\n",
       "</style>\n",
       "<table border=\"1\" class=\"dataframe\">\n",
       "  <thead>\n",
       "    <tr style=\"text-align: right;\">\n",
       "      <th></th>\n",
       "      <th>Day</th>\n",
       "      <th>TicketNo.</th>\n",
       "      <th>Assignee</th>\n",
       "      <th>Status</th>\n",
       "    </tr>\n",
       "  </thead>\n",
       "  <tbody>\n",
       "    <tr>\n",
       "      <th>0</th>\n",
       "      <td>Day1</td>\n",
       "      <td>T1</td>\n",
       "      <td>Bob</td>\n",
       "      <td>Pending</td>\n",
       "    </tr>\n",
       "    <tr>\n",
       "      <th>1</th>\n",
       "      <td>Day1</td>\n",
       "      <td>T2</td>\n",
       "      <td>John</td>\n",
       "      <td>Pending</td>\n",
       "    </tr>\n",
       "    <tr>\n",
       "      <th>2</th>\n",
       "      <td>Day1</td>\n",
       "      <td>T3</td>\n",
       "      <td>Bob</td>\n",
       "      <td>Resolved</td>\n",
       "    </tr>\n",
       "    <tr>\n",
       "      <th>3</th>\n",
       "      <td>Day1</td>\n",
       "      <td>T4</td>\n",
       "      <td>Bob</td>\n",
       "      <td>Pending</td>\n",
       "    </tr>\n",
       "    <tr>\n",
       "      <th>4</th>\n",
       "      <td>Day1</td>\n",
       "      <td>T5</td>\n",
       "      <td>Bob</td>\n",
       "      <td>Pending</td>\n",
       "    </tr>\n",
       "    <tr>\n",
       "      <th>5</th>\n",
       "      <td>Day2</td>\n",
       "      <td>T1</td>\n",
       "      <td>John</td>\n",
       "      <td>Resolved</td>\n",
       "    </tr>\n",
       "    <tr>\n",
       "      <th>6</th>\n",
       "      <td>Day2</td>\n",
       "      <td>T2</td>\n",
       "      <td>John</td>\n",
       "      <td>Resolved</td>\n",
       "    </tr>\n",
       "    <tr>\n",
       "      <th>7</th>\n",
       "      <td>Day2</td>\n",
       "      <td>T3</td>\n",
       "      <td>Bob</td>\n",
       "      <td>Resolved</td>\n",
       "    </tr>\n",
       "    <tr>\n",
       "      <th>8</th>\n",
       "      <td>Day2</td>\n",
       "      <td>T4</td>\n",
       "      <td>John</td>\n",
       "      <td>Pending</td>\n",
       "    </tr>\n",
       "    <tr>\n",
       "      <th>9</th>\n",
       "      <td>Day2</td>\n",
       "      <td>T5</td>\n",
       "      <td>John</td>\n",
       "      <td>Resolved</td>\n",
       "    </tr>\n",
       "  </tbody>\n",
       "</table>\n",
       "</div>"
      ],
      "text/plain": [
       "    Day TicketNo. Assignee    Status\n",
       "0  Day1        T1      Bob   Pending\n",
       "1  Day1        T2     John   Pending\n",
       "2  Day1        T3      Bob  Resolved\n",
       "3  Day1        T4      Bob   Pending\n",
       "4  Day1        T5      Bob   Pending\n",
       "5  Day2        T1     John  Resolved\n",
       "6  Day2        T2     John  Resolved\n",
       "7  Day2        T3      Bob  Resolved\n",
       "8  Day2        T4     John   Pending\n",
       "9  Day2        T5     John  Resolved"
      ]
     },
     "execution_count": 121,
     "metadata": {},
     "output_type": "execute_result"
    }
   ],
   "source": [
    "df = pd.DataFrame([[\"Day1\",\"T1\",\"Bob\",\"Pending\"], \n",
    "                   [\"Day1\",\"T2\",\"John\",\"Pending\"],\n",
    "                   [\"Day1\",\"T3\",\"Bob\",\"Resolved\"],\n",
    "                   [\"Day1\",\"T4\",\"Bob\",\"Pending\"],\n",
    "                   [\"Day1\",\"T5\",\"Bob\",\"Pending\"],\n",
    "                   [\"Day2\",\"T1\",\"John\",\"Resolved\"],\n",
    "                   [\"Day2\",\"T2\",\"John\",\"Resolved\"],\n",
    "                   [\"Day2\",\"T3\",\"Bob\",\"Resolved\"],\n",
    "                   [\"Day2\",\"T4\",\"John\",\"Pending\"],\n",
    "                   [\"Day2\",\"T5\",\"John\",\"Resolved\"]],\n",
    "                   columns = ['Day', 'TicketNo.','Assignee','Status'])\n",
    "df"
   ]
  },
  {
   "cell_type": "code",
   "execution_count": 122,
   "metadata": {},
   "outputs": [
    {
     "data": {
      "text/html": [
       "<div>\n",
       "<style scoped>\n",
       "    .dataframe tbody tr th:only-of-type {\n",
       "        vertical-align: middle;\n",
       "    }\n",
       "\n",
       "    .dataframe tbody tr th {\n",
       "        vertical-align: top;\n",
       "    }\n",
       "\n",
       "    .dataframe thead th {\n",
       "        text-align: right;\n",
       "    }\n",
       "</style>\n",
       "<table border=\"1\" class=\"dataframe\">\n",
       "  <thead>\n",
       "    <tr style=\"text-align: right;\">\n",
       "      <th></th>\n",
       "      <th>Pending</th>\n",
       "      <th>Resolved</th>\n",
       "    </tr>\n",
       "    <tr>\n",
       "      <th>Assignee</th>\n",
       "      <th></th>\n",
       "      <th></th>\n",
       "    </tr>\n",
       "  </thead>\n",
       "  <tbody>\n",
       "    <tr>\n",
       "      <th>Bob</th>\n",
       "      <td>3</td>\n",
       "      <td>2</td>\n",
       "    </tr>\n",
       "    <tr>\n",
       "      <th>John</th>\n",
       "      <td>2</td>\n",
       "      <td>3</td>\n",
       "    </tr>\n",
       "  </tbody>\n",
       "</table>\n",
       "</div>"
      ],
      "text/plain": [
       "          Pending  Resolved\n",
       "Assignee                   \n",
       "Bob             3         2\n",
       "John            2         3"
      ]
     },
     "execution_count": 122,
     "metadata": {},
     "output_type": "execute_result"
    }
   ],
   "source": [
    "pd.crosstab(index = df[\"Assignee\"],  columns=df[\"Status\"], colnames = [''])"
   ]
  },
  {
   "cell_type": "code",
   "execution_count": 123,
   "metadata": {},
   "outputs": [
    {
     "data": {
      "text/html": [
       "<div>\n",
       "<style scoped>\n",
       "    .dataframe tbody tr th:only-of-type {\n",
       "        vertical-align: middle;\n",
       "    }\n",
       "\n",
       "    .dataframe tbody tr th {\n",
       "        vertical-align: top;\n",
       "    }\n",
       "\n",
       "    .dataframe thead tr th {\n",
       "        text-align: left;\n",
       "    }\n",
       "\n",
       "    .dataframe thead tr:last-of-type th {\n",
       "        text-align: right;\n",
       "    }\n",
       "</style>\n",
       "<table border=\"1\" class=\"dataframe\">\n",
       "  <thead>\n",
       "    <tr>\n",
       "      <th>Day</th>\n",
       "      <th colspan=\"2\" halign=\"left\">Day1</th>\n",
       "      <th colspan=\"2\" halign=\"left\">Day2</th>\n",
       "    </tr>\n",
       "    <tr>\n",
       "      <th>Status</th>\n",
       "      <th>Pending</th>\n",
       "      <th>Resolved</th>\n",
       "      <th>Pending</th>\n",
       "      <th>Resolved</th>\n",
       "    </tr>\n",
       "    <tr>\n",
       "      <th>Assignee</th>\n",
       "      <th></th>\n",
       "      <th></th>\n",
       "      <th></th>\n",
       "      <th></th>\n",
       "    </tr>\n",
       "  </thead>\n",
       "  <tbody>\n",
       "    <tr>\n",
       "      <th>Bob</th>\n",
       "      <td>3</td>\n",
       "      <td>1</td>\n",
       "      <td>0</td>\n",
       "      <td>1</td>\n",
       "    </tr>\n",
       "    <tr>\n",
       "      <th>John</th>\n",
       "      <td>1</td>\n",
       "      <td>0</td>\n",
       "      <td>1</td>\n",
       "      <td>3</td>\n",
       "    </tr>\n",
       "  </tbody>\n",
       "</table>\n",
       "</div>"
      ],
      "text/plain": [
       "Day         Day1             Day2         \n",
       "Status   Pending Resolved Pending Resolved\n",
       "Assignee                                  \n",
       "Bob            3        1       0        1\n",
       "John           1        0       1        3"
      ]
     },
     "execution_count": 123,
     "metadata": {},
     "output_type": "execute_result"
    }
   ],
   "source": [
    "pd.crosstab(index = df[\"Assignee\"],  columns=[df[\"Day\"],df[\"Status\"]])"
   ]
  },
  {
   "cell_type": "code",
   "execution_count": 124,
   "metadata": {},
   "outputs": [
    {
     "data": {
      "text/html": [
       "<div>\n",
       "<style scoped>\n",
       "    .dataframe tbody tr th:only-of-type {\n",
       "        vertical-align: middle;\n",
       "    }\n",
       "\n",
       "    .dataframe tbody tr th {\n",
       "        vertical-align: top;\n",
       "    }\n",
       "\n",
       "    .dataframe thead th {\n",
       "        text-align: right;\n",
       "    }\n",
       "</style>\n",
       "<table border=\"1\" class=\"dataframe\">\n",
       "  <thead>\n",
       "    <tr style=\"text-align: right;\">\n",
       "      <th></th>\n",
       "      <th>Status</th>\n",
       "      <th>Pending</th>\n",
       "      <th>Resolved</th>\n",
       "    </tr>\n",
       "    <tr>\n",
       "      <th>Day</th>\n",
       "      <th>Assignee</th>\n",
       "      <th></th>\n",
       "      <th></th>\n",
       "    </tr>\n",
       "  </thead>\n",
       "  <tbody>\n",
       "    <tr>\n",
       "      <th rowspan=\"2\" valign=\"top\">Day1</th>\n",
       "      <th>Bob</th>\n",
       "      <td>3</td>\n",
       "      <td>1</td>\n",
       "    </tr>\n",
       "    <tr>\n",
       "      <th>John</th>\n",
       "      <td>1</td>\n",
       "      <td>0</td>\n",
       "    </tr>\n",
       "    <tr>\n",
       "      <th rowspan=\"2\" valign=\"top\">Day2</th>\n",
       "      <th>Bob</th>\n",
       "      <td>0</td>\n",
       "      <td>1</td>\n",
       "    </tr>\n",
       "    <tr>\n",
       "      <th>John</th>\n",
       "      <td>1</td>\n",
       "      <td>3</td>\n",
       "    </tr>\n",
       "  </tbody>\n",
       "</table>\n",
       "</div>"
      ],
      "text/plain": [
       "Status         Pending  Resolved\n",
       "Day  Assignee                   \n",
       "Day1 Bob             3         1\n",
       "     John            1         0\n",
       "Day2 Bob             0         1\n",
       "     John            1         3"
      ]
     },
     "execution_count": 124,
     "metadata": {},
     "output_type": "execute_result"
    }
   ],
   "source": [
    "pd.crosstab(index = [df.Day,df.Assignee],  columns=df.Status)"
   ]
  }
 ],
 "metadata": {
  "kernelspec": {
   "display_name": "Python 3 (ipykernel)",
   "language": "python",
   "name": "python3"
  },
  "language_info": {
   "codemirror_mode": {
    "name": "ipython",
    "version": 3
   },
   "file_extension": ".py",
   "mimetype": "text/x-python",
   "name": "python",
   "nbconvert_exporter": "python",
   "pygments_lexer": "ipython3",
   "version": "3.11.7"
  }
 },
 "nbformat": 4,
 "nbformat_minor": 4
}
